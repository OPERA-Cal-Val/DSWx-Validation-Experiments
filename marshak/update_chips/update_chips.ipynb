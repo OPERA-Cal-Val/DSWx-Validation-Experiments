{
 "cells": [
  {
   "cell_type": "code",
   "execution_count": 1,
   "id": "constant-arctic",
   "metadata": {
    "ExecuteTime": {
     "end_time": "2022-06-24T18:16:41.004921Z",
     "start_time": "2022-06-24T18:16:39.863887Z"
    }
   },
   "outputs": [],
   "source": [
    "import geopandas as gpd"
   ]
  },
  {
   "cell_type": "code",
   "execution_count": 2,
   "id": "happy-request",
   "metadata": {
    "ExecuteTime": {
     "end_time": "2022-06-24T18:16:41.090007Z",
     "start_time": "2022-06-24T18:16:41.028563Z"
    }
   },
   "outputs": [
    {
     "data": {
      "text/html": [
       "<div>\n",
       "<style scoped>\n",
       "    .dataframe tbody tr th:only-of-type {\n",
       "        vertical-align: middle;\n",
       "    }\n",
       "\n",
       "    .dataframe tbody tr th {\n",
       "        vertical-align: top;\n",
       "    }\n",
       "\n",
       "    .dataframe thead th {\n",
       "        text-align: right;\n",
       "    }\n",
       "</style>\n",
       "<table border=\"1\" class=\"dataframe\">\n",
       "  <thead>\n",
       "    <tr style=\"text-align: right;\">\n",
       "      <th></th>\n",
       "      <th>CENTERX</th>\n",
       "      <th>CENTERY</th>\n",
       "      <th>STRATA</th>\n",
       "      <th>SAMPLE_ID</th>\n",
       "      <th>date</th>\n",
       "      <th>LS_Validat</th>\n",
       "      <th>random_id</th>\n",
       "      <th>geometry</th>\n",
       "    </tr>\n",
       "  </thead>\n",
       "  <tbody>\n",
       "    <tr>\n",
       "      <th>0</th>\n",
       "      <td>-159.648125</td>\n",
       "      <td>69.21</td>\n",
       "      <td>3</td>\n",
       "      <td>3_38</td>\n",
       "      <td>2011-07-17</td>\n",
       "      <td>1</td>\n",
       "      <td>99</td>\n",
       "      <td>MULTIPOLYGON (((-159.89875 69.30000, -159.6590...</td>\n",
       "    </tr>\n",
       "    <tr>\n",
       "      <th>1</th>\n",
       "      <td>-112.983750</td>\n",
       "      <td>67.05</td>\n",
       "      <td>4</td>\n",
       "      <td>4_27</td>\n",
       "      <td>2012-07-23</td>\n",
       "      <td>1</td>\n",
       "      <td>114</td>\n",
       "      <td>MULTIPOLYGON (((-113.21200 67.14000, -113.0985...</td>\n",
       "    </tr>\n",
       "    <tr>\n",
       "      <th>2</th>\n",
       "      <td>17.698500</td>\n",
       "      <td>65.97</td>\n",
       "      <td>4</td>\n",
       "      <td>4_43</td>\n",
       "      <td>2010-07-24</td>\n",
       "      <td>1</td>\n",
       "      <td>20</td>\n",
       "      <td>MULTIPOLYGON (((17.61000 66.06000, 17.91700 66...</td>\n",
       "    </tr>\n",
       "    <tr>\n",
       "      <th>3</th>\n",
       "      <td>59.675000</td>\n",
       "      <td>65.79</td>\n",
       "      <td>3</td>\n",
       "      <td>3_1</td>\n",
       "      <td>2011-07-13</td>\n",
       "      <td>1</td>\n",
       "      <td>112</td>\n",
       "      <td>MULTIPOLYGON (((59.86900 65.88000, 59.89200 65...</td>\n",
       "    </tr>\n",
       "    <tr>\n",
       "      <th>4</th>\n",
       "      <td>-96.604375</td>\n",
       "      <td>62.73</td>\n",
       "      <td>4</td>\n",
       "      <td>4_34</td>\n",
       "      <td>2012-08-27</td>\n",
       "      <td>1</td>\n",
       "      <td>115</td>\n",
       "      <td>MULTIPOLYGON (((-96.79875 62.82000, -96.57700 ...</td>\n",
       "    </tr>\n",
       "  </tbody>\n",
       "</table>\n",
       "</div>"
      ],
      "text/plain": [
       "      CENTERX  CENTERY  STRATA SAMPLE_ID        date  LS_Validat  random_id  \\\n",
       "0 -159.648125    69.21       3      3_38  2011-07-17           1         99   \n",
       "1 -112.983750    67.05       4      4_27  2012-07-23           1        114   \n",
       "2   17.698500    65.97       4      4_43  2010-07-24           1         20   \n",
       "3   59.675000    65.79       3       3_1  2011-07-13           1        112   \n",
       "4  -96.604375    62.73       4      4_34  2012-08-27           1        115   \n",
       "\n",
       "                                            geometry  \n",
       "0  MULTIPOLYGON (((-159.89875 69.30000, -159.6590...  \n",
       "1  MULTIPOLYGON (((-113.21200 67.14000, -113.0985...  \n",
       "2  MULTIPOLYGON (((17.61000 66.06000, 17.91700 66...  \n",
       "3  MULTIPOLYGON (((59.86900 65.88000, 59.89200 65...  \n",
       "4  MULTIPOLYGON (((-96.79875 62.82000, -96.57700 ...  "
      ]
     },
     "execution_count": 2,
     "metadata": {},
     "output_type": "execute_result"
    }
   ],
   "source": [
    "df = gpd.read_file('ResampleblocksUpd.geojson')\n",
    "df.head()"
   ]
  },
  {
   "cell_type": "code",
   "execution_count": 3,
   "id": "useful-juice",
   "metadata": {
    "ExecuteTime": {
     "end_time": "2022-06-24T18:16:41.994412Z",
     "start_time": "2022-06-24T18:16:41.987715Z"
    }
   },
   "outputs": [],
   "source": [
    "def polygonize(geo):\n",
    "    for poly in geo.geoms:\n",
    "        return poly\n",
    "\n",
    "df['geometry'] = df.geometry.map(polygonize)"
   ]
  },
  {
   "cell_type": "code",
   "execution_count": 4,
   "id": "bound-feedback",
   "metadata": {
    "ExecuteTime": {
     "end_time": "2022-06-24T18:16:42.821744Z",
     "start_time": "2022-06-24T18:16:42.812034Z"
    }
   },
   "outputs": [
    {
     "data": {
      "text/html": [
       "<div>\n",
       "<style scoped>\n",
       "    .dataframe tbody tr th:only-of-type {\n",
       "        vertical-align: middle;\n",
       "    }\n",
       "\n",
       "    .dataframe tbody tr th {\n",
       "        vertical-align: top;\n",
       "    }\n",
       "\n",
       "    .dataframe thead th {\n",
       "        text-align: right;\n",
       "    }\n",
       "</style>\n",
       "<table border=\"1\" class=\"dataframe\">\n",
       "  <thead>\n",
       "    <tr style=\"text-align: right;\">\n",
       "      <th></th>\n",
       "      <th>CENTERX</th>\n",
       "      <th>CENTERY</th>\n",
       "      <th>STRATA</th>\n",
       "      <th>SAMPLE_ID</th>\n",
       "      <th>date</th>\n",
       "      <th>LS_Validat</th>\n",
       "      <th>random_id</th>\n",
       "      <th>geometry</th>\n",
       "    </tr>\n",
       "  </thead>\n",
       "  <tbody>\n",
       "    <tr>\n",
       "      <th>0</th>\n",
       "      <td>-159.648125</td>\n",
       "      <td>69.21</td>\n",
       "      <td>3</td>\n",
       "      <td>3_38</td>\n",
       "      <td>2011-07-17</td>\n",
       "      <td>1</td>\n",
       "      <td>99</td>\n",
       "      <td>POLYGON ((-159.89875 69.30000, -159.65900 69.3...</td>\n",
       "    </tr>\n",
       "    <tr>\n",
       "      <th>1</th>\n",
       "      <td>-112.983750</td>\n",
       "      <td>67.05</td>\n",
       "      <td>4</td>\n",
       "      <td>4_27</td>\n",
       "      <td>2012-07-23</td>\n",
       "      <td>1</td>\n",
       "      <td>114</td>\n",
       "      <td>POLYGON ((-113.21200 67.14000, -113.09850 67.1...</td>\n",
       "    </tr>\n",
       "    <tr>\n",
       "      <th>2</th>\n",
       "      <td>17.698500</td>\n",
       "      <td>65.97</td>\n",
       "      <td>4</td>\n",
       "      <td>4_43</td>\n",
       "      <td>2010-07-24</td>\n",
       "      <td>1</td>\n",
       "      <td>20</td>\n",
       "      <td>POLYGON ((17.61000 66.06000, 17.91700 66.06000...</td>\n",
       "    </tr>\n",
       "    <tr>\n",
       "      <th>3</th>\n",
       "      <td>59.675000</td>\n",
       "      <td>65.79</td>\n",
       "      <td>3</td>\n",
       "      <td>3_1</td>\n",
       "      <td>2011-07-13</td>\n",
       "      <td>1</td>\n",
       "      <td>112</td>\n",
       "      <td>POLYGON ((59.86900 65.88000, 59.89200 65.88000...</td>\n",
       "    </tr>\n",
       "    <tr>\n",
       "      <th>4</th>\n",
       "      <td>-96.604375</td>\n",
       "      <td>62.73</td>\n",
       "      <td>4</td>\n",
       "      <td>4_34</td>\n",
       "      <td>2012-08-27</td>\n",
       "      <td>1</td>\n",
       "      <td>115</td>\n",
       "      <td>POLYGON ((-96.79875 62.82000, -96.57700 62.820...</td>\n",
       "    </tr>\n",
       "  </tbody>\n",
       "</table>\n",
       "</div>"
      ],
      "text/plain": [
       "      CENTERX  CENTERY  STRATA SAMPLE_ID        date  LS_Validat  random_id  \\\n",
       "0 -159.648125    69.21       3      3_38  2011-07-17           1         99   \n",
       "1 -112.983750    67.05       4      4_27  2012-07-23           1        114   \n",
       "2   17.698500    65.97       4      4_43  2010-07-24           1         20   \n",
       "3   59.675000    65.79       3       3_1  2011-07-13           1        112   \n",
       "4  -96.604375    62.73       4      4_34  2012-08-27           1        115   \n",
       "\n",
       "                                            geometry  \n",
       "0  POLYGON ((-159.89875 69.30000, -159.65900 69.3...  \n",
       "1  POLYGON ((-113.21200 67.14000, -113.09850 67.1...  \n",
       "2  POLYGON ((17.61000 66.06000, 17.91700 66.06000...  \n",
       "3  POLYGON ((59.86900 65.88000, 59.89200 65.88000...  \n",
       "4  POLYGON ((-96.79875 62.82000, -96.57700 62.820...  "
      ]
     },
     "execution_count": 4,
     "metadata": {},
     "output_type": "execute_result"
    }
   ],
   "source": [
    "df.head()"
   ]
  },
  {
   "cell_type": "code",
   "execution_count": 5,
   "id": "super-dover",
   "metadata": {
    "ExecuteTime": {
     "end_time": "2022-06-24T18:16:44.796846Z",
     "start_time": "2022-06-24T18:16:44.747525Z"
    }
   },
   "outputs": [
    {
     "name": "stderr",
     "output_type": "stream",
     "text": [
      "/Users/cmarshak/opt/anaconda3/envs/dswx_calval/lib/python3.9/site-packages/geopandas/io/file.py:362: FutureWarning: pandas.Int64Index is deprecated and will be removed from pandas in a future version. Use pandas.Index with the appropriate dtype instead.\n",
      "  pd.Int64Index,\n"
     ]
    }
   ],
   "source": [
    "df.to_file('chips.geojson', driver='GeoJSON')"
   ]
  }
 ],
 "metadata": {
  "kernelspec": {
   "display_name": "dswx_calval",
   "language": "python",
   "name": "dswx_calval"
  },
  "language_info": {
   "codemirror_mode": {
    "name": "ipython",
    "version": 3
   },
   "file_extension": ".py",
   "mimetype": "text/x-python",
   "name": "python",
   "nbconvert_exporter": "python",
   "pygments_lexer": "ipython3",
   "version": "3.9.13"
  }
 },
 "nbformat": 4,
 "nbformat_minor": 5
}
