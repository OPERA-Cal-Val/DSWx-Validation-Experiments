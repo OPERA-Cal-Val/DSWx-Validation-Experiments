{
 "cells": [
  {
   "cell_type": "code",
   "execution_count": 1,
   "id": "7bd2d103-47c4-49e5-b9be-dbdde930bfac",
   "metadata": {},
   "outputs": [],
   "source": [
    "import geopandas as gpd\n",
    "from dem_stitcher.geojson_io import read_geojson_gzip\n",
    "from tqdm import tqdm\n",
    "import pandas as pd"
   ]
  },
  {
   "cell_type": "code",
   "execution_count": 2,
   "id": "ff3e7dc2-9a6b-46d1-b748-694528ab12bb",
   "metadata": {},
   "outputs": [
    {
     "data": {
      "text/html": [
       "<div>\n",
       "<style scoped>\n",
       "    .dataframe tbody tr th:only-of-type {\n",
       "        vertical-align: middle;\n",
       "    }\n",
       "\n",
       "    .dataframe tbody tr th {\n",
       "        vertical-align: top;\n",
       "    }\n",
       "\n",
       "    .dataframe thead th {\n",
       "        text-align: right;\n",
       "    }\n",
       "</style>\n",
       "<table border=\"1\" class=\"dataframe\">\n",
       "  <thead>\n",
       "    <tr style=\"text-align: right;\">\n",
       "      <th></th>\n",
       "      <th>geometry</th>\n",
       "      <th>type</th>\n",
       "      <th>identifier</th>\n",
       "    </tr>\n",
       "  </thead>\n",
       "  <tbody>\n",
       "    <tr>\n",
       "      <th>0</th>\n",
       "      <td>MULTIPOLYGON Z (((180.00000 -73.05974 0.00000,...</td>\n",
       "      <td>S2</td>\n",
       "      <td>01CCV</td>\n",
       "    </tr>\n",
       "    <tr>\n",
       "      <th>1</th>\n",
       "      <td>MULTIPOLYGON Z (((180.00000 -83.80855 0.00000,...</td>\n",
       "      <td>S2</td>\n",
       "      <td>01CDH</td>\n",
       "    </tr>\n",
       "    <tr>\n",
       "      <th>2</th>\n",
       "      <td>MULTIPOLYGON Z (((180.00000 -82.91344 0.00000,...</td>\n",
       "      <td>S2</td>\n",
       "      <td>01CDJ</td>\n",
       "    </tr>\n",
       "    <tr>\n",
       "      <th>3</th>\n",
       "      <td>MULTIPOLYGON Z (((180.00000 -82.01866 0.00000,...</td>\n",
       "      <td>S2</td>\n",
       "      <td>01CDK</td>\n",
       "    </tr>\n",
       "    <tr>\n",
       "      <th>4</th>\n",
       "      <td>MULTIPOLYGON Z (((180.00000 -81.12317 0.00000,...</td>\n",
       "      <td>S2</td>\n",
       "      <td>01CDL</td>\n",
       "    </tr>\n",
       "  </tbody>\n",
       "</table>\n",
       "</div>"
      ],
      "text/plain": [
       "                                            geometry type identifier\n",
       "0  MULTIPOLYGON Z (((180.00000 -73.05974 0.00000,...   S2      01CCV\n",
       "1  MULTIPOLYGON Z (((180.00000 -83.80855 0.00000,...   S2      01CDH\n",
       "2  MULTIPOLYGON Z (((180.00000 -82.91344 0.00000,...   S2      01CDJ\n",
       "3  MULTIPOLYGON Z (((180.00000 -82.01866 0.00000,...   S2      01CDK\n",
       "4  MULTIPOLYGON Z (((180.00000 -81.12317 0.00000,...   S2      01CDL"
      ]
     },
     "execution_count": 2,
     "metadata": {},
     "output_type": "execute_result"
    }
   ],
   "source": [
    "df_mgrs = read_geojson_gzip('s2_mgrs_grid.geojson.gzip')\n",
    "df_mgrs.head()"
   ]
  },
  {
   "cell_type": "code",
   "execution_count": 3,
   "id": "3aa4f039-b31b-4657-ac16-25bd6c5032b7",
   "metadata": {},
   "outputs": [],
   "source": [
    "import warnings\n",
    "from functools import lru_cache\n",
    "from pathlib import Path\n",
    "\n",
    "import pandas as pd\n",
    "import rasterio.mask\n",
    "from rasterio.warp import transform_bounds\n",
    "from rasterio.crs import CRS\n",
    "import urllib3\n",
    "from dotenv import dotenv_values\n",
    "from elasticsearch import Elasticsearch, client\n",
    "from elasticsearch_dsl import Q, Search\n",
    "from shapely.geometry import box\n",
    "\n",
    "urllib3.disable_warnings()\n",
    "INDICES = {\"dswx_hls\": \"grq_*_hls-2023.09\",\n",
    "           \"dswx_s1\": \"grq_v0.1_l3_dswx_s1-*\",\n",
    "           \"rtc\": \"grq_v1.0_l2_rtc_s1-*\"}\n",
    "\n",
    "\n",
    "@lru_cache\n",
    "def get_es_search_client(prod=\"dswx_hls\") -> client.Elasticsearch:\n",
    "    if prod not in INDICES.keys():\n",
    "        raise ValueError(f'prod must be {\", \".join(INDICES.keys())}')\n",
    "    index = INDICES[prod]\n",
    "\n",
    "    config = dotenv_values()\n",
    "    ES_USERNAME = config[\"ES_USERNAME\"]\n",
    "    ES_PASSWORD = config[\"ES_PASSWORD\"]\n",
    "    GRQ_URL = \"https://100.104.62.10/grq_es/\"\n",
    "    grq_client = Elasticsearch(\n",
    "        GRQ_URL,\n",
    "        http_auth=(ES_USERNAME, ES_PASSWORD),\n",
    "        verify_certs=False,\n",
    "        read_timeout=50000,\n",
    "        terminate_after=2500,\n",
    "    )\n",
    "    search = Search(using=grq_client, index=index)\n",
    "\n",
    "    if not grq_client.ping():\n",
    "        raise ValueError(\"Either JPL username/password is wrong or not connected to VPN\")\n",
    "\n",
    "    return search\n",
    "\n",
    "\n",
    "\n",
    "def get_dswx_s1_doc(mgrs_tile: str) -> dict:\n",
    "    search = get_es_search_client(prod=\"dswx_s1\")\n",
    "\n",
    "    mgrs_token = mgrs_tile\n",
    "\n",
    "    query = Q(\"simple_query_string\", query=f\"{mgrs_token}\", fields=[\"id\"], default_operator=\"and\")\n",
    "\n",
    "    query_ob = search.query(query)\n",
    "    total = query_ob.count()\n",
    "    resp = query_ob[:total].execute()\n",
    "    hits = [hit.to_dict() for hit in resp.hits]\n",
    "    return hits\n",
    "\n",
    "def format_hits_for_rtc_inputs(hit: dict):\n",
    "    h5_files = [f for f in hit['metadata']['accountability']['L3_DSWx_S1']['inputs'] if f[-3:] == '.h5']\n",
    "    rtc_ids = [h5[:-3] for h5 in h5_files]\n",
    "    return [dict(dswx_s1_id=hit['id'],\n",
    "                 rtc_id=rtc_id) for rtc_id in rtc_ids]\n",
    "def format_hits_for_dswx_s1(hit: dict):\n",
    "    product_urls = [url for url in sorted(hit['metadata']['product_urls']) if url[-4:] == '.tif']\n",
    "    return dict(dswx_s1_id=hit['id'],\n",
    "                dswx_s1_wtr=product_urls[0],\n",
    "                dswx_s1_conf=product_urls[2],\n",
    "                )"
   ]
  },
  {
   "cell_type": "code",
   "execution_count": 4,
   "id": "56e05225-8a1d-4335-a686-507e3a8bbf2f",
   "metadata": {},
   "outputs": [
    {
     "name": "stderr",
     "output_type": "stream",
     "text": [
      "/Users/cmarshak/miniforge3/envs/dswx_val/lib/python3.12/site-packages/elasticsearch/connection/http_urllib3.py:209: UserWarning: Connecting to https://100.104.62.10:443 using SSL with verify_certs=False is insecure.\n",
      "  warnings.warn(\n"
     ]
    },
    {
     "data": {
      "text/plain": [
       "{'dswx_s1_id': 'OPERA_L3_DSWx-S1_T22JDM_20240508T220706Z_20240524T005858Z_S1A_30_v0.1',\n",
       " 'dswx_s1_wtr': 'https://opera-pst-rs-pop1.s3.us-west-2.amazonaws.com/products/DSWx_S1/OPERA_L3_DSWx-S1_T22JDM_20240508T220706Z_20240524T005858Z_S1A_30_v0.1/OPERA_L3_DSWx-S1_T22JDM_20240508T220706Z_20240524T005858Z_S1A_30_v0.1_B01_WTR.tif',\n",
       " 'dswx_s1_conf': 'https://opera-pst-rs-pop1.s3.us-west-2.amazonaws.com/products/DSWx_S1/OPERA_L3_DSWx-S1_T22JDM_20240508T220706Z_20240524T005858Z_S1A_30_v0.1/OPERA_L3_DSWx-S1_T22JDM_20240508T220706Z_20240524T005858Z_S1A_30_v0.1_B03_CONF.tif'}"
      ]
     },
     "execution_count": 4,
     "metadata": {},
     "output_type": "execute_result"
    }
   ],
   "source": [
    "hits = get_dswx_s1_doc('T22JDM')\n",
    "format_hits_for_dswx_s1(hits[0])"
   ]
  },
  {
   "cell_type": "markdown",
   "id": "bfd862e3-0c8e-4c09-8f8e-41a191d84a91",
   "metadata": {},
   "source": [
    "# DSWx-S1 Data"
   ]
  },
  {
   "cell_type": "code",
   "execution_count": 8,
   "id": "dde64e99-e372-4fc7-84aa-3208eea56fa0",
   "metadata": {},
   "outputs": [
    {
     "name": "stderr",
     "output_type": "stream",
     "text": [
      "100%|████████████████████████████████████████████████████████████████████| 10/10 [00:02<00:00,  4.99it/s]\n"
     ]
    },
    {
     "data": {
      "text/html": [
       "<div>\n",
       "<style scoped>\n",
       "    .dataframe tbody tr th:only-of-type {\n",
       "        vertical-align: middle;\n",
       "    }\n",
       "\n",
       "    .dataframe tbody tr th {\n",
       "        vertical-align: top;\n",
       "    }\n",
       "\n",
       "    .dataframe thead th {\n",
       "        text-align: right;\n",
       "    }\n",
       "</style>\n",
       "<table border=\"1\" class=\"dataframe\">\n",
       "  <thead>\n",
       "    <tr style=\"text-align: right;\">\n",
       "      <th></th>\n",
       "      <th>dswx_s1_id</th>\n",
       "      <th>dswx_s1_wtr</th>\n",
       "      <th>dswx_s1_conf</th>\n",
       "    </tr>\n",
       "  </thead>\n",
       "  <tbody>\n",
       "    <tr>\n",
       "      <th>0</th>\n",
       "      <td>OPERA_L3_DSWx-S1_T22JDM_20240508T220706Z_20240...</td>\n",
       "      <td>https://opera-pst-rs-pop1.s3.us-west-2.amazona...</td>\n",
       "      <td>https://opera-pst-rs-pop1.s3.us-west-2.amazona...</td>\n",
       "    </tr>\n",
       "    <tr>\n",
       "      <th>1</th>\n",
       "      <td>OPERA_L3_DSWx-S1_T22JDM_20231125T084942Z_20240...</td>\n",
       "      <td>https://opera-pst-rs-pop1.s3.us-west-2.amazona...</td>\n",
       "      <td>https://opera-pst-rs-pop1.s3.us-west-2.amazona...</td>\n",
       "    </tr>\n",
       "    <tr>\n",
       "      <th>2</th>\n",
       "      <td>OPERA_L3_DSWx-S1_T22JDN_20231125T084929Z_20240...</td>\n",
       "      <td>https://opera-pst-rs-pop1.s3.us-west-2.amazona...</td>\n",
       "      <td>https://opera-pst-rs-pop1.s3.us-west-2.amazona...</td>\n",
       "    </tr>\n",
       "    <tr>\n",
       "      <th>3</th>\n",
       "      <td>OPERA_L3_DSWx-S1_T22JDN_20240508T220719Z_20240...</td>\n",
       "      <td>https://opera-pst-rs-pop1.s3.us-west-2.amazona...</td>\n",
       "      <td>https://opera-pst-rs-pop1.s3.us-west-2.amazona...</td>\n",
       "    </tr>\n",
       "    <tr>\n",
       "      <th>4</th>\n",
       "      <td>OPERA_L3_DSWx-S1_T22JCN_20240508T220722Z_20240...</td>\n",
       "      <td>https://opera-pst-rs-pop1.s3.us-west-2.amazona...</td>\n",
       "      <td>https://opera-pst-rs-pop1.s3.us-west-2.amazona...</td>\n",
       "    </tr>\n",
       "  </tbody>\n",
       "</table>\n",
       "</div>"
      ],
      "text/plain": [
       "                                          dswx_s1_id  \\\n",
       "0  OPERA_L3_DSWx-S1_T22JDM_20240508T220706Z_20240...   \n",
       "1  OPERA_L3_DSWx-S1_T22JDM_20231125T084942Z_20240...   \n",
       "2  OPERA_L3_DSWx-S1_T22JDN_20231125T084929Z_20240...   \n",
       "3  OPERA_L3_DSWx-S1_T22JDN_20240508T220719Z_20240...   \n",
       "4  OPERA_L3_DSWx-S1_T22JCN_20240508T220722Z_20240...   \n",
       "\n",
       "                                         dswx_s1_wtr  \\\n",
       "0  https://opera-pst-rs-pop1.s3.us-west-2.amazona...   \n",
       "1  https://opera-pst-rs-pop1.s3.us-west-2.amazona...   \n",
       "2  https://opera-pst-rs-pop1.s3.us-west-2.amazona...   \n",
       "3  https://opera-pst-rs-pop1.s3.us-west-2.amazona...   \n",
       "4  https://opera-pst-rs-pop1.s3.us-west-2.amazona...   \n",
       "\n",
       "                                        dswx_s1_conf  \n",
       "0  https://opera-pst-rs-pop1.s3.us-west-2.amazona...  \n",
       "1  https://opera-pst-rs-pop1.s3.us-west-2.amazona...  \n",
       "2  https://opera-pst-rs-pop1.s3.us-west-2.amazona...  \n",
       "3  https://opera-pst-rs-pop1.s3.us-west-2.amazona...  \n",
       "4  https://opera-pst-rs-pop1.s3.us-west-2.amazona...  "
      ]
     },
     "execution_count": 8,
     "metadata": {},
     "output_type": "execute_result"
    }
   ],
   "source": [
    "tiles = ['22JDM', '22JDN', '22JCN', '22JBN', '22JBM', '22JCM', '22JEM', '22JEN', '22JDP', '22JEP']\n",
    "hits = [hit for tile in tqdm(tiles) for hit in get_dswx_s1_doc(tile)]\n",
    "dswx_s1_data = [format_hits_for_dswx_s1(hit) for hit in hits]\n",
    "df_dswx_s1 = pd.DataFrame(dswx_s1_data)\n",
    "df_dswx_s1.head()"
   ]
  },
  {
   "cell_type": "code",
   "execution_count": 9,
   "id": "6aef77d3-c364-4c27-99b8-8525ab8a818b",
   "metadata": {},
   "outputs": [
    {
     "data": {
      "text/plain": [
       "(22, 3)"
      ]
     },
     "execution_count": 9,
     "metadata": {},
     "output_type": "execute_result"
    }
   ],
   "source": [
    "df_dswx_s1.shape"
   ]
  },
  {
   "cell_type": "code",
   "execution_count": 10,
   "id": "f66df8bc-bcb9-45e4-9069-485e37e8a854",
   "metadata": {},
   "outputs": [],
   "source": [
    "df_dswx_s1.to_csv('dswx_s1_flood.csv')"
   ]
  }
 ],
 "metadata": {
  "kernelspec": {
   "display_name": "dswx_val",
   "language": "python",
   "name": "dswx_val"
  },
  "language_info": {
   "codemirror_mode": {
    "name": "ipython",
    "version": 3
   },
   "file_extension": ".py",
   "mimetype": "text/x-python",
   "name": "python",
   "nbconvert_exporter": "python",
   "pygments_lexer": "ipython3",
   "version": "3.12.3"
  }
 },
 "nbformat": 4,
 "nbformat_minor": 5
}
