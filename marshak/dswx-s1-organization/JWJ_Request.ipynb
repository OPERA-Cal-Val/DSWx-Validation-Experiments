{
 "cells": [
  {
   "cell_type": "markdown",
   "id": "88f87c8f-89ff-4267-b4c7-10062ae995f0",
   "metadata": {},
   "source": [
    "Request for John"
   ]
  },
  {
   "cell_type": "code",
   "execution_count": 1,
   "id": "8b71c48f-883d-4f6c-a197-759f009dd0f8",
   "metadata": {},
   "outputs": [],
   "source": [
    "import geopandas as gpd\n",
    "from dem_stitcher.geojson_io import read_geojson_gzip\n",
    "from tqdm import tqdm\n",
    "import pandas as pd\n",
    "import asf_search as asf\n",
    "import datetime\n",
    "import matplotlib.pyplot as plt"
   ]
  },
  {
   "cell_type": "code",
   "execution_count": 2,
   "id": "4b29622a-eb3f-4105-9449-29772489aa77",
   "metadata": {},
   "outputs": [],
   "source": [
    "IND = 0"
   ]
  },
  {
   "cell_type": "code",
   "execution_count": 3,
   "id": "866a1f29-cb2a-4e52-886a-c06fdccf2604",
   "metadata": {},
   "outputs": [],
   "source": [
    "TILES = ['14TMT', '10TFN', '10TFP']\n",
    "TILE = TILES[IND]"
   ]
  },
  {
   "cell_type": "code",
   "execution_count": 4,
   "id": "e491b497-f004-4b82-862b-35f73b550f24",
   "metadata": {},
   "outputs": [
    {
     "data": {
      "text/html": [
       "<div>\n",
       "<style scoped>\n",
       "    .dataframe tbody tr th:only-of-type {\n",
       "        vertical-align: middle;\n",
       "    }\n",
       "\n",
       "    .dataframe tbody tr th {\n",
       "        vertical-align: top;\n",
       "    }\n",
       "\n",
       "    .dataframe thead th {\n",
       "        text-align: right;\n",
       "    }\n",
       "</style>\n",
       "<table border=\"1\" class=\"dataframe\">\n",
       "  <thead>\n",
       "    <tr style=\"text-align: right;\">\n",
       "      <th></th>\n",
       "      <th>geometry</th>\n",
       "      <th>type</th>\n",
       "      <th>identifier</th>\n",
       "    </tr>\n",
       "  </thead>\n",
       "  <tbody>\n",
       "    <tr>\n",
       "      <th>0</th>\n",
       "      <td>MULTIPOLYGON Z (((180.00000 -73.05974 0.00000,...</td>\n",
       "      <td>S2</td>\n",
       "      <td>01CCV</td>\n",
       "    </tr>\n",
       "    <tr>\n",
       "      <th>1</th>\n",
       "      <td>MULTIPOLYGON Z (((180.00000 -83.80855 0.00000,...</td>\n",
       "      <td>S2</td>\n",
       "      <td>01CDH</td>\n",
       "    </tr>\n",
       "    <tr>\n",
       "      <th>2</th>\n",
       "      <td>MULTIPOLYGON Z (((180.00000 -82.91344 0.00000,...</td>\n",
       "      <td>S2</td>\n",
       "      <td>01CDJ</td>\n",
       "    </tr>\n",
       "    <tr>\n",
       "      <th>3</th>\n",
       "      <td>MULTIPOLYGON Z (((180.00000 -82.01866 0.00000,...</td>\n",
       "      <td>S2</td>\n",
       "      <td>01CDK</td>\n",
       "    </tr>\n",
       "    <tr>\n",
       "      <th>4</th>\n",
       "      <td>MULTIPOLYGON Z (((180.00000 -81.12317 0.00000,...</td>\n",
       "      <td>S2</td>\n",
       "      <td>01CDL</td>\n",
       "    </tr>\n",
       "  </tbody>\n",
       "</table>\n",
       "</div>"
      ],
      "text/plain": [
       "                                            geometry type identifier\n",
       "0  MULTIPOLYGON Z (((180.00000 -73.05974 0.00000,...   S2      01CCV\n",
       "1  MULTIPOLYGON Z (((180.00000 -83.80855 0.00000,...   S2      01CDH\n",
       "2  MULTIPOLYGON Z (((180.00000 -82.91344 0.00000,...   S2      01CDJ\n",
       "3  MULTIPOLYGON Z (((180.00000 -82.01866 0.00000,...   S2      01CDK\n",
       "4  MULTIPOLYGON Z (((180.00000 -81.12317 0.00000,...   S2      01CDL"
      ]
     },
     "execution_count": 4,
     "metadata": {},
     "output_type": "execute_result"
    }
   ],
   "source": [
    "df_mgrs = read_geojson_gzip('s2_mgrs_grid.geojson.gzip')\n",
    "df_mgrs.head()"
   ]
  },
  {
   "cell_type": "code",
   "execution_count": 5,
   "id": "82a05f88-22f4-4dcb-9d75-d5a82777aaf0",
   "metadata": {},
   "outputs": [
    {
     "name": "stderr",
     "output_type": "stream",
     "text": [
      "/var/folders/0p/d5x2m4tx5kg1246bplsvyfyh0000gq/T/ipykernel_71154/2774271749.py:2: UserWarning: Geometry is in a geographic CRS. Results from 'buffer' are likely incorrect. Use 'GeoSeries.to_crs()' to re-project geometries to a projected CRS before this operation.\n",
      "\n",
      "  df_mgrs_john.geometry = df_mgrs_john.geometry.buffer(1e-7)\n"
     ]
    },
    {
     "data": {
      "text/html": [
       "<div>\n",
       "<style scoped>\n",
       "    .dataframe tbody tr th:only-of-type {\n",
       "        vertical-align: middle;\n",
       "    }\n",
       "\n",
       "    .dataframe tbody tr th {\n",
       "        vertical-align: top;\n",
       "    }\n",
       "\n",
       "    .dataframe thead th {\n",
       "        text-align: right;\n",
       "    }\n",
       "</style>\n",
       "<table border=\"1\" class=\"dataframe\">\n",
       "  <thead>\n",
       "    <tr style=\"text-align: right;\">\n",
       "      <th></th>\n",
       "      <th>geometry</th>\n",
       "      <th>type</th>\n",
       "      <th>identifier</th>\n",
       "    </tr>\n",
       "  </thead>\n",
       "  <tbody>\n",
       "    <tr>\n",
       "      <th>0</th>\n",
       "      <td>POLYGON ((-121.76619 43.34620, -121.76619 43.3...</td>\n",
       "      <td>S2</td>\n",
       "      <td>10TFN</td>\n",
       "    </tr>\n",
       "    <tr>\n",
       "      <th>1</th>\n",
       "      <td>POLYGON ((-121.74752 44.24655, -121.74752 44.2...</td>\n",
       "      <td>S2</td>\n",
       "      <td>10TFP</td>\n",
       "    </tr>\n",
       "    <tr>\n",
       "      <th>2</th>\n",
       "      <td>POLYGON ((-100.33713 47.84591, -100.33713 47.8...</td>\n",
       "      <td>S2</td>\n",
       "      <td>14TMT</td>\n",
       "    </tr>\n",
       "  </tbody>\n",
       "</table>\n",
       "</div>"
      ],
      "text/plain": [
       "                                            geometry type identifier\n",
       "0  POLYGON ((-121.76619 43.34620, -121.76619 43.3...   S2      10TFN\n",
       "1  POLYGON ((-121.74752 44.24655, -121.74752 44.2...   S2      10TFP\n",
       "2  POLYGON ((-100.33713 47.84591, -100.33713 47.8...   S2      14TMT"
      ]
     },
     "execution_count": 5,
     "metadata": {},
     "output_type": "execute_result"
    }
   ],
   "source": [
    "df_mgrs_john = df_mgrs[df_mgrs.identifier.isin(TILES)].reset_index(drop=True)\n",
    "df_mgrs_john.geometry = df_mgrs_john.geometry.buffer(1e-7)\n",
    "df_mgrs_john"
   ]
  },
  {
   "cell_type": "code",
   "execution_count": 6,
   "id": "78750389-1ccd-465f-b1f2-8abd34d498d3",
   "metadata": {},
   "outputs": [],
   "source": [
    "geo = df_mgrs_john.geometry[IND]"
   ]
  },
  {
   "cell_type": "code",
   "execution_count": 7,
   "id": "5554ebfd-fb23-40fd-89de-593e2905e963",
   "metadata": {},
   "outputs": [
    {
     "data": {
      "text/html": [
       "<div>\n",
       "<style scoped>\n",
       "    .dataframe tbody tr th:only-of-type {\n",
       "        vertical-align: middle;\n",
       "    }\n",
       "\n",
       "    .dataframe tbody tr th {\n",
       "        vertical-align: top;\n",
       "    }\n",
       "\n",
       "    .dataframe thead th {\n",
       "        text-align: right;\n",
       "    }\n",
       "</style>\n",
       "<table border=\"1\" class=\"dataframe\">\n",
       "  <thead>\n",
       "    <tr style=\"text-align: right;\">\n",
       "      <th></th>\n",
       "      <th>geometry</th>\n",
       "      <th>centerLat</th>\n",
       "      <th>centerLon</th>\n",
       "      <th>stopTime</th>\n",
       "      <th>fileID</th>\n",
       "      <th>flightDirection</th>\n",
       "      <th>pathNumber</th>\n",
       "      <th>processingLevel</th>\n",
       "      <th>url</th>\n",
       "      <th>startTime</th>\n",
       "      <th>...</th>\n",
       "      <th>granuleType</th>\n",
       "      <th>orbit</th>\n",
       "      <th>polarization</th>\n",
       "      <th>processingDate</th>\n",
       "      <th>sensor</th>\n",
       "      <th>groupID</th>\n",
       "      <th>pgeVersion</th>\n",
       "      <th>fileName</th>\n",
       "      <th>beamModeType</th>\n",
       "      <th>date_str</th>\n",
       "    </tr>\n",
       "  </thead>\n",
       "  <tbody>\n",
       "    <tr>\n",
       "      <th>0</th>\n",
       "      <td>POLYGON ((-123.40879 44.08286, -122.97357 42.4...</td>\n",
       "      <td>43.4836</td>\n",
       "      <td>-121.6243</td>\n",
       "      <td>2023-12-27T02:01:52.692Z</td>\n",
       "      <td>S1A_IW_SLC__1SDV_20231227T020125_20231227T0201...</td>\n",
       "      <td>ASCENDING</td>\n",
       "      <td>137</td>\n",
       "      <td>SLC</td>\n",
       "      <td>https://datapool.asf.alaska.edu/SLC/SA/S1A_IW_...</td>\n",
       "      <td>2023-12-27 02:01:25.719000+00:00</td>\n",
       "      <td>...</td>\n",
       "      <td>SENTINEL_1A_FRAME</td>\n",
       "      <td>51834</td>\n",
       "      <td>VV+VH</td>\n",
       "      <td>2023-12-27T02:01:25.719Z</td>\n",
       "      <td>C-SAR</td>\n",
       "      <td>S1A_IWDV_0137_0144_051834_137</td>\n",
       "      <td>003.71</td>\n",
       "      <td>S1A_IW_SLC__1SDV_20231227T020125_20231227T0201...</td>\n",
       "      <td>IW</td>\n",
       "      <td>2023-12-27</td>\n",
       "    </tr>\n",
       "    <tr>\n",
       "      <th>1</th>\n",
       "      <td>POLYGON ((-123.00367 42.59434, -122.56562 40.9...</td>\n",
       "      <td>41.9652</td>\n",
       "      <td>-121.2574</td>\n",
       "      <td>2023-12-27T02:01:27.869Z</td>\n",
       "      <td>S1A_IW_SLC__1SDV_20231227T020059_20231227T0201...</td>\n",
       "      <td>ASCENDING</td>\n",
       "      <td>137</td>\n",
       "      <td>SLC</td>\n",
       "      <td>https://datapool.asf.alaska.edu/SLC/SA/S1A_IW_...</td>\n",
       "      <td>2023-12-27 02:00:59.940000+00:00</td>\n",
       "      <td>...</td>\n",
       "      <td>SENTINEL_1A_FRAME</td>\n",
       "      <td>51834</td>\n",
       "      <td>VV+VH</td>\n",
       "      <td>2023-12-27T02:00:59.940Z</td>\n",
       "      <td>C-SAR</td>\n",
       "      <td>S1A_IWDV_0133_0138_051834_137</td>\n",
       "      <td>003.71</td>\n",
       "      <td>S1A_IW_SLC__1SDV_20231227T020059_20231227T0201...</td>\n",
       "      <td>IW</td>\n",
       "      <td>2023-12-27</td>\n",
       "    </tr>\n",
       "    <tr>\n",
       "      <th>2</th>\n",
       "      <td>POLYGON ((-120.88487 40.91771, -120.46200 42.5...</td>\n",
       "      <td>41.9337</td>\n",
       "      <td>-122.1805</td>\n",
       "      <td>2023-12-25T14:15:44.851Z</td>\n",
       "      <td>S1A_IW_SLC__1SDV_20231225T141517_20231225T1415...</td>\n",
       "      <td>DESCENDING</td>\n",
       "      <td>115</td>\n",
       "      <td>SLC</td>\n",
       "      <td>https://datapool.asf.alaska.edu/SLC/SA/S1A_IW_...</td>\n",
       "      <td>2023-12-25 14:15:17.891000+00:00</td>\n",
       "      <td>...</td>\n",
       "      <td>SENTINEL_1A_FRAME</td>\n",
       "      <td>51812</td>\n",
       "      <td>VV+VH</td>\n",
       "      <td>2023-12-25T14:15:17.891Z</td>\n",
       "      <td>C-SAR</td>\n",
       "      <td>S1A_IWDV_0452_0458_051812_115</td>\n",
       "      <td>003.71</td>\n",
       "      <td>S1A_IW_SLC__1SDV_20231225T141517_20231225T1415...</td>\n",
       "      <td>IW</td>\n",
       "      <td>2023-12-25</td>\n",
       "    </tr>\n",
       "    <tr>\n",
       "      <th>3</th>\n",
       "      <td>POLYGON ((-120.48646 42.40660, -120.05150 44.0...</td>\n",
       "      <td>43.4229</td>\n",
       "      <td>-121.8157</td>\n",
       "      <td>2023-12-25T14:15:20.027Z</td>\n",
       "      <td>S1A_IW_SLC__1SDV_20231225T141453_20231225T1415...</td>\n",
       "      <td>DESCENDING</td>\n",
       "      <td>115</td>\n",
       "      <td>SLC</td>\n",
       "      <td>https://datapool.asf.alaska.edu/SLC/SA/S1A_IW_...</td>\n",
       "      <td>2023-12-25 14:14:53.064000+00:00</td>\n",
       "      <td>...</td>\n",
       "      <td>SENTINEL_1A_FRAME</td>\n",
       "      <td>51812</td>\n",
       "      <td>VV+VH</td>\n",
       "      <td>2023-12-25T14:14:53.064Z</td>\n",
       "      <td>C-SAR</td>\n",
       "      <td>S1A_IWDV_0447_0453_051812_115</td>\n",
       "      <td>003.71</td>\n",
       "      <td>S1A_IW_SLC__1SDV_20231225T141453_20231225T1415...</td>\n",
       "      <td>IW</td>\n",
       "      <td>2023-12-25</td>\n",
       "    </tr>\n",
       "    <tr>\n",
       "      <th>4</th>\n",
       "      <td>POLYGON ((-121.43200 44.36964, -120.99439 42.7...</td>\n",
       "      <td>43.7685</td>\n",
       "      <td>-119.6569</td>\n",
       "      <td>2023-12-22T01:53:43.919Z</td>\n",
       "      <td>S1A_IW_SLC__1SDV_20231222T015316_20231222T0153...</td>\n",
       "      <td>ASCENDING</td>\n",
       "      <td>64</td>\n",
       "      <td>SLC</td>\n",
       "      <td>https://datapool.asf.alaska.edu/SLC/SA/S1A_IW_...</td>\n",
       "      <td>2023-12-22 01:53:16.954000+00:00</td>\n",
       "      <td>...</td>\n",
       "      <td>SENTINEL_1A_FRAME</td>\n",
       "      <td>51761</td>\n",
       "      <td>VV+VH</td>\n",
       "      <td>2023-12-22T01:53:16.954Z</td>\n",
       "      <td>C-SAR</td>\n",
       "      <td>S1A_IWDV_0138_0145_051761_064</td>\n",
       "      <td>003.71</td>\n",
       "      <td>S1A_IW_SLC__1SDV_20231222T015316_20231222T0153...</td>\n",
       "      <td>IW</td>\n",
       "      <td>2023-12-22</td>\n",
       "    </tr>\n",
       "  </tbody>\n",
       "</table>\n",
       "<p>5 rows × 26 columns</p>\n",
       "</div>"
      ],
      "text/plain": [
       "                                            geometry  centerLat  centerLon  \\\n",
       "0  POLYGON ((-123.40879 44.08286, -122.97357 42.4...    43.4836  -121.6243   \n",
       "1  POLYGON ((-123.00367 42.59434, -122.56562 40.9...    41.9652  -121.2574   \n",
       "2  POLYGON ((-120.88487 40.91771, -120.46200 42.5...    41.9337  -122.1805   \n",
       "3  POLYGON ((-120.48646 42.40660, -120.05150 44.0...    43.4229  -121.8157   \n",
       "4  POLYGON ((-121.43200 44.36964, -120.99439 42.7...    43.7685  -119.6569   \n",
       "\n",
       "                   stopTime  \\\n",
       "0  2023-12-27T02:01:52.692Z   \n",
       "1  2023-12-27T02:01:27.869Z   \n",
       "2  2023-12-25T14:15:44.851Z   \n",
       "3  2023-12-25T14:15:20.027Z   \n",
       "4  2023-12-22T01:53:43.919Z   \n",
       "\n",
       "                                              fileID flightDirection  \\\n",
       "0  S1A_IW_SLC__1SDV_20231227T020125_20231227T0201...       ASCENDING   \n",
       "1  S1A_IW_SLC__1SDV_20231227T020059_20231227T0201...       ASCENDING   \n",
       "2  S1A_IW_SLC__1SDV_20231225T141517_20231225T1415...      DESCENDING   \n",
       "3  S1A_IW_SLC__1SDV_20231225T141453_20231225T1415...      DESCENDING   \n",
       "4  S1A_IW_SLC__1SDV_20231222T015316_20231222T0153...       ASCENDING   \n",
       "\n",
       "   pathNumber processingLevel  \\\n",
       "0         137             SLC   \n",
       "1         137             SLC   \n",
       "2         115             SLC   \n",
       "3         115             SLC   \n",
       "4          64             SLC   \n",
       "\n",
       "                                                 url  \\\n",
       "0  https://datapool.asf.alaska.edu/SLC/SA/S1A_IW_...   \n",
       "1  https://datapool.asf.alaska.edu/SLC/SA/S1A_IW_...   \n",
       "2  https://datapool.asf.alaska.edu/SLC/SA/S1A_IW_...   \n",
       "3  https://datapool.asf.alaska.edu/SLC/SA/S1A_IW_...   \n",
       "4  https://datapool.asf.alaska.edu/SLC/SA/S1A_IW_...   \n",
       "\n",
       "                         startTime  ...        granuleType  orbit  \\\n",
       "0 2023-12-27 02:01:25.719000+00:00  ...  SENTINEL_1A_FRAME  51834   \n",
       "1 2023-12-27 02:00:59.940000+00:00  ...  SENTINEL_1A_FRAME  51834   \n",
       "2 2023-12-25 14:15:17.891000+00:00  ...  SENTINEL_1A_FRAME  51812   \n",
       "3 2023-12-25 14:14:53.064000+00:00  ...  SENTINEL_1A_FRAME  51812   \n",
       "4 2023-12-22 01:53:16.954000+00:00  ...  SENTINEL_1A_FRAME  51761   \n",
       "\n",
       "  polarization            processingDate sensor  \\\n",
       "0        VV+VH  2023-12-27T02:01:25.719Z  C-SAR   \n",
       "1        VV+VH  2023-12-27T02:00:59.940Z  C-SAR   \n",
       "2        VV+VH  2023-12-25T14:15:17.891Z  C-SAR   \n",
       "3        VV+VH  2023-12-25T14:14:53.064Z  C-SAR   \n",
       "4        VV+VH  2023-12-22T01:53:16.954Z  C-SAR   \n",
       "\n",
       "                         groupID pgeVersion  \\\n",
       "0  S1A_IWDV_0137_0144_051834_137     003.71   \n",
       "1  S1A_IWDV_0133_0138_051834_137     003.71   \n",
       "2  S1A_IWDV_0452_0458_051812_115     003.71   \n",
       "3  S1A_IWDV_0447_0453_051812_115     003.71   \n",
       "4  S1A_IWDV_0138_0145_051761_064     003.71   \n",
       "\n",
       "                                            fileName beamModeType    date_str  \n",
       "0  S1A_IW_SLC__1SDV_20231227T020125_20231227T0201...           IW  2023-12-27  \n",
       "1  S1A_IW_SLC__1SDV_20231227T020059_20231227T0201...           IW  2023-12-27  \n",
       "2  S1A_IW_SLC__1SDV_20231225T141517_20231225T1415...           IW  2023-12-25  \n",
       "3  S1A_IW_SLC__1SDV_20231225T141453_20231225T1415...           IW  2023-12-25  \n",
       "4  S1A_IW_SLC__1SDV_20231222T015316_20231222T0153...           IW  2023-12-22  \n",
       "\n",
       "[5 rows x 26 columns]"
      ]
     },
     "execution_count": 7,
     "metadata": {},
     "output_type": "execute_result"
    }
   ],
   "source": [
    "START_TIME = datetime.datetime(2022, 1, 1)\n",
    "STOP_TIME = datetime.datetime(2024, 1, 1)\n",
    "\n",
    "scenes = asf.geo_search(platform=[asf.PLATFORM.SENTINEL1],\n",
    "        intersectsWith=geo.wkt,\n",
    "        beamMode=[asf.BEAMMODE.IW],\n",
    "        processingLevel=[asf.PRODUCT_TYPE.SLC],\n",
    "        start=START_TIME,\n",
    "        end=STOP_TIME,\n",
    "    )\n",
    "\n",
    "df = gpd.GeoDataFrame.from_features(scenes.geojson(), crs='EPSG:4326')\n",
    "df['startTime'] =  pd.to_datetime(df['startTime'])\n",
    "df['date_str'] = df['startTime'].dt.date.map(str)\n",
    "df.head()"
   ]
  },
  {
   "cell_type": "code",
   "execution_count": 10,
   "id": "6a3ab2b2-30e7-4c77-9bf2-a6c877ad0d4b",
   "metadata": {},
   "outputs": [
    {
     "data": {
      "text/plain": [
       "(234, 26)"
      ]
     },
     "execution_count": 10,
     "metadata": {},
     "output_type": "execute_result"
    }
   ],
   "source": [
    "df_d = df.dissolve(by=['date_str', 'pathNumber'], as_index=False)\n",
    "df_d.shape"
   ]
  },
  {
   "cell_type": "code",
   "execution_count": 11,
   "id": "d3e1160d-8b00-4115-94b7-a7c5c15588af",
   "metadata": {},
   "outputs": [
    {
     "data": {
      "text/html": [
       "<div>\n",
       "<style scoped>\n",
       "    .dataframe tbody tr th:only-of-type {\n",
       "        vertical-align: middle;\n",
       "    }\n",
       "\n",
       "    .dataframe tbody tr th {\n",
       "        vertical-align: top;\n",
       "    }\n",
       "\n",
       "    .dataframe thead th {\n",
       "        text-align: right;\n",
       "    }\n",
       "</style>\n",
       "<table border=\"1\" class=\"dataframe\">\n",
       "  <thead>\n",
       "    <tr style=\"text-align: right;\">\n",
       "      <th></th>\n",
       "      <th>date_str</th>\n",
       "      <th>pathNumber</th>\n",
       "      <th>geometry</th>\n",
       "      <th>centerLat</th>\n",
       "      <th>centerLon</th>\n",
       "      <th>stopTime</th>\n",
       "      <th>fileID</th>\n",
       "      <th>flightDirection</th>\n",
       "      <th>processingLevel</th>\n",
       "      <th>url</th>\n",
       "      <th>...</th>\n",
       "      <th>frameNumber</th>\n",
       "      <th>granuleType</th>\n",
       "      <th>orbit</th>\n",
       "      <th>polarization</th>\n",
       "      <th>processingDate</th>\n",
       "      <th>sensor</th>\n",
       "      <th>groupID</th>\n",
       "      <th>pgeVersion</th>\n",
       "      <th>fileName</th>\n",
       "      <th>beamModeType</th>\n",
       "    </tr>\n",
       "  </thead>\n",
       "  <tbody>\n",
       "    <tr>\n",
       "      <th>0</th>\n",
       "      <td>2022-01-01</td>\n",
       "      <td>64</td>\n",
       "      <td>POLYGON ((-117.95888 43.27210, -117.60165 41.5...</td>\n",
       "      <td>43.4650</td>\n",
       "      <td>-119.5922</td>\n",
       "      <td>2022-01-01T01:53:22.947Z</td>\n",
       "      <td>S1A_IW_SLC__1SDV_20220101T015306_20220101T0153...</td>\n",
       "      <td>ASCENDING</td>\n",
       "      <td>SLC</td>\n",
       "      <td>https://datapool.asf.alaska.edu/SLC/SA/S1A_IW_...</td>\n",
       "      <td>...</td>\n",
       "      <td>139</td>\n",
       "      <td>SENTINEL_1A_FRAME</td>\n",
       "      <td>41261</td>\n",
       "      <td>VV+VH</td>\n",
       "      <td>2022-01-01T01:53:06.048Z</td>\n",
       "      <td>C-SAR</td>\n",
       "      <td>S1A_IWDV_0138_0142_041261_064</td>\n",
       "      <td>003.40</td>\n",
       "      <td>S1A_IW_SLC__1SDV_20220101T015306_20220101T0153...</td>\n",
       "      <td>IW</td>\n",
       "    </tr>\n",
       "    <tr>\n",
       "      <th>1</th>\n",
       "      <td>2022-01-04</td>\n",
       "      <td>115</td>\n",
       "      <td>POLYGON ((-120.83013 41.08241, -123.81907 41.4...</td>\n",
       "      <td>42.0983</td>\n",
       "      <td>-122.1284</td>\n",
       "      <td>2022-01-04T14:15:30.944Z</td>\n",
       "      <td>S1A_IW_SLC__1SDV_20220104T141503_20220104T1415...</td>\n",
       "      <td>DESCENDING</td>\n",
       "      <td>SLC</td>\n",
       "      <td>https://datapool.asf.alaska.edu/SLC/SA/S1A_IW_...</td>\n",
       "      <td>...</td>\n",
       "      <td>452</td>\n",
       "      <td>SENTINEL_1A_FRAME</td>\n",
       "      <td>41312</td>\n",
       "      <td>VV+VH</td>\n",
       "      <td>2022-01-04T14:15:03.989Z</td>\n",
       "      <td>C-SAR</td>\n",
       "      <td>S1A_IWDV_0451_0458_041312_115</td>\n",
       "      <td>003.40</td>\n",
       "      <td>S1A_IW_SLC__1SDV_20220104T141503_20220104T1415...</td>\n",
       "      <td>IW</td>\n",
       "    </tr>\n",
       "    <tr>\n",
       "      <th>2</th>\n",
       "      <td>2022-01-06</td>\n",
       "      <td>137</td>\n",
       "      <td>POLYGON ((-119.95312 42.98501, -119.59707 41.3...</td>\n",
       "      <td>43.3426</td>\n",
       "      <td>-121.6247</td>\n",
       "      <td>2022-01-06T02:01:37.099Z</td>\n",
       "      <td>S1A_IW_SLC__1SDV_20220106T020114_20220106T0201...</td>\n",
       "      <td>ASCENDING</td>\n",
       "      <td>SLC</td>\n",
       "      <td>https://datapool.asf.alaska.edu/SLC/SA/S1A_IW_...</td>\n",
       "      <td>...</td>\n",
       "      <td>138</td>\n",
       "      <td>SENTINEL_1A_FRAME</td>\n",
       "      <td>41334</td>\n",
       "      <td>VV+VH</td>\n",
       "      <td>2022-01-06T02:01:14.687Z</td>\n",
       "      <td>C-SAR</td>\n",
       "      <td>S1A_IWDV_0137_0142_041334_137</td>\n",
       "      <td>003.40</td>\n",
       "      <td>S1A_IW_SLC__1SDV_20220106T020114_20220106T0201...</td>\n",
       "      <td>IW</td>\n",
       "    </tr>\n",
       "    <tr>\n",
       "      <th>3</th>\n",
       "      <td>2022-01-11</td>\n",
       "      <td>42</td>\n",
       "      <td>POLYGON ((-118.77248 41.12789, -121.75790 41.5...</td>\n",
       "      <td>42.1716</td>\n",
       "      <td>-120.0623</td>\n",
       "      <td>2022-01-11T14:07:16.385Z</td>\n",
       "      <td>S1A_IW_SLC__1SDV_20220111T140648_20220111T1407...</td>\n",
       "      <td>DESCENDING</td>\n",
       "      <td>SLC</td>\n",
       "      <td>https://datapool.asf.alaska.edu/SLC/SA/S1A_IW_...</td>\n",
       "      <td>...</td>\n",
       "      <td>452</td>\n",
       "      <td>SENTINEL_1A_FRAME</td>\n",
       "      <td>41414</td>\n",
       "      <td>VV+VH</td>\n",
       "      <td>2022-01-11T14:06:48.485Z</td>\n",
       "      <td>C-SAR</td>\n",
       "      <td>S1A_IWDV_0451_0458_041414_042</td>\n",
       "      <td>003.40</td>\n",
       "      <td>S1A_IW_SLC__1SDV_20220111T140648_20220111T1407...</td>\n",
       "      <td>IW</td>\n",
       "    </tr>\n",
       "    <tr>\n",
       "      <th>4</th>\n",
       "      <td>2022-01-13</td>\n",
       "      <td>64</td>\n",
       "      <td>POLYGON ((-117.96034 43.27184, -117.60307 41.5...</td>\n",
       "      <td>43.4647</td>\n",
       "      <td>-119.5936</td>\n",
       "      <td>2022-01-13T01:53:22.575Z</td>\n",
       "      <td>S1A_IW_SLC__1SDV_20220113T015305_20220113T0153...</td>\n",
       "      <td>ASCENDING</td>\n",
       "      <td>SLC</td>\n",
       "      <td>https://datapool.asf.alaska.edu/SLC/SA/S1A_IW_...</td>\n",
       "      <td>...</td>\n",
       "      <td>139</td>\n",
       "      <td>SENTINEL_1A_FRAME</td>\n",
       "      <td>41436</td>\n",
       "      <td>VV+VH</td>\n",
       "      <td>2022-01-13T01:53:05.676Z</td>\n",
       "      <td>C-SAR</td>\n",
       "      <td>S1A_IWDV_0138_0142_041436_064</td>\n",
       "      <td>003.40</td>\n",
       "      <td>S1A_IW_SLC__1SDV_20220113T015305_20220113T0153...</td>\n",
       "      <td>IW</td>\n",
       "    </tr>\n",
       "  </tbody>\n",
       "</table>\n",
       "<p>5 rows × 26 columns</p>\n",
       "</div>"
      ],
      "text/plain": [
       "     date_str  pathNumber                                           geometry  \\\n",
       "0  2022-01-01          64  POLYGON ((-117.95888 43.27210, -117.60165 41.5...   \n",
       "1  2022-01-04         115  POLYGON ((-120.83013 41.08241, -123.81907 41.4...   \n",
       "2  2022-01-06         137  POLYGON ((-119.95312 42.98501, -119.59707 41.3...   \n",
       "3  2022-01-11          42  POLYGON ((-118.77248 41.12789, -121.75790 41.5...   \n",
       "4  2022-01-13          64  POLYGON ((-117.96034 43.27184, -117.60307 41.5...   \n",
       "\n",
       "   centerLat  centerLon                  stopTime  \\\n",
       "0    43.4650  -119.5922  2022-01-01T01:53:22.947Z   \n",
       "1    42.0983  -122.1284  2022-01-04T14:15:30.944Z   \n",
       "2    43.3426  -121.6247  2022-01-06T02:01:37.099Z   \n",
       "3    42.1716  -120.0623  2022-01-11T14:07:16.385Z   \n",
       "4    43.4647  -119.5936  2022-01-13T01:53:22.575Z   \n",
       "\n",
       "                                              fileID flightDirection  \\\n",
       "0  S1A_IW_SLC__1SDV_20220101T015306_20220101T0153...       ASCENDING   \n",
       "1  S1A_IW_SLC__1SDV_20220104T141503_20220104T1415...      DESCENDING   \n",
       "2  S1A_IW_SLC__1SDV_20220106T020114_20220106T0201...       ASCENDING   \n",
       "3  S1A_IW_SLC__1SDV_20220111T140648_20220111T1407...      DESCENDING   \n",
       "4  S1A_IW_SLC__1SDV_20220113T015305_20220113T0153...       ASCENDING   \n",
       "\n",
       "  processingLevel                                                url  ...  \\\n",
       "0             SLC  https://datapool.asf.alaska.edu/SLC/SA/S1A_IW_...  ...   \n",
       "1             SLC  https://datapool.asf.alaska.edu/SLC/SA/S1A_IW_...  ...   \n",
       "2             SLC  https://datapool.asf.alaska.edu/SLC/SA/S1A_IW_...  ...   \n",
       "3             SLC  https://datapool.asf.alaska.edu/SLC/SA/S1A_IW_...  ...   \n",
       "4             SLC  https://datapool.asf.alaska.edu/SLC/SA/S1A_IW_...  ...   \n",
       "\n",
       "  frameNumber        granuleType  orbit polarization  \\\n",
       "0         139  SENTINEL_1A_FRAME  41261        VV+VH   \n",
       "1         452  SENTINEL_1A_FRAME  41312        VV+VH   \n",
       "2         138  SENTINEL_1A_FRAME  41334        VV+VH   \n",
       "3         452  SENTINEL_1A_FRAME  41414        VV+VH   \n",
       "4         139  SENTINEL_1A_FRAME  41436        VV+VH   \n",
       "\n",
       "             processingDate sensor                        groupID pgeVersion  \\\n",
       "0  2022-01-01T01:53:06.048Z  C-SAR  S1A_IWDV_0138_0142_041261_064     003.40   \n",
       "1  2022-01-04T14:15:03.989Z  C-SAR  S1A_IWDV_0451_0458_041312_115     003.40   \n",
       "2  2022-01-06T02:01:14.687Z  C-SAR  S1A_IWDV_0137_0142_041334_137     003.40   \n",
       "3  2022-01-11T14:06:48.485Z  C-SAR  S1A_IWDV_0451_0458_041414_042     003.40   \n",
       "4  2022-01-13T01:53:05.676Z  C-SAR  S1A_IWDV_0138_0142_041436_064     003.40   \n",
       "\n",
       "                                            fileName beamModeType  \n",
       "0  S1A_IW_SLC__1SDV_20220101T015306_20220101T0153...           IW  \n",
       "1  S1A_IW_SLC__1SDV_20220104T141503_20220104T1415...           IW  \n",
       "2  S1A_IW_SLC__1SDV_20220106T020114_20220106T0201...           IW  \n",
       "3  S1A_IW_SLC__1SDV_20220111T140648_20220111T1407...           IW  \n",
       "4  S1A_IW_SLC__1SDV_20220113T015305_20220113T0153...           IW  \n",
       "\n",
       "[5 rows x 26 columns]"
      ]
     },
     "execution_count": 11,
     "metadata": {},
     "output_type": "execute_result"
    }
   ],
   "source": [
    "df_d.head()"
   ]
  },
  {
   "cell_type": "code",
   "execution_count": 12,
   "id": "5bf2a053-a1f6-4223-965a-576f538949fe",
   "metadata": {},
   "outputs": [
    {
     "name": "stderr",
     "output_type": "stream",
     "text": [
      "/var/folders/0p/d5x2m4tx5kg1246bplsvyfyh0000gq/T/ipykernel_71154/1958661502.py:2: UserWarning: Geometry is in a geographic CRS. Results from 'area' are likely incorrect. Use 'GeoSeries.to_crs()' to re-project geometries to a projected CRS before this operation.\n",
      "\n",
      "  perc_overlap = int_geo.area / geo.area\n"
     ]
    },
    {
     "data": {
      "text/plain": [
       "117"
      ]
     },
     "execution_count": 12,
     "metadata": {},
     "output_type": "execute_result"
    }
   ],
   "source": [
    "int_geo = df_d.geometry.intersection(geo)\n",
    "perc_overlap = int_geo.area / geo.area\n",
    "(perc_overlap > .99).sum()"
   ]
  },
  {
   "cell_type": "code",
   "execution_count": 13,
   "id": "38ecdc0a-ade6-463b-b048-0e3beb61c2c1",
   "metadata": {},
   "outputs": [],
   "source": [
    "admissible_dates = df_d[perc_overlap > .99].date_str.tolist()\n",
    "admissible_tracks = df_d[perc_overlap > .99].pathNumber.tolist()"
   ]
  },
  {
   "cell_type": "code",
   "execution_count": 15,
   "id": "f72a2a8d-dabe-4b0a-b3f3-95a8ad476e81",
   "metadata": {},
   "outputs": [
    {
     "data": {
      "text/plain": [
       "(234, 26)"
      ]
     },
     "execution_count": 15,
     "metadata": {},
     "output_type": "execute_result"
    }
   ],
   "source": [
    "df_f = df[df.date_str.isin(admissible_dates) & df.pathNumber.isin(admissible_tracks)]\n",
    "df_f.shape"
   ]
  },
  {
   "cell_type": "code",
   "execution_count": 16,
   "id": "54ca5651-71e9-437e-b7d4-582889cc41f4",
   "metadata": {},
   "outputs": [
    {
     "data": {
      "text/plain": [
       "<Axes: >"
      ]
     },
     "execution_count": 16,
     "metadata": {},
     "output_type": "execute_result"
    },
    {
     "data": {
      "image/png": "[encoded data removed]",
      "text/plain": [
       "<Figure size 640x480 with 1 Axes>"
      ]
     },
     "metadata": {},
     "output_type": "display_data"
    }
   ],
   "source": [
    "fig, ax = plt.subplots()\n",
    "df_f.exterior.plot(ax=ax)\n",
    "df_mgrs_john.iloc[:1].plot(ax=ax, color='y')"
   ]
  },
  {
   "cell_type": "markdown",
   "id": "c42100fc-e282-478e-9009-e99a2e32d402",
   "metadata": {},
   "source": [
    "# Automate"
   ]
  },
  {
   "cell_type": "code",
   "execution_count": 18,
   "id": "af153fa2-a23e-4db1-9459-41428f4b006d",
   "metadata": {},
   "outputs": [],
   "source": [
    "START_TIME = datetime.datetime(2022, 1, 1)\n",
    "STOP_TIME = datetime.datetime(2024, 1, 1)\n",
    "\n",
    "def get_df(tile: str) -> gpd.GeoDataFrame:\n",
    "    geo = df_mgrs_john[df_mgrs_john.identifier == tile].geometry.tolist()[0]\n",
    "    scenes = asf.geo_search(platform=[asf.PLATFORM.SENTINEL1],\n",
    "            intersectsWith=geo.wkt,\n",
    "            beamMode=[asf.BEAMMODE.IW],\n",
    "            processingLevel=[asf.PRODUCT_TYPE.SLC],\n",
    "            start=START_TIME,\n",
    "            end=STOP_TIME,\n",
    "        )\n",
    "    \n",
    "    df = gpd.GeoDataFrame.from_features(scenes.geojson(), crs='EPSG:4326')\n",
    "    df['startTime'] =  pd.to_datetime(df['startTime'])\n",
    "    df['date_str'] = df['startTime'].dt.date.map(str)\n",
    "    \n",
    "    df_d = df.dissolve(by=['date_str', 'pathNumber'], as_index=False)\n",
    "\n",
    "    int_geo = df_d.geometry.intersection(geo)\n",
    "    perc_overlap = int_geo.area / geo.area\n",
    "\n",
    "    admissible_dates = df_d[perc_overlap > .99].date_str.tolist()\n",
    "    admissible_tracks = df_d[perc_overlap > .99].pathNumber.tolist()\n",
    "\n",
    "    df_f = df[df.date_str.isin(admissible_dates) & df.pathNumber.isin(admissible_tracks)]\n",
    "    df_f['mgrs_tile_id'] = tile\n",
    "    return df_f\n",
    "\n"
   ]
  },
  {
   "cell_type": "code",
   "execution_count": 19,
   "id": "031ce3b2-e093-4614-bd45-0e8e23a003d0",
   "metadata": {},
   "outputs": [
    {
     "name": "stderr",
     "output_type": "stream",
     "text": [
      "  0%|                         | 0/3 [00:00<?, ?it/s]/var/folders/0p/d5x2m4tx5kg1246bplsvyfyh0000gq/T/ipykernel_71154/2460468613.py:21: UserWarning: Geometry is in a geographic CRS. Results from 'area' are likely incorrect. Use 'GeoSeries.to_crs()' to re-project geometries to a projected CRS before this operation.\n",
      "\n",
      "  perc_overlap = int_geo.area / geo.area\n",
      "/Users/cmarshak/miniforge3/envs/dswx_val/lib/python3.12/site-packages/geopandas/geodataframe.py:1528: SettingWithCopyWarning: \n",
      "A value is trying to be set on a copy of a slice from a DataFrame.\n",
      "Try using .loc[row_indexer,col_indexer] = value instead\n",
      "\n",
      "See the caveats in the documentation: https://pandas.pydata.org/pandas-docs/stable/user_guide/indexing.html#returning-a-view-versus-a-copy\n",
      "  super().__setitem__(key, value)\n",
      " 33%|█████▋           | 1/3 [00:04<00:09,  4.55s/it]/var/folders/0p/d5x2m4tx5kg1246bplsvyfyh0000gq/T/ipykernel_71154/2460468613.py:21: UserWarning: Geometry is in a geographic CRS. Results from 'area' are likely incorrect. Use 'GeoSeries.to_crs()' to re-project geometries to a projected CRS before this operation.\n",
      "\n",
      "  perc_overlap = int_geo.area / geo.area\n",
      "/Users/cmarshak/miniforge3/envs/dswx_val/lib/python3.12/site-packages/geopandas/geodataframe.py:1528: SettingWithCopyWarning: \n",
      "A value is trying to be set on a copy of a slice from a DataFrame.\n",
      "Try using .loc[row_indexer,col_indexer] = value instead\n",
      "\n",
      "See the caveats in the documentation: https://pandas.pydata.org/pandas-docs/stable/user_guide/indexing.html#returning-a-view-versus-a-copy\n",
      "  super().__setitem__(key, value)\n",
      " 67%|███████████▎     | 2/3 [00:08<00:04,  4.39s/it]/var/folders/0p/d5x2m4tx5kg1246bplsvyfyh0000gq/T/ipykernel_71154/2460468613.py:21: UserWarning: Geometry is in a geographic CRS. Results from 'area' are likely incorrect. Use 'GeoSeries.to_crs()' to re-project geometries to a projected CRS before this operation.\n",
      "\n",
      "  perc_overlap = int_geo.area / geo.area\n",
      "/Users/cmarshak/miniforge3/envs/dswx_val/lib/python3.12/site-packages/geopandas/geodataframe.py:1528: SettingWithCopyWarning: \n",
      "A value is trying to be set on a copy of a slice from a DataFrame.\n",
      "Try using .loc[row_indexer,col_indexer] = value instead\n",
      "\n",
      "See the caveats in the documentation: https://pandas.pydata.org/pandas-docs/stable/user_guide/indexing.html#returning-a-view-versus-a-copy\n",
      "  super().__setitem__(key, value)\n",
      "100%|█████████████████| 3/3 [00:12<00:00,  4.31s/it]\n"
     ]
    }
   ],
   "source": [
    "dfs = list(map(get_df, tqdm(TILES)))\n",
    "df_all = pd.concat(dfs, axis=0)"
   ]
  },
  {
   "cell_type": "code",
   "execution_count": 20,
   "id": "b764edd5-ebec-4e61-858e-afeac9f9f38f",
   "metadata": {},
   "outputs": [],
   "source": [
    "df_all = df_all.drop_duplicates(subset='fileID')"
   ]
  },
  {
   "cell_type": "code",
   "execution_count": 21,
   "id": "c9643cab-7782-4188-954b-019fe5692721",
   "metadata": {},
   "outputs": [],
   "source": [
    "df_all.to_csv('jwjones_request.csv')"
   ]
  },
  {
   "cell_type": "code",
   "execution_count": 22,
   "id": "f592790e-a53d-49c6-a8a7-af78745efea6",
   "metadata": {},
   "outputs": [
    {
     "data": {
      "text/plain": [
       "(455, 27)"
      ]
     },
     "execution_count": 22,
     "metadata": {},
     "output_type": "execute_result"
    }
   ],
   "source": [
    "df_all.shape"
   ]
  },
  {
   "cell_type": "code",
   "execution_count": 23,
   "id": "fcc3236f-5522-41a3-a143-5dc6d07015ed",
   "metadata": {},
   "outputs": [
    {
     "data": {
      "text/plain": [
       "array([ 85, 137, 115])"
      ]
     },
     "execution_count": 23,
     "metadata": {},
     "output_type": "execute_result"
    }
   ],
   "source": [
    "df_all.pathNumber.unique()"
   ]
  },
  {
   "cell_type": "code",
   "execution_count": 24,
   "id": "7c233b35-6938-41b6-af7f-6c6f90938254",
   "metadata": {},
   "outputs": [
    {
     "data": {
      "text/plain": [
       "<Axes: >"
      ]
     },
     "execution_count": 24,
     "metadata": {},
     "output_type": "execute_result"
    },
    {
     "data": {
      "image/png": "[encoded data removed]",
      "text/plain": [
       "<Figure size 640x480 with 1 Axes>"
      ]
     },
     "metadata": {},
     "output_type": "display_data"
    }
   ],
   "source": [
    "fig, ax = plt.subplots()\n",
    "df_all.exterior.plot(ax=ax)\n",
    "df_mgrs_john.plot(ax=ax, color='yellow')"
   ]
  },
  {
   "cell_type": "code",
   "execution_count": 27,
   "id": "9d711d84-d8e6-42aa-9192-c05ac941df46",
   "metadata": {},
   "outputs": [
    {
     "data": {
      "text/plain": [
       "173"
      ]
     },
     "execution_count": 27,
     "metadata": {},
     "output_type": "execute_result"
    }
   ],
   "source": [
    "len(df_all.startTime.dt.date.unique())"
   ]
  },
  {
   "cell_type": "code",
   "execution_count": 33,
   "id": "4ebad680-f6ab-480f-9e94-b3f39285902b",
   "metadata": {},
   "outputs": [
    {
     "data": {
      "text/plain": [
       "173"
      ]
     },
     "execution_count": 33,
     "metadata": {},
     "output_type": "execute_result"
    }
   ],
   "source": [
    "len(list(set([str(d) for d in df_all.startTime.dt.date])))"
   ]
  },
  {
   "cell_type": "code",
   "execution_count": 40,
   "id": "ceca96e3-c468-4eac-9d7c-55bfc1fcce12",
   "metadata": {},
   "outputs": [
    {
     "data": {
      "text/plain": [
       "[datetime.date(2022, 1, 4),\n",
       " datetime.date(2022, 1, 6),\n",
       " datetime.date(2022, 1, 16),\n",
       " datetime.date(2022, 1, 18),\n",
       " datetime.date(2022, 1, 28),\n",
       " datetime.date(2022, 1, 30),\n",
       " datetime.date(2022, 2, 9),\n",
       " datetime.date(2022, 2, 11),\n",
       " datetime.date(2022, 2, 21),\n",
       " datetime.date(2022, 2, 23),\n",
       " datetime.date(2022, 3, 3),\n",
       " datetime.date(2022, 3, 5),\n",
       " datetime.date(2022, 3, 7),\n",
       " datetime.date(2022, 3, 15),\n",
       " datetime.date(2022, 3, 17),\n",
       " datetime.date(2022, 3, 19),\n",
       " datetime.date(2022, 3, 27),\n",
       " datetime.date(2022, 3, 29),\n",
       " datetime.date(2022, 3, 31),\n",
       " datetime.date(2022, 4, 8),\n",
       " datetime.date(2022, 4, 10),\n",
       " datetime.date(2022, 4, 12),\n",
       " datetime.date(2022, 4, 20),\n",
       " datetime.date(2022, 4, 22),\n",
       " datetime.date(2022, 4, 24),\n",
       " datetime.date(2022, 5, 2),\n",
       " datetime.date(2022, 5, 4),\n",
       " datetime.date(2022, 5, 6),\n",
       " datetime.date(2022, 5, 14),\n",
       " datetime.date(2022, 5, 16),\n",
       " datetime.date(2022, 5, 18),\n",
       " datetime.date(2022, 5, 26),\n",
       " datetime.date(2022, 5, 30),\n",
       " datetime.date(2022, 6, 7),\n",
       " datetime.date(2022, 6, 9),\n",
       " datetime.date(2022, 6, 11),\n",
       " datetime.date(2022, 6, 19),\n",
       " datetime.date(2022, 6, 21),\n",
       " datetime.date(2022, 6, 23),\n",
       " datetime.date(2022, 7, 1),\n",
       " datetime.date(2022, 7, 3),\n",
       " datetime.date(2022, 7, 5),\n",
       " datetime.date(2022, 7, 13),\n",
       " datetime.date(2022, 7, 15),\n",
       " datetime.date(2022, 7, 17),\n",
       " datetime.date(2022, 7, 25),\n",
       " datetime.date(2022, 7, 27),\n",
       " datetime.date(2022, 7, 29),\n",
       " datetime.date(2022, 8, 6),\n",
       " datetime.date(2022, 8, 8),\n",
       " datetime.date(2022, 8, 10),\n",
       " datetime.date(2022, 8, 18),\n",
       " datetime.date(2022, 8, 20),\n",
       " datetime.date(2022, 8, 22),\n",
       " datetime.date(2022, 8, 30),\n",
       " datetime.date(2022, 9, 1),\n",
       " datetime.date(2022, 9, 3),\n",
       " datetime.date(2022, 9, 11),\n",
       " datetime.date(2022, 9, 13),\n",
       " datetime.date(2022, 9, 15),\n",
       " datetime.date(2022, 9, 23),\n",
       " datetime.date(2022, 9, 25),\n",
       " datetime.date(2022, 9, 27),\n",
       " datetime.date(2022, 10, 5),\n",
       " datetime.date(2022, 10, 7),\n",
       " datetime.date(2022, 10, 9),\n",
       " datetime.date(2022, 10, 17),\n",
       " datetime.date(2022, 10, 21),\n",
       " datetime.date(2022, 10, 29),\n",
       " datetime.date(2022, 10, 31),\n",
       " datetime.date(2022, 11, 2),\n",
       " datetime.date(2022, 11, 10),\n",
       " datetime.date(2022, 11, 12),\n",
       " datetime.date(2022, 11, 14),\n",
       " datetime.date(2022, 11, 22),\n",
       " datetime.date(2022, 11, 24),\n",
       " datetime.date(2022, 11, 26),\n",
       " datetime.date(2022, 12, 4),\n",
       " datetime.date(2022, 12, 6),\n",
       " datetime.date(2022, 12, 8),\n",
       " datetime.date(2022, 12, 16),\n",
       " datetime.date(2022, 12, 18),\n",
       " datetime.date(2022, 12, 20),\n",
       " datetime.date(2022, 12, 28),\n",
       " datetime.date(2022, 12, 30),\n",
       " datetime.date(2023, 1, 1),\n",
       " datetime.date(2023, 1, 9),\n",
       " datetime.date(2023, 1, 11),\n",
       " datetime.date(2023, 1, 13),\n",
       " datetime.date(2023, 1, 21),\n",
       " datetime.date(2023, 1, 23),\n",
       " datetime.date(2023, 1, 25),\n",
       " datetime.date(2023, 2, 2),\n",
       " datetime.date(2023, 2, 4),\n",
       " datetime.date(2023, 2, 6),\n",
       " datetime.date(2023, 2, 14),\n",
       " datetime.date(2023, 2, 16),\n",
       " datetime.date(2023, 2, 18),\n",
       " datetime.date(2023, 2, 26),\n",
       " datetime.date(2023, 2, 28),\n",
       " datetime.date(2023, 3, 2),\n",
       " datetime.date(2023, 3, 10),\n",
       " datetime.date(2023, 3, 12),\n",
       " datetime.date(2023, 3, 14),\n",
       " datetime.date(2023, 3, 22),\n",
       " datetime.date(2023, 3, 24),\n",
       " datetime.date(2023, 3, 26),\n",
       " datetime.date(2023, 4, 3),\n",
       " datetime.date(2023, 4, 5),\n",
       " datetime.date(2023, 4, 7),\n",
       " datetime.date(2023, 4, 15),\n",
       " datetime.date(2023, 4, 17),\n",
       " datetime.date(2023, 4, 19),\n",
       " datetime.date(2023, 4, 27),\n",
       " datetime.date(2023, 4, 29),\n",
       " datetime.date(2023, 5, 1),\n",
       " datetime.date(2023, 5, 9),\n",
       " datetime.date(2023, 5, 11),\n",
       " datetime.date(2023, 5, 13),\n",
       " datetime.date(2023, 5, 21),\n",
       " datetime.date(2023, 5, 23),\n",
       " datetime.date(2023, 5, 25),\n",
       " datetime.date(2023, 6, 2),\n",
       " datetime.date(2023, 6, 4),\n",
       " datetime.date(2023, 6, 6),\n",
       " datetime.date(2023, 6, 14),\n",
       " datetime.date(2023, 6, 16),\n",
       " datetime.date(2023, 6, 18),\n",
       " datetime.date(2023, 6, 26),\n",
       " datetime.date(2023, 6, 28),\n",
       " datetime.date(2023, 6, 30),\n",
       " datetime.date(2023, 7, 8),\n",
       " datetime.date(2023, 7, 10),\n",
       " datetime.date(2023, 7, 12),\n",
       " datetime.date(2023, 7, 20),\n",
       " datetime.date(2023, 7, 22),\n",
       " datetime.date(2023, 7, 24),\n",
       " datetime.date(2023, 8, 1),\n",
       " datetime.date(2023, 8, 5),\n",
       " datetime.date(2023, 8, 13),\n",
       " datetime.date(2023, 8, 15),\n",
       " datetime.date(2023, 8, 17),\n",
       " datetime.date(2023, 8, 25),\n",
       " datetime.date(2023, 8, 27),\n",
       " datetime.date(2023, 8, 29),\n",
       " datetime.date(2023, 9, 6),\n",
       " datetime.date(2023, 9, 8),\n",
       " datetime.date(2023, 9, 10),\n",
       " datetime.date(2023, 9, 18),\n",
       " datetime.date(2023, 9, 20),\n",
       " datetime.date(2023, 9, 22),\n",
       " datetime.date(2023, 9, 30),\n",
       " datetime.date(2023, 10, 2),\n",
       " datetime.date(2023, 10, 4),\n",
       " datetime.date(2023, 10, 12),\n",
       " datetime.date(2023, 10, 14),\n",
       " datetime.date(2023, 10, 16),\n",
       " datetime.date(2023, 10, 24),\n",
       " datetime.date(2023, 10, 28),\n",
       " datetime.date(2023, 11, 5),\n",
       " datetime.date(2023, 11, 9),\n",
       " datetime.date(2023, 11, 17),\n",
       " datetime.date(2023, 11, 19),\n",
       " datetime.date(2023, 11, 21),\n",
       " datetime.date(2023, 11, 29),\n",
       " datetime.date(2023, 12, 1),\n",
       " datetime.date(2023, 12, 3),\n",
       " datetime.date(2023, 12, 11),\n",
       " datetime.date(2023, 12, 13),\n",
       " datetime.date(2023, 12, 15),\n",
       " datetime.date(2023, 12, 23),\n",
       " datetime.date(2023, 12, 25),\n",
       " datetime.date(2023, 12, 27)]"
      ]
     },
     "execution_count": 40,
     "metadata": {},
     "output_type": "execute_result"
    }
   ],
   "source": [
    "l = df_all.startTime.dt.date.unique().tolist()\n",
    "sorted(l)"
   ]
  },
  {
   "cell_type": "code",
   "execution_count": null,
   "id": "436ac0f2-7d9b-4c21-91c1-100b10dc9275",
   "metadata": {},
   "outputs": [],
   "source": []
  }
 ],
 "metadata": {
  "kernelspec": {
   "display_name": "dswx_val",
   "language": "python",
   "name": "dswx_val"
  },
  "language_info": {
   "codemirror_mode": {
    "name": "ipython",
    "version": 3
   },
   "file_extension": ".py",
   "mimetype": "text/x-python",
   "name": "python",
   "nbconvert_exporter": "python",
   "pygments_lexer": "ipython3",
   "version": "3.12.3"
  }
 },
 "nbformat": 4,
 "nbformat_minor": 5
}
