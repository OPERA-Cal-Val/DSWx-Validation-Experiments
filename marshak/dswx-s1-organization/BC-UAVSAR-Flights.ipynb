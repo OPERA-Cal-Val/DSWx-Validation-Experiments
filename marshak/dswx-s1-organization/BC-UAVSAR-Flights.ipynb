{
 "cells": [
  {
   "cell_type": "markdown",
   "id": "88f87c8f-89ff-4267-b4c7-10062ae995f0",
   "metadata": {},
   "source": [
    "Request for Bruce"
   ]
  },
  {
   "cell_type": "code",
   "execution_count": 4,
   "id": "8b71c48f-883d-4f6c-a197-759f009dd0f8",
   "metadata": {},
   "outputs": [],
   "source": [
    "import geopandas as gpd\n",
    "from dem_stitcher.geojson_io import read_geojson_gzip\n",
    "from tqdm import tqdm\n",
    "import pandas as pd\n",
    "import asf_search as asf\n",
    "import datetime\n",
    "import matplotlib.pyplot as plt\n",
    "from shapely.geometry import box\n",
    "from rasterio.crs import CRS"
   ]
  },
  {
   "cell_type": "markdown",
   "id": "8418080b-092a-448b-a3fd-25c8637d1dec",
   "metadata": {},
   "source": [
    "# Tiles"
   ]
  },
  {
   "cell_type": "code",
   "execution_count": 5,
   "id": "4e227ff4-d419-4d3c-8e89-ff894c3da501",
   "metadata": {},
   "outputs": [
    {
     "data": {
      "text/html": [
       "<div style=\"width:100%;\"><div style=\"position:relative;width:100%;height:0;padding-bottom:60%;\"><span style=\"color:#565656\">Make this Notebook Trusted to load map: File -> Trust Notebook</span><iframe srcdoc=\"&lt;!DOCTYPE html&gt;\n",
       "&lt;html&gt;\n",
       "&lt;head&gt;\n",
       "    \n",
       "    &lt;meta http-equiv=&quot;content-type&quot; content=&quot;text/html; charset=UTF-8&quot; /&gt;\n",
       "    \n",
       "        &lt;script&gt;\n",
       "            L_NO_TOUCH = false;\n",
       "            L_DISABLE_3D = false;\n",
       "        &lt;/script&gt;\n",
       "    \n",
       "    &lt;style&gt;html, body {width: 100%;height: 100%;margin: 0;padding: 0;}&lt;/style&gt;\n",
       "    &lt;style&gt;#map {position:absolute;top:0;bottom:0;right:0;left:0;}&lt;/style&gt;\n",
       "    &lt;script src=&quot;https://cdn.jsdelivr.net/npm/leaflet@1.9.3/dist/leaflet.js&quot;&gt;&lt;/script&gt;\n",
       "    &lt;script src=&quot;https://code.jquery.com/jquery-3.7.1.min.js&quot;&gt;&lt;/script&gt;\n",
       "    &lt;script src=&quot;https://cdn.jsdelivr.net/npm/bootstrap@5.2.2/dist/js/bootstrap.bundle.min.js&quot;&gt;&lt;/script&gt;\n",
       "    &lt;script src=&quot;https://cdnjs.cloudflare.com/ajax/libs/Leaflet.awesome-markers/2.0.2/leaflet.awesome-markers.js&quot;&gt;&lt;/script&gt;\n",
       "    &lt;link rel=&quot;stylesheet&quot; href=&quot;https://cdn.jsdelivr.net/npm/leaflet@1.9.3/dist/leaflet.css&quot;/&gt;\n",
       "    &lt;link rel=&quot;stylesheet&quot; href=&quot;https://cdn.jsdelivr.net/npm/bootstrap@5.2.2/dist/css/bootstrap.min.css&quot;/&gt;\n",
       "    &lt;link rel=&quot;stylesheet&quot; href=&quot;https://netdna.bootstrapcdn.com/bootstrap/3.0.0/css/bootstrap.min.css&quot;/&gt;\n",
       "    &lt;link rel=&quot;stylesheet&quot; href=&quot;https://cdn.jsdelivr.net/npm/@fortawesome/fontawesome-free@6.2.0/css/all.min.css&quot;/&gt;\n",
       "    &lt;link rel=&quot;stylesheet&quot; href=&quot;https://cdnjs.cloudflare.com/ajax/libs/Leaflet.awesome-markers/2.0.2/leaflet.awesome-markers.css&quot;/&gt;\n",
       "    &lt;link rel=&quot;stylesheet&quot; href=&quot;https://cdn.jsdelivr.net/gh/python-visualization/folium/folium/templates/leaflet.awesome.rotate.min.css&quot;/&gt;\n",
       "    \n",
       "            &lt;meta name=&quot;viewport&quot; content=&quot;width=device-width,\n",
       "                initial-scale=1.0, maximum-scale=1.0, user-scalable=no&quot; /&gt;\n",
       "            &lt;style&gt;\n",
       "                #map_85a7d01deba251f460bde2bee32f1f51 {\n",
       "                    position: relative;\n",
       "                    width: 100.0%;\n",
       "                    height: 100.0%;\n",
       "                    left: 0.0%;\n",
       "                    top: 0.0%;\n",
       "                }\n",
       "                .leaflet-container { font-size: 1rem; }\n",
       "            &lt;/style&gt;\n",
       "        \n",
       "    \n",
       "                    &lt;style&gt;\n",
       "                        .foliumtooltip {\n",
       "                            \n",
       "                        }\n",
       "                       .foliumtooltip table{\n",
       "                            margin: auto;\n",
       "                        }\n",
       "                        .foliumtooltip tr{\n",
       "                            text-align: left;\n",
       "                        }\n",
       "                        .foliumtooltip th{\n",
       "                            padding: 2px; padding-right: 8px;\n",
       "                        }\n",
       "                    &lt;/style&gt;\n",
       "            \n",
       "&lt;/head&gt;\n",
       "&lt;body&gt;\n",
       "    \n",
       "    \n",
       "            &lt;div class=&quot;folium-map&quot; id=&quot;map_85a7d01deba251f460bde2bee32f1f51&quot; &gt;&lt;/div&gt;\n",
       "        \n",
       "&lt;/body&gt;\n",
       "&lt;script&gt;\n",
       "    \n",
       "    \n",
       "            var map_85a7d01deba251f460bde2bee32f1f51 = L.map(\n",
       "                &quot;map_85a7d01deba251f460bde2bee32f1f51&quot;,\n",
       "                {\n",
       "                    center: [58.582, -111.43],\n",
       "                    crs: L.CRS.EPSG3857,\n",
       "                    zoom: 10,\n",
       "                    zoomControl: true,\n",
       "                    preferCanvas: false,\n",
       "                }\n",
       "            );\n",
       "            L.control.scale().addTo(map_85a7d01deba251f460bde2bee32f1f51);\n",
       "\n",
       "            \n",
       "\n",
       "        \n",
       "    \n",
       "            var tile_layer_932cc8574b9d2ba15e627ab8b3c302d0 = L.tileLayer(\n",
       "                &quot;https://tile.openstreetmap.org/{z}/{x}/{y}.png&quot;,\n",
       "                {&quot;attribution&quot;: &quot;\\u0026copy; \\u003ca href=\\&quot;https://www.openstreetmap.org/copyright\\&quot;\\u003eOpenStreetMap\\u003c/a\\u003e contributors&quot;, &quot;detectRetina&quot;: false, &quot;maxNativeZoom&quot;: 19, &quot;maxZoom&quot;: 19, &quot;minZoom&quot;: 0, &quot;noWrap&quot;: false, &quot;opacity&quot;: 1, &quot;subdomains&quot;: &quot;abc&quot;, &quot;tms&quot;: false}\n",
       "            );\n",
       "        \n",
       "    \n",
       "            tile_layer_932cc8574b9d2ba15e627ab8b3c302d0.addTo(map_85a7d01deba251f460bde2bee32f1f51);\n",
       "        \n",
       "    \n",
       "            map_85a7d01deba251f460bde2bee32f1f51.fitBounds(\n",
       "                [[58.49, -111.52], [58.674, -111.34]],\n",
       "                {}\n",
       "            );\n",
       "        \n",
       "    \n",
       "        function geo_json_c6d9aa8fa40d1ad47befb483f909f6db_styler(feature) {\n",
       "            switch(feature.id) {\n",
       "                default:\n",
       "                    return {&quot;fillOpacity&quot;: 0.5, &quot;weight&quot;: 2};\n",
       "            }\n",
       "        }\n",
       "        function geo_json_c6d9aa8fa40d1ad47befb483f909f6db_highlighter(feature) {\n",
       "            switch(feature.id) {\n",
       "                default:\n",
       "                    return {&quot;fillOpacity&quot;: 0.75};\n",
       "            }\n",
       "        }\n",
       "        function geo_json_c6d9aa8fa40d1ad47befb483f909f6db_pointToLayer(feature, latlng) {\n",
       "            var opts = {&quot;bubblingMouseEvents&quot;: true, &quot;color&quot;: &quot;#3388ff&quot;, &quot;dashArray&quot;: null, &quot;dashOffset&quot;: null, &quot;fill&quot;: true, &quot;fillColor&quot;: &quot;#3388ff&quot;, &quot;fillOpacity&quot;: 0.2, &quot;fillRule&quot;: &quot;evenodd&quot;, &quot;lineCap&quot;: &quot;round&quot;, &quot;lineJoin&quot;: &quot;round&quot;, &quot;opacity&quot;: 1.0, &quot;radius&quot;: 2, &quot;stroke&quot;: true, &quot;weight&quot;: 3};\n",
       "            \n",
       "            let style = geo_json_c6d9aa8fa40d1ad47befb483f909f6db_styler(feature)\n",
       "            Object.assign(opts, style)\n",
       "            \n",
       "            return new L.CircleMarker(latlng, opts)\n",
       "        }\n",
       "\n",
       "        function geo_json_c6d9aa8fa40d1ad47befb483f909f6db_onEachFeature(feature, layer) {\n",
       "            layer.on({\n",
       "                mouseout: function(e) {\n",
       "                    if(typeof e.target.setStyle === &quot;function&quot;){\n",
       "                        geo_json_c6d9aa8fa40d1ad47befb483f909f6db.resetStyle(e.target);\n",
       "                    }\n",
       "                },\n",
       "                mouseover: function(e) {\n",
       "                    if(typeof e.target.setStyle === &quot;function&quot;){\n",
       "                        const highlightStyle = geo_json_c6d9aa8fa40d1ad47befb483f909f6db_highlighter(e.target.feature)\n",
       "                        e.target.setStyle(highlightStyle);\n",
       "                    }\n",
       "                },\n",
       "            });\n",
       "        };\n",
       "        var geo_json_c6d9aa8fa40d1ad47befb483f909f6db = L.geoJson(null, {\n",
       "                onEachFeature: geo_json_c6d9aa8fa40d1ad47befb483f909f6db_onEachFeature,\n",
       "            \n",
       "                style: geo_json_c6d9aa8fa40d1ad47befb483f909f6db_styler,\n",
       "                pointToLayer: geo_json_c6d9aa8fa40d1ad47befb483f909f6db_pointToLayer,\n",
       "        });\n",
       "\n",
       "        function geo_json_c6d9aa8fa40d1ad47befb483f909f6db_add (data) {\n",
       "            geo_json_c6d9aa8fa40d1ad47befb483f909f6db\n",
       "                .addData(data);\n",
       "        }\n",
       "            geo_json_c6d9aa8fa40d1ad47befb483f909f6db_add({&quot;bbox&quot;: [-111.52, 58.49, -111.34, 58.674], &quot;features&quot;: [{&quot;bbox&quot;: [-111.52, 58.49, -111.34, 58.674], &quot;geometry&quot;: {&quot;coordinates&quot;: [[[-111.52, 58.674], [-111.52, 58.49], [-111.34, 58.49], [-111.34, 58.674], [-111.52, 58.674]]], &quot;type&quot;: &quot;Polygon&quot;}, &quot;id&quot;: &quot;0&quot;, &quot;properties&quot;: {}, &quot;type&quot;: &quot;Feature&quot;}], &quot;type&quot;: &quot;FeatureCollection&quot;});\n",
       "\n",
       "        \n",
       "    \n",
       "    geo_json_c6d9aa8fa40d1ad47befb483f909f6db.bindTooltip(\n",
       "    function(layer){\n",
       "    let div = L.DomUtil.create(&#x27;div&#x27;);\n",
       "    \n",
       "    return div\n",
       "    }\n",
       "    ,{&quot;className&quot;: &quot;foliumtooltip&quot;, &quot;sticky&quot;: true});\n",
       "                     \n",
       "    \n",
       "            geo_json_c6d9aa8fa40d1ad47befb483f909f6db.addTo(map_85a7d01deba251f460bde2bee32f1f51);\n",
       "        \n",
       "&lt;/script&gt;\n",
       "&lt;/html&gt;\" style=\"position:absolute;width:100%;height:100%;left:0;top:0;border:none !important;\" allowfullscreen webkitallowfullscreen mozallowfullscreen></iframe></div></div>"
      ],
      "text/plain": [
       "<folium.folium.Map at 0x16b1dc1a0>"
      ]
     },
     "execution_count": 5,
     "metadata": {},
     "output_type": "execute_result"
    }
   ],
   "source": [
    "geo = box(-111.34, 58.674,-111.52, 58.49) \n",
    "df_aoi = gpd.GeoDataFrame(geometry=[geo], crs=CRS.from_epsg(4326))\n",
    "df_aoi.explore()"
   ]
  },
  {
   "cell_type": "code",
   "execution_count": 6,
   "id": "82d8a1ba-9e7f-4e5d-b1e0-ecae58df4f3d",
   "metadata": {},
   "outputs": [
    {
     "data": {
      "text/html": [
       "<div>\n",
       "<style scoped>\n",
       "    .dataframe tbody tr th:only-of-type {\n",
       "        vertical-align: middle;\n",
       "    }\n",
       "\n",
       "    .dataframe tbody tr th {\n",
       "        vertical-align: top;\n",
       "    }\n",
       "\n",
       "    .dataframe thead th {\n",
       "        text-align: right;\n",
       "    }\n",
       "</style>\n",
       "<table border=\"1\" class=\"dataframe\">\n",
       "  <thead>\n",
       "    <tr style=\"text-align: right;\">\n",
       "      <th></th>\n",
       "      <th>geometry</th>\n",
       "      <th>type</th>\n",
       "      <th>identifier</th>\n",
       "    </tr>\n",
       "  </thead>\n",
       "  <tbody>\n",
       "    <tr>\n",
       "      <th>0</th>\n",
       "      <td>MULTIPOLYGON Z (((180.00000 -73.05974 0.00000,...</td>\n",
       "      <td>S2</td>\n",
       "      <td>01CCV</td>\n",
       "    </tr>\n",
       "    <tr>\n",
       "      <th>1</th>\n",
       "      <td>MULTIPOLYGON Z (((180.00000 -83.80855 0.00000,...</td>\n",
       "      <td>S2</td>\n",
       "      <td>01CDH</td>\n",
       "    </tr>\n",
       "    <tr>\n",
       "      <th>2</th>\n",
       "      <td>MULTIPOLYGON Z (((180.00000 -82.91344 0.00000,...</td>\n",
       "      <td>S2</td>\n",
       "      <td>01CDJ</td>\n",
       "    </tr>\n",
       "    <tr>\n",
       "      <th>3</th>\n",
       "      <td>MULTIPOLYGON Z (((180.00000 -82.01866 0.00000,...</td>\n",
       "      <td>S2</td>\n",
       "      <td>01CDK</td>\n",
       "    </tr>\n",
       "    <tr>\n",
       "      <th>4</th>\n",
       "      <td>MULTIPOLYGON Z (((180.00000 -81.12317 0.00000,...</td>\n",
       "      <td>S2</td>\n",
       "      <td>01CDL</td>\n",
       "    </tr>\n",
       "  </tbody>\n",
       "</table>\n",
       "</div>"
      ],
      "text/plain": [
       "                                            geometry type identifier\n",
       "0  MULTIPOLYGON Z (((180.00000 -73.05974 0.00000,...   S2      01CCV\n",
       "1  MULTIPOLYGON Z (((180.00000 -83.80855 0.00000,...   S2      01CDH\n",
       "2  MULTIPOLYGON Z (((180.00000 -82.91344 0.00000,...   S2      01CDJ\n",
       "3  MULTIPOLYGON Z (((180.00000 -82.01866 0.00000,...   S2      01CDK\n",
       "4  MULTIPOLYGON Z (((180.00000 -81.12317 0.00000,...   S2      01CDL"
      ]
     },
     "execution_count": 6,
     "metadata": {},
     "output_type": "execute_result"
    }
   ],
   "source": [
    "df_mgrs = read_geojson_gzip('s2_mgrs_grid.geojson.gzip')\n",
    "df_mgrs.head()"
   ]
  },
  {
   "cell_type": "code",
   "execution_count": 7,
   "id": "7df201d9-eba5-4c2f-8de9-43a335f77438",
   "metadata": {},
   "outputs": [
    {
     "data": {
      "text/html": [
       "<div>\n",
       "<style scoped>\n",
       "    .dataframe tbody tr th:only-of-type {\n",
       "        vertical-align: middle;\n",
       "    }\n",
       "\n",
       "    .dataframe tbody tr th {\n",
       "        vertical-align: top;\n",
       "    }\n",
       "\n",
       "    .dataframe thead th {\n",
       "        text-align: right;\n",
       "    }\n",
       "</style>\n",
       "<table border=\"1\" class=\"dataframe\">\n",
       "  <thead>\n",
       "    <tr style=\"text-align: right;\">\n",
       "      <th></th>\n",
       "      <th>geometry</th>\n",
       "      <th>type</th>\n",
       "      <th>identifier</th>\n",
       "    </tr>\n",
       "  </thead>\n",
       "  <tbody>\n",
       "    <tr>\n",
       "      <th>0</th>\n",
       "      <td>MULTIPOLYGON Z (((-112.72290 58.62912 0.00000,...</td>\n",
       "      <td>S2</td>\n",
       "      <td>12VVK</td>\n",
       "    </tr>\n",
       "    <tr>\n",
       "      <th>1</th>\n",
       "      <td>MULTIPOLYGON Z (((-112.76847 59.52640 0.00000,...</td>\n",
       "      <td>S2</td>\n",
       "      <td>12VVL</td>\n",
       "    </tr>\n",
       "  </tbody>\n",
       "</table>\n",
       "</div>"
      ],
      "text/plain": [
       "                                            geometry type identifier\n",
       "0  MULTIPOLYGON Z (((-112.72290 58.62912 0.00000,...   S2      12VVK\n",
       "1  MULTIPOLYGON Z (((-112.76847 59.52640 0.00000,...   S2      12VVL"
      ]
     },
     "execution_count": 7,
     "metadata": {},
     "output_type": "execute_result"
    }
   ],
   "source": [
    "df_mgrs_aoi = df_mgrs[df_mgrs.intersects(geo)].reset_index(drop=True)\n",
    "df_mgrs_aoi"
   ]
  },
  {
   "cell_type": "code",
   "execution_count": 8,
   "id": "18e0183c-8e04-47eb-95a7-b5fe0f816586",
   "metadata": {},
   "outputs": [
    {
     "data": {
      "text/plain": [
       "['12VVK', '12VVL']"
      ]
     },
     "execution_count": 8,
     "metadata": {},
     "output_type": "execute_result"
    }
   ],
   "source": [
    "TILES = df_mgrs_aoi.identifier.tolist()\n",
    "TILES"
   ]
  },
  {
   "cell_type": "markdown",
   "id": "c42100fc-e282-478e-9009-e99a2e32d402",
   "metadata": {},
   "source": [
    "# Request"
   ]
  },
  {
   "cell_type": "markdown",
   "id": "3f6505c6-ec27-4008-835c-80e77910d515",
   "metadata": {},
   "source": [
    "```\n",
    "June 13, 2017\n",
    "Sept 8, 2017\n",
    "Aug 21, 2018\n",
    "Sept 4, 2018\n",
    "Aug 16, 2022\n",
    "```"
   ]
  },
  {
   "cell_type": "code",
   "execution_count": 48,
   "id": "af153fa2-a23e-4db1-9459-41428f4b006d",
   "metadata": {},
   "outputs": [],
   "source": [
    "START_TIME = datetime.datetime(2017, 5, 1)\n",
    "STOP_TIME = datetime.datetime(2022, 10, 1)\n",
    "\n",
    "def get_df(tile: str) -> gpd.GeoDataFrame:\n",
    "    geo = df_mgrs_aoi[df_mgrs_aoi.identifier == tile].geometry.tolist()[0]\n",
    "    scenes = asf.geo_search(platform=[asf.PLATFORM.SENTINEL1],\n",
    "            intersectsWith=geo.wkt,\n",
    "            beamMode=[asf.BEAMMODE.IW],\n",
    "            processingLevel=[asf.PRODUCT_TYPE.SLC],\n",
    "            start=START_TIME,\n",
    "            end=STOP_TIME,\n",
    "        )\n",
    "    \n",
    "    df = gpd.GeoDataFrame.from_features(scenes.geojson(), crs='EPSG:4326')\n",
    "    df['startTime'] =  pd.to_datetime(df['startTime'])\n",
    "    df['date_str'] = df['startTime'].dt.date.map(str)\n",
    "    \n",
    "    df_d = df.dissolve(by=['date_str', 'pathNumber'], as_index=False)\n",
    "\n",
    "    int_geo = df_d.geometry.intersection(geo)\n",
    "    perc_overlap = int_geo.area / geo.area\n",
    "\n",
    "    admissible_dates = df_d[perc_overlap > .99].date_str.tolist()\n",
    "    admissible_tracks = df_d[perc_overlap > .99].pathNumber.tolist()\n",
    "\n",
    "    df_f = df[df.date_str.isin(admissible_dates) & df.pathNumber.isin(admissible_tracks)]\n",
    "    df_f['mgrs_tile_id'] = tile\n",
    "    return df_f\n",
    "\n"
   ]
  },
  {
   "cell_type": "code",
   "execution_count": 49,
   "id": "031ce3b2-e093-4614-bd45-0e8e23a003d0",
   "metadata": {},
   "outputs": [
    {
     "name": "stderr",
     "output_type": "stream",
     "text": [
      "  0%|                                                                              | 0/2 [00:00<?, ?it/s]/var/folders/0p/d5x2m4tx5kg1246bplsvyfyh0000gq/T/ipykernel_11051/3224341832.py:21: UserWarning: Geometry is in a geographic CRS. Results from 'area' are likely incorrect. Use 'GeoSeries.to_crs()' to re-project geometries to a projected CRS before this operation.\n",
      "\n",
      "  perc_overlap = int_geo.area / geo.area\n",
      "/Users/cmarshak/miniforge3/envs/dswx_val/lib/python3.12/site-packages/geopandas/geodataframe.py:1528: SettingWithCopyWarning: \n",
      "A value is trying to be set on a copy of a slice from a DataFrame.\n",
      "Try using .loc[row_indexer,col_indexer] = value instead\n",
      "\n",
      "See the caveats in the documentation: https://pandas.pydata.org/pandas-docs/stable/user_guide/indexing.html#returning-a-view-versus-a-copy\n",
      "  super().__setitem__(key, value)\n",
      " 50%|███████████████████████████████████                                   | 1/2 [00:04<00:04,  4.29s/it]/var/folders/0p/d5x2m4tx5kg1246bplsvyfyh0000gq/T/ipykernel_11051/3224341832.py:21: UserWarning: Geometry is in a geographic CRS. Results from 'area' are likely incorrect. Use 'GeoSeries.to_crs()' to re-project geometries to a projected CRS before this operation.\n",
      "\n",
      "  perc_overlap = int_geo.area / geo.area\n",
      "/Users/cmarshak/miniforge3/envs/dswx_val/lib/python3.12/site-packages/geopandas/geodataframe.py:1528: SettingWithCopyWarning: \n",
      "A value is trying to be set on a copy of a slice from a DataFrame.\n",
      "Try using .loc[row_indexer,col_indexer] = value instead\n",
      "\n",
      "See the caveats in the documentation: https://pandas.pydata.org/pandas-docs/stable/user_guide/indexing.html#returning-a-view-versus-a-copy\n",
      "  super().__setitem__(key, value)\n",
      "100%|██████████████████████████████████████████████████████████████████████| 2/2 [00:08<00:00,  4.45s/it]\n"
     ]
    }
   ],
   "source": [
    "dfs = list(map(get_df, tqdm(TILES)))\n",
    "df_all = pd.concat(dfs, axis=0)"
   ]
  },
  {
   "cell_type": "code",
   "execution_count": 50,
   "id": "b764edd5-ebec-4e61-858e-afeac9f9f38f",
   "metadata": {},
   "outputs": [],
   "source": [
    "df_all = df_all.drop_duplicates(subset='fileID')"
   ]
  },
  {
   "cell_type": "code",
   "execution_count": 51,
   "id": "47f99239-d89b-462b-a475-f4b930c22b85",
   "metadata": {},
   "outputs": [
    {
     "data": {
      "text/plain": [
       "(364, 27)"
      ]
     },
     "execution_count": 51,
     "metadata": {},
     "output_type": "execute_result"
    }
   ],
   "source": [
    "df_all.shape"
   ]
  },
  {
   "cell_type": "code",
   "execution_count": 52,
   "id": "615fd38b-4cdc-4c57-9caf-56a5fef5d901",
   "metadata": {},
   "outputs": [],
   "source": [
    "df_all['acq_dt'] = pd.to_datetime(df_all.startTime)\n",
    "df_all['acq_date'] = df_all['acq_dt'].dt.date"
   ]
  },
  {
   "cell_type": "markdown",
   "id": "5e0c358b-1d89-4b07-a68d-a57452b86f5f",
   "metadata": {},
   "source": [
    "```\n",
    "June 13, 2017\n",
    "Sept 8, 2017\n",
    "Aug 21, 2018\n",
    "Sept 4, 2018\n",
    "Aug 16, 2022\n",
    "```"
   ]
  },
  {
   "cell_type": "code",
   "execution_count": 53,
   "id": "c07204a3-2838-4701-9df2-f6bfb3b29a40",
   "metadata": {},
   "outputs": [
    {
     "data": {
      "text/plain": [
       "36"
      ]
     },
     "execution_count": 53,
     "metadata": {},
     "output_type": "execute_result"
    }
   ],
   "source": [
    "ind_0 = df_all.acq_dt.dt.month.isin([5, 6,7, 9]) & df_all.acq_dt.dt.year.isin([2017])\n",
    "ind_1 = df_all.acq_dt.dt.month.isin([7, 8, 9]) & df_all.acq_dt.dt.year.isin([2018])\n",
    "ind_2 = df_all.acq_dt.dt.month.isin([7, 8, 9]) & df_all.acq_dt.dt.year.isin([2022])\n",
    "ind = ind_0 | ind_1 | ind_2\n",
    "ind.sum()"
   ]
  },
  {
   "cell_type": "code",
   "execution_count": 54,
   "id": "544d3575-38e8-4c9d-b566-415ff5d89bf0",
   "metadata": {},
   "outputs": [
    {
     "data": {
      "text/plain": [
       "(36, 29)"
      ]
     },
     "execution_count": 54,
     "metadata": {},
     "output_type": "execute_result"
    }
   ],
   "source": [
    "df_filtered = df_all[ind].reset_index(drop=True)\n",
    "df_filtered.shape"
   ]
  },
  {
   "cell_type": "code",
   "execution_count": 55,
   "id": "c4ad0088-0e71-4c7f-8130-3e49460e8d26",
   "metadata": {},
   "outputs": [
    {
     "data": {
      "text/plain": [
       "array([2018, 2017], dtype=int32)"
      ]
     },
     "execution_count": 55,
     "metadata": {},
     "output_type": "execute_result"
    }
   ],
   "source": [
    "df_filtered['acq_dt'].dt.year.unique()"
   ]
  },
  {
   "cell_type": "code",
   "execution_count": 56,
   "id": "67f065cc-81ab-4cd9-bb28-9cd2b32ee139",
   "metadata": {},
   "outputs": [
    {
     "data": {
      "text/plain": [
       "[datetime.date(2021, 12, 20),\n",
       " datetime.date(2021, 12, 14),\n",
       " datetime.date(2021, 12, 8),\n",
       " datetime.date(2021, 12, 2),\n",
       " datetime.date(2021, 11, 26),\n",
       " datetime.date(2021, 11, 20),\n",
       " datetime.date(2021, 11, 14),\n",
       " datetime.date(2021, 11, 8),\n",
       " datetime.date(2021, 11, 2),\n",
       " datetime.date(2021, 10, 27),\n",
       " datetime.date(2021, 10, 21),\n",
       " datetime.date(2021, 10, 15),\n",
       " datetime.date(2021, 10, 9),\n",
       " datetime.date(2021, 10, 3),\n",
       " datetime.date(2021, 9, 27),\n",
       " datetime.date(2021, 9, 21),\n",
       " datetime.date(2021, 9, 15),\n",
       " datetime.date(2021, 9, 9),\n",
       " datetime.date(2021, 9, 3),\n",
       " datetime.date(2021, 8, 28),\n",
       " datetime.date(2021, 8, 22),\n",
       " datetime.date(2021, 8, 16),\n",
       " datetime.date(2021, 8, 10),\n",
       " datetime.date(2021, 8, 4),\n",
       " datetime.date(2021, 7, 29),\n",
       " datetime.date(2021, 7, 23),\n",
       " datetime.date(2021, 7, 17),\n",
       " datetime.date(2021, 7, 11),\n",
       " datetime.date(2021, 7, 5),\n",
       " datetime.date(2021, 6, 29),\n",
       " datetime.date(2021, 6, 23),\n",
       " datetime.date(2021, 6, 17),\n",
       " datetime.date(2021, 6, 11),\n",
       " datetime.date(2021, 6, 5),\n",
       " datetime.date(2021, 5, 30),\n",
       " datetime.date(2021, 5, 24),\n",
       " datetime.date(2021, 5, 18),\n",
       " datetime.date(2021, 5, 12),\n",
       " datetime.date(2021, 5, 6),\n",
       " datetime.date(2021, 4, 30),\n",
       " datetime.date(2021, 4, 24),\n",
       " datetime.date(2021, 4, 18),\n",
       " datetime.date(2021, 4, 12),\n",
       " datetime.date(2021, 4, 6),\n",
       " datetime.date(2021, 3, 31),\n",
       " datetime.date(2021, 3, 25),\n",
       " datetime.date(2021, 3, 19),\n",
       " datetime.date(2021, 3, 13),\n",
       " datetime.date(2021, 3, 7),\n",
       " datetime.date(2021, 3, 1),\n",
       " datetime.date(2021, 2, 23),\n",
       " datetime.date(2021, 2, 17),\n",
       " datetime.date(2021, 2, 11),\n",
       " datetime.date(2021, 1, 30),\n",
       " datetime.date(2021, 1, 24),\n",
       " datetime.date(2021, 1, 18),\n",
       " datetime.date(2021, 1, 12),\n",
       " datetime.date(2021, 1, 6),\n",
       " datetime.date(2020, 12, 31),\n",
       " datetime.date(2020, 12, 25),\n",
       " datetime.date(2020, 12, 19),\n",
       " datetime.date(2020, 12, 13),\n",
       " datetime.date(2020, 12, 7),\n",
       " datetime.date(2020, 12, 1),\n",
       " datetime.date(2020, 11, 25),\n",
       " datetime.date(2020, 11, 19),\n",
       " datetime.date(2020, 11, 13),\n",
       " datetime.date(2020, 11, 7),\n",
       " datetime.date(2020, 11, 1),\n",
       " datetime.date(2020, 10, 26),\n",
       " datetime.date(2020, 10, 20),\n",
       " datetime.date(2020, 10, 14),\n",
       " datetime.date(2020, 10, 8),\n",
       " datetime.date(2020, 10, 2),\n",
       " datetime.date(2020, 9, 26),\n",
       " datetime.date(2020, 9, 20),\n",
       " datetime.date(2020, 9, 14),\n",
       " datetime.date(2020, 9, 8),\n",
       " datetime.date(2020, 9, 2),\n",
       " datetime.date(2020, 8, 27),\n",
       " datetime.date(2020, 8, 21),\n",
       " datetime.date(2020, 8, 15),\n",
       " datetime.date(2020, 8, 9),\n",
       " datetime.date(2020, 8, 3),\n",
       " datetime.date(2020, 7, 28),\n",
       " datetime.date(2020, 7, 16),\n",
       " datetime.date(2020, 7, 10),\n",
       " datetime.date(2020, 7, 4),\n",
       " datetime.date(2020, 6, 28),\n",
       " datetime.date(2020, 6, 22),\n",
       " datetime.date(2020, 6, 10),\n",
       " datetime.date(2020, 5, 29),\n",
       " datetime.date(2020, 5, 17),\n",
       " datetime.date(2020, 5, 5),\n",
       " datetime.date(2020, 4, 23),\n",
       " datetime.date(2020, 4, 11),\n",
       " datetime.date(2020, 3, 30),\n",
       " datetime.date(2020, 3, 18),\n",
       " datetime.date(2020, 3, 6),\n",
       " datetime.date(2020, 2, 23),\n",
       " datetime.date(2020, 2, 11),\n",
       " datetime.date(2020, 1, 30),\n",
       " datetime.date(2020, 1, 18),\n",
       " datetime.date(2020, 1, 6),\n",
       " datetime.date(2019, 12, 25),\n",
       " datetime.date(2019, 12, 13),\n",
       " datetime.date(2019, 12, 1),\n",
       " datetime.date(2019, 11, 19),\n",
       " datetime.date(2019, 11, 7),\n",
       " datetime.date(2019, 10, 26),\n",
       " datetime.date(2019, 10, 14),\n",
       " datetime.date(2019, 10, 2),\n",
       " datetime.date(2019, 9, 8),\n",
       " datetime.date(2019, 8, 27),\n",
       " datetime.date(2019, 8, 15),\n",
       " datetime.date(2019, 8, 3),\n",
       " datetime.date(2019, 7, 22),\n",
       " datetime.date(2019, 7, 10),\n",
       " datetime.date(2019, 6, 28),\n",
       " datetime.date(2019, 6, 16),\n",
       " datetime.date(2019, 6, 4),\n",
       " datetime.date(2019, 5, 23),\n",
       " datetime.date(2019, 5, 11),\n",
       " datetime.date(2019, 4, 29),\n",
       " datetime.date(2019, 4, 17),\n",
       " datetime.date(2019, 4, 5),\n",
       " datetime.date(2019, 3, 24),\n",
       " datetime.date(2019, 3, 12),\n",
       " datetime.date(2019, 2, 16),\n",
       " datetime.date(2019, 2, 4),\n",
       " datetime.date(2019, 1, 23),\n",
       " datetime.date(2019, 1, 11),\n",
       " datetime.date(2018, 12, 30),\n",
       " datetime.date(2018, 12, 18),\n",
       " datetime.date(2018, 12, 6),\n",
       " datetime.date(2018, 11, 24),\n",
       " datetime.date(2018, 11, 12),\n",
       " datetime.date(2018, 10, 31),\n",
       " datetime.date(2018, 10, 19),\n",
       " datetime.date(2018, 10, 7),\n",
       " datetime.date(2018, 9, 25),\n",
       " datetime.date(2018, 9, 13),\n",
       " datetime.date(2018, 9, 1),\n",
       " datetime.date(2018, 8, 20),\n",
       " datetime.date(2018, 8, 8),\n",
       " datetime.date(2018, 7, 27),\n",
       " datetime.date(2018, 7, 15),\n",
       " datetime.date(2018, 7, 3),\n",
       " datetime.date(2018, 6, 21),\n",
       " datetime.date(2018, 6, 9),\n",
       " datetime.date(2018, 5, 28),\n",
       " datetime.date(2018, 5, 16),\n",
       " datetime.date(2018, 5, 4),\n",
       " datetime.date(2018, 4, 22),\n",
       " datetime.date(2018, 4, 10),\n",
       " datetime.date(2018, 3, 29),\n",
       " datetime.date(2018, 3, 17),\n",
       " datetime.date(2018, 3, 5),\n",
       " datetime.date(2018, 2, 21),\n",
       " datetime.date(2018, 2, 9),\n",
       " datetime.date(2018, 1, 28),\n",
       " datetime.date(2018, 1, 16),\n",
       " datetime.date(2018, 1, 4),\n",
       " datetime.date(2017, 12, 23),\n",
       " datetime.date(2017, 12, 11),\n",
       " datetime.date(2017, 11, 29),\n",
       " datetime.date(2017, 11, 17),\n",
       " datetime.date(2017, 10, 24),\n",
       " datetime.date(2017, 10, 12),\n",
       " datetime.date(2017, 9, 30),\n",
       " datetime.date(2017, 9, 18),\n",
       " datetime.date(2017, 9, 6),\n",
       " datetime.date(2017, 8, 25),\n",
       " datetime.date(2017, 8, 13),\n",
       " datetime.date(2017, 8, 1),\n",
       " datetime.date(2017, 7, 20),\n",
       " datetime.date(2017, 7, 8),\n",
       " datetime.date(2017, 6, 26),\n",
       " datetime.date(2017, 6, 14),\n",
       " datetime.date(2017, 6, 2),\n",
       " datetime.date(2017, 5, 21),\n",
       " datetime.date(2017, 5, 9)]"
      ]
     },
     "execution_count": 56,
     "metadata": {},
     "output_type": "execute_result"
    }
   ],
   "source": [
    "df_all['acq_date'].unique().tolist()"
   ]
  },
  {
   "cell_type": "code",
   "execution_count": 57,
   "id": "c9643cab-7782-4188-954b-019fe5692721",
   "metadata": {},
   "outputs": [],
   "source": [
    "df_filtered.to_csv('bc_bruce_request.csv')"
   ]
  },
  {
   "cell_type": "code",
   "execution_count": 58,
   "id": "fcc3236f-5522-41a3-a143-5dc6d07015ed",
   "metadata": {},
   "outputs": [
    {
     "data": {
      "text/plain": [
       "array([71])"
      ]
     },
     "execution_count": 58,
     "metadata": {},
     "output_type": "execute_result"
    }
   ],
   "source": [
    "df_filtered.pathNumber.unique()"
   ]
  },
  {
   "cell_type": "code",
   "execution_count": 59,
   "id": "7c233b35-6938-41b6-af7f-6c6f90938254",
   "metadata": {},
   "outputs": [
    {
     "data": {
      "text/plain": [
       "<Axes: >"
      ]
     },
     "execution_count": 59,
     "metadata": {},
     "output_type": "execute_result"
    },
    {
     "data": {
      "image/png": "[encoded data removed]",
      "text/plain": [
       "<Figure size 640x480 with 1 Axes>"
      ]
     },
     "metadata": {},
     "output_type": "display_data"
    }
   ],
   "source": [
    "fig, ax = plt.subplots()\n",
    "df_filtered.exterior.plot(ax=ax)\n",
    "df_mgrs_aoi.plot(ax=ax, color='yellow')"
   ]
  }
 ],
 "metadata": {
  "kernelspec": {
   "display_name": "dswx_val",
   "language": "python",
   "name": "dswx_val"
  },
  "language_info": {
   "codemirror_mode": {
    "name": "ipython",
    "version": 3
   },
   "file_extension": ".py",
   "mimetype": "text/x-python",
   "name": "python",
   "nbconvert_exporter": "python",
   "pygments_lexer": "ipython3",
   "version": "3.12.3"
  }
 },
 "nbformat": 4,
 "nbformat_minor": 5
}
