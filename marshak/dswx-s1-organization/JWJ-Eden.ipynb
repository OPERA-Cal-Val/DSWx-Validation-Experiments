{
 "cells": [
  {
   "cell_type": "markdown",
   "id": "88f87c8f-89ff-4267-b4c7-10062ae995f0",
   "metadata": {},
   "source": [
    "Request for John"
   ]
  },
  {
   "cell_type": "code",
   "execution_count": 1,
   "id": "8b71c48f-883d-4f6c-a197-759f009dd0f8",
   "metadata": {},
   "outputs": [],
   "source": [
    "import geopandas as gpd\n",
    "from dem_stitcher.geojson_io import read_geojson_gzip\n",
    "from tqdm import tqdm\n",
    "import pandas as pd\n",
    "import asf_search as asf\n",
    "import datetime\n",
    "import matplotlib.pyplot as plt"
   ]
  },
  {
   "cell_type": "markdown",
   "id": "8418080b-092a-448b-a3fd-25c8637d1dec",
   "metadata": {},
   "source": [
    "# Tiles"
   ]
  },
  {
   "cell_type": "code",
   "execution_count": 2,
   "id": "4e227ff4-d419-4d3c-8e89-ff894c3da501",
   "metadata": {},
   "outputs": [
    {
     "data": {
      "image/svg+xml": [
       "<svg xmlns=\"http://www.w3.org/2000/svg\" xmlns:xlink=\"http://www.w3.org/1999/xlink\" width=\"100.0\" height=\"100.0\" viewBox=\"-81.03247305845527 25.183687279874796 0.9373911086097024 1.6090885590465938\" preserveAspectRatio=\"xMinYMin meet\"><g transform=\"matrix(1,0,0,-1,0,51.97646311879619)\"><path fill-rule=\"evenodd\" fill=\"#66cc99\" stroke=\"#555555\" stroke-width=\"0.03218177118093188\" opacity=\"0.6\" d=\"M -80.97287718589799,26.73317996636411 L -80.15467782240285,26.73317996636411 L -80.16849875759702,25.254339900587418 L -80.97011299885915,25.243283152432078 L -80.97287718589799,26.73317996636411 z\" /></g></svg>"
      ],
      "text/plain": [
       "<POLYGON ((-80.973 26.733, -80.155 26.733, -80.168 25.254, -80.97 25.243, -8...>"
      ]
     },
     "execution_count": 2,
     "metadata": {},
     "output_type": "execute_result"
    }
   ],
   "source": [
    "df_aoi = gpd.read_file('EDEN_S1_Sample_Area/EDEN_S1_Sample_Area.shp')\n",
    "geo = df_aoi.geometry.unary_union\n",
    "geo"
   ]
  },
  {
   "cell_type": "code",
   "execution_count": 3,
   "id": "82d8a1ba-9e7f-4e5d-b1e0-ecae58df4f3d",
   "metadata": {},
   "outputs": [
    {
     "data": {
      "text/html": [
       "<div>\n",
       "<style scoped>\n",
       "    .dataframe tbody tr th:only-of-type {\n",
       "        vertical-align: middle;\n",
       "    }\n",
       "\n",
       "    .dataframe tbody tr th {\n",
       "        vertical-align: top;\n",
       "    }\n",
       "\n",
       "    .dataframe thead th {\n",
       "        text-align: right;\n",
       "    }\n",
       "</style>\n",
       "<table border=\"1\" class=\"dataframe\">\n",
       "  <thead>\n",
       "    <tr style=\"text-align: right;\">\n",
       "      <th></th>\n",
       "      <th>geometry</th>\n",
       "      <th>type</th>\n",
       "      <th>identifier</th>\n",
       "    </tr>\n",
       "  </thead>\n",
       "  <tbody>\n",
       "    <tr>\n",
       "      <th>0</th>\n",
       "      <td>MULTIPOLYGON Z (((180.00000 -73.05974 0.00000,...</td>\n",
       "      <td>S2</td>\n",
       "      <td>01CCV</td>\n",
       "    </tr>\n",
       "    <tr>\n",
       "      <th>1</th>\n",
       "      <td>MULTIPOLYGON Z (((180.00000 -83.80855 0.00000,...</td>\n",
       "      <td>S2</td>\n",
       "      <td>01CDH</td>\n",
       "    </tr>\n",
       "    <tr>\n",
       "      <th>2</th>\n",
       "      <td>MULTIPOLYGON Z (((180.00000 -82.91344 0.00000,...</td>\n",
       "      <td>S2</td>\n",
       "      <td>01CDJ</td>\n",
       "    </tr>\n",
       "    <tr>\n",
       "      <th>3</th>\n",
       "      <td>MULTIPOLYGON Z (((180.00000 -82.01866 0.00000,...</td>\n",
       "      <td>S2</td>\n",
       "      <td>01CDK</td>\n",
       "    </tr>\n",
       "    <tr>\n",
       "      <th>4</th>\n",
       "      <td>MULTIPOLYGON Z (((180.00000 -81.12317 0.00000,...</td>\n",
       "      <td>S2</td>\n",
       "      <td>01CDL</td>\n",
       "    </tr>\n",
       "  </tbody>\n",
       "</table>\n",
       "</div>"
      ],
      "text/plain": [
       "                                            geometry type identifier\n",
       "0  MULTIPOLYGON Z (((180.00000 -73.05974 0.00000,...   S2      01CCV\n",
       "1  MULTIPOLYGON Z (((180.00000 -83.80855 0.00000,...   S2      01CDH\n",
       "2  MULTIPOLYGON Z (((180.00000 -82.91344 0.00000,...   S2      01CDJ\n",
       "3  MULTIPOLYGON Z (((180.00000 -82.01866 0.00000,...   S2      01CDK\n",
       "4  MULTIPOLYGON Z (((180.00000 -81.12317 0.00000,...   S2      01CDL"
      ]
     },
     "execution_count": 3,
     "metadata": {},
     "output_type": "execute_result"
    }
   ],
   "source": [
    "df_mgrs = read_geojson_gzip('s2_mgrs_grid.geojson.gzip')\n",
    "df_mgrs.head()"
   ]
  },
  {
   "cell_type": "code",
   "execution_count": 5,
   "id": "7df201d9-eba5-4c2f-8de9-43a335f77438",
   "metadata": {},
   "outputs": [
    {
     "data": {
      "text/html": [
       "<div>\n",
       "<style scoped>\n",
       "    .dataframe tbody tr th:only-of-type {\n",
       "        vertical-align: middle;\n",
       "    }\n",
       "\n",
       "    .dataframe tbody tr th {\n",
       "        vertical-align: top;\n",
       "    }\n",
       "\n",
       "    .dataframe thead th {\n",
       "        text-align: right;\n",
       "    }\n",
       "</style>\n",
       "<table border=\"1\" class=\"dataframe\">\n",
       "  <thead>\n",
       "    <tr style=\"text-align: right;\">\n",
       "      <th></th>\n",
       "      <th>geometry</th>\n",
       "      <th>type</th>\n",
       "      <th>identifier</th>\n",
       "    </tr>\n",
       "  </thead>\n",
       "  <tbody>\n",
       "    <tr>\n",
       "      <th>0</th>\n",
       "      <td>MULTIPOLYGON Z (((-81.99389 25.31338 0.00000, ...</td>\n",
       "      <td>S2</td>\n",
       "      <td>17RMH</td>\n",
       "    </tr>\n",
       "    <tr>\n",
       "      <th>1</th>\n",
       "      <td>MULTIPOLYGON Z (((-82.00143 26.21644 0.00000, ...</td>\n",
       "      <td>S2</td>\n",
       "      <td>17RMJ</td>\n",
       "    </tr>\n",
       "    <tr>\n",
       "      <th>2</th>\n",
       "      <td>MULTIPOLYGON Z (((-82.00935 27.11884 0.00000, ...</td>\n",
       "      <td>S2</td>\n",
       "      <td>17RMK</td>\n",
       "    </tr>\n",
       "    <tr>\n",
       "      <th>3</th>\n",
       "      <td>MULTIPOLYGON Z (((-81.00020 25.31673 0.00000, ...</td>\n",
       "      <td>S2</td>\n",
       "      <td>17RNH</td>\n",
       "    </tr>\n",
       "    <tr>\n",
       "      <th>4</th>\n",
       "      <td>MULTIPOLYGON Z (((-81.00020 26.21993 0.00000, ...</td>\n",
       "      <td>S2</td>\n",
       "      <td>17RNJ</td>\n",
       "    </tr>\n",
       "    <tr>\n",
       "      <th>5</th>\n",
       "      <td>MULTIPOLYGON Z (((-81.00020 27.12247 0.00000, ...</td>\n",
       "      <td>S2</td>\n",
       "      <td>17RNK</td>\n",
       "    </tr>\n",
       "  </tbody>\n",
       "</table>\n",
       "</div>"
      ],
      "text/plain": [
       "                                            geometry type identifier\n",
       "0  MULTIPOLYGON Z (((-81.99389 25.31338 0.00000, ...   S2      17RMH\n",
       "1  MULTIPOLYGON Z (((-82.00143 26.21644 0.00000, ...   S2      17RMJ\n",
       "2  MULTIPOLYGON Z (((-82.00935 27.11884 0.00000, ...   S2      17RMK\n",
       "3  MULTIPOLYGON Z (((-81.00020 25.31673 0.00000, ...   S2      17RNH\n",
       "4  MULTIPOLYGON Z (((-81.00020 26.21993 0.00000, ...   S2      17RNJ\n",
       "5  MULTIPOLYGON Z (((-81.00020 27.12247 0.00000, ...   S2      17RNK"
      ]
     },
     "execution_count": 5,
     "metadata": {},
     "output_type": "execute_result"
    }
   ],
   "source": [
    "df_mgrs_aoi = df_mgrs[df_mgrs.intersects(geo)].reset_index(drop=True)\n",
    "df_mgrs_aoi"
   ]
  },
  {
   "cell_type": "code",
   "execution_count": 27,
   "id": "18e0183c-8e04-47eb-95a7-b5fe0f816586",
   "metadata": {},
   "outputs": [
    {
     "data": {
      "text/plain": [
       "['17RMH', '17RMJ', '17RMK', '17RNH', '17RNJ', '17RNK']"
      ]
     },
     "execution_count": 27,
     "metadata": {},
     "output_type": "execute_result"
    }
   ],
   "source": [
    "TILES = df_mgrs_aoi.identifier.tolist()\n",
    "TILES"
   ]
  },
  {
   "cell_type": "markdown",
   "id": "c42100fc-e282-478e-9009-e99a2e32d402",
   "metadata": {},
   "source": [
    "# Request"
   ]
  },
  {
   "cell_type": "markdown",
   "id": "3f6505c6-ec27-4008-835c-80e77910d515",
   "metadata": {},
   "source": [
    "```\n",
    "March 2022\n",
    "May 2022\n",
    "August 2022\n",
    "November 2022\n",
    "March 2023\n",
    "April 2023\n",
    "August 2023\n",
    "November 2023\n",
    "```"
   ]
  },
  {
   "cell_type": "code",
   "execution_count": 9,
   "id": "af153fa2-a23e-4db1-9459-41428f4b006d",
   "metadata": {},
   "outputs": [],
   "source": [
    "START_TIME = datetime.datetime(2022, 3, 1)\n",
    "STOP_TIME = datetime.datetime(2023, 11, 1)\n",
    "\n",
    "def get_df(tile: str) -> gpd.GeoDataFrame:\n",
    "    geo = df_mgrs_aoi[df_mgrs_aoi.identifier == tile].geometry.tolist()[0]\n",
    "    scenes = asf.geo_search(platform=[asf.PLATFORM.SENTINEL1],\n",
    "            intersectsWith=geo.wkt,\n",
    "            beamMode=[asf.BEAMMODE.IW],\n",
    "            processingLevel=[asf.PRODUCT_TYPE.SLC],\n",
    "            start=START_TIME,\n",
    "            end=STOP_TIME,\n",
    "        )\n",
    "    \n",
    "    df = gpd.GeoDataFrame.from_features(scenes.geojson(), crs='EPSG:4326')\n",
    "    df['startTime'] =  pd.to_datetime(df['startTime'])\n",
    "    df['date_str'] = df['startTime'].dt.date.map(str)\n",
    "    \n",
    "    df_d = df.dissolve(by=['date_str', 'pathNumber'], as_index=False)\n",
    "\n",
    "    int_geo = df_d.geometry.intersection(geo)\n",
    "    perc_overlap = int_geo.area / geo.area\n",
    "\n",
    "    admissible_dates = df_d[perc_overlap > .99].date_str.tolist()\n",
    "    admissible_tracks = df_d[perc_overlap > .99].pathNumber.tolist()\n",
    "\n",
    "    df_f = df[df.date_str.isin(admissible_dates) & df.pathNumber.isin(admissible_tracks)]\n",
    "    df_f['mgrs_tile_id'] = tile\n",
    "    return df_f\n",
    "\n"
   ]
  },
  {
   "cell_type": "code",
   "execution_count": 10,
   "id": "031ce3b2-e093-4614-bd45-0e8e23a003d0",
   "metadata": {},
   "outputs": [
    {
     "name": "stderr",
     "output_type": "stream",
     "text": [
      "  0%|                                                                              | 0/6 [00:00<?, ?it/s]/var/folders/0p/d5x2m4tx5kg1246bplsvyfyh0000gq/T/ipykernel_2484/1865332660.py:21: UserWarning: Geometry is in a geographic CRS. Results from 'area' are likely incorrect. Use 'GeoSeries.to_crs()' to re-project geometries to a projected CRS before this operation.\n",
      "\n",
      "  perc_overlap = int_geo.area / geo.area\n",
      " 17%|███████████▋                                                          | 1/6 [00:01<00:08,  1.65s/it]/var/folders/0p/d5x2m4tx5kg1246bplsvyfyh0000gq/T/ipykernel_2484/1865332660.py:21: UserWarning: Geometry is in a geographic CRS. Results from 'area' are likely incorrect. Use 'GeoSeries.to_crs()' to re-project geometries to a projected CRS before this operation.\n",
      "\n",
      "  perc_overlap = int_geo.area / geo.area\n",
      "/Users/cmarshak/miniforge3/envs/dswx_val/lib/python3.12/site-packages/geopandas/geodataframe.py:1528: SettingWithCopyWarning: \n",
      "A value is trying to be set on a copy of a slice from a DataFrame.\n",
      "Try using .loc[row_indexer,col_indexer] = value instead\n",
      "\n",
      "See the caveats in the documentation: https://pandas.pydata.org/pandas-docs/stable/user_guide/indexing.html#returning-a-view-versus-a-copy\n",
      "  super().__setitem__(key, value)\n",
      " 33%|███████████████████████▎                                              | 2/6 [00:02<00:05,  1.30s/it]/var/folders/0p/d5x2m4tx5kg1246bplsvyfyh0000gq/T/ipykernel_2484/1865332660.py:21: UserWarning: Geometry is in a geographic CRS. Results from 'area' are likely incorrect. Use 'GeoSeries.to_crs()' to re-project geometries to a projected CRS before this operation.\n",
      "\n",
      "  perc_overlap = int_geo.area / geo.area\n",
      "/Users/cmarshak/miniforge3/envs/dswx_val/lib/python3.12/site-packages/geopandas/geodataframe.py:1528: SettingWithCopyWarning: \n",
      "A value is trying to be set on a copy of a slice from a DataFrame.\n",
      "Try using .loc[row_indexer,col_indexer] = value instead\n",
      "\n",
      "See the caveats in the documentation: https://pandas.pydata.org/pandas-docs/stable/user_guide/indexing.html#returning-a-view-versus-a-copy\n",
      "  super().__setitem__(key, value)\n",
      " 50%|███████████████████████████████████                                   | 3/6 [00:04<00:04,  1.34s/it]/var/folders/0p/d5x2m4tx5kg1246bplsvyfyh0000gq/T/ipykernel_2484/1865332660.py:21: UserWarning: Geometry is in a geographic CRS. Results from 'area' are likely incorrect. Use 'GeoSeries.to_crs()' to re-project geometries to a projected CRS before this operation.\n",
      "\n",
      "  perc_overlap = int_geo.area / geo.area\n",
      "/Users/cmarshak/miniforge3/envs/dswx_val/lib/python3.12/site-packages/geopandas/geodataframe.py:1528: SettingWithCopyWarning: \n",
      "A value is trying to be set on a copy of a slice from a DataFrame.\n",
      "Try using .loc[row_indexer,col_indexer] = value instead\n",
      "\n",
      "See the caveats in the documentation: https://pandas.pydata.org/pandas-docs/stable/user_guide/indexing.html#returning-a-view-versus-a-copy\n",
      "  super().__setitem__(key, value)\n",
      " 67%|██████████████████████████████████████████████▋                       | 4/6 [00:04<00:02,  1.13s/it]/var/folders/0p/d5x2m4tx5kg1246bplsvyfyh0000gq/T/ipykernel_2484/1865332660.py:21: UserWarning: Geometry is in a geographic CRS. Results from 'area' are likely incorrect. Use 'GeoSeries.to_crs()' to re-project geometries to a projected CRS before this operation.\n",
      "\n",
      "  perc_overlap = int_geo.area / geo.area\n",
      "/Users/cmarshak/miniforge3/envs/dswx_val/lib/python3.12/site-packages/geopandas/geodataframe.py:1528: SettingWithCopyWarning: \n",
      "A value is trying to be set on a copy of a slice from a DataFrame.\n",
      "Try using .loc[row_indexer,col_indexer] = value instead\n",
      "\n",
      "See the caveats in the documentation: https://pandas.pydata.org/pandas-docs/stable/user_guide/indexing.html#returning-a-view-versus-a-copy\n",
      "  super().__setitem__(key, value)\n",
      " 83%|██████████████████████████████████████████████████████████▎           | 5/6 [00:05<00:01,  1.02s/it]/var/folders/0p/d5x2m4tx5kg1246bplsvyfyh0000gq/T/ipykernel_2484/1865332660.py:21: UserWarning: Geometry is in a geographic CRS. Results from 'area' are likely incorrect. Use 'GeoSeries.to_crs()' to re-project geometries to a projected CRS before this operation.\n",
      "\n",
      "  perc_overlap = int_geo.area / geo.area\n",
      "/Users/cmarshak/miniforge3/envs/dswx_val/lib/python3.12/site-packages/geopandas/geodataframe.py:1528: SettingWithCopyWarning: \n",
      "A value is trying to be set on a copy of a slice from a DataFrame.\n",
      "Try using .loc[row_indexer,col_indexer] = value instead\n",
      "\n",
      "See the caveats in the documentation: https://pandas.pydata.org/pandas-docs/stable/user_guide/indexing.html#returning-a-view-versus-a-copy\n",
      "  super().__setitem__(key, value)\n",
      "100%|██████████████████████████████████████████████████████████████████████| 6/6 [00:07<00:00,  1.18s/it]\n"
     ]
    }
   ],
   "source": [
    "dfs = list(map(get_df, tqdm(TILES)))\n",
    "df_all = pd.concat(dfs, axis=0)"
   ]
  },
  {
   "cell_type": "code",
   "execution_count": 11,
   "id": "b764edd5-ebec-4e61-858e-afeac9f9f38f",
   "metadata": {},
   "outputs": [],
   "source": [
    "df_all = df_all.drop_duplicates(subset='fileID')"
   ]
  },
  {
   "cell_type": "code",
   "execution_count": 12,
   "id": "47f99239-d89b-462b-a475-f4b930c22b85",
   "metadata": {},
   "outputs": [
    {
     "data": {
      "text/plain": [
       "(139, 27)"
      ]
     },
     "execution_count": 12,
     "metadata": {},
     "output_type": "execute_result"
    }
   ],
   "source": [
    "df_all.shape"
   ]
  },
  {
   "cell_type": "code",
   "execution_count": 22,
   "id": "e8aac489-356c-48fd-aab2-6a01c355e784",
   "metadata": {},
   "outputs": [
    {
     "data": {
      "text/plain": [
       "(64, 29)"
      ]
     },
     "execution_count": 22,
     "metadata": {},
     "output_type": "execute_result"
    }
   ],
   "source": [
    "df_all['acq_dt'] = pd.to_datetime(df_all.startTime)\n",
    "df_all['acq_date'] = df_all['acq_dt'].dt.date\n",
    "df_filtered = df_all[df_all['acq_dt'].dt.month.isin([3, 4, 5, 8, 11])].reset_index(drop=True)\n",
    "df_filtered.shape"
   ]
  },
  {
   "cell_type": "code",
   "execution_count": 23,
   "id": "67f065cc-81ab-4cd9-bb28-9cd2b32ee139",
   "metadata": {},
   "outputs": [
    {
     "data": {
      "text/plain": [
       "[datetime.date(2023, 8, 22),\n",
       " datetime.date(2023, 8, 10),\n",
       " datetime.date(2023, 5, 6),\n",
       " datetime.date(2023, 4, 24),\n",
       " datetime.date(2023, 4, 12),\n",
       " datetime.date(2023, 3, 31),\n",
       " datetime.date(2023, 3, 19),\n",
       " datetime.date(2023, 3, 7),\n",
       " datetime.date(2022, 11, 19),\n",
       " datetime.date(2022, 11, 7),\n",
       " datetime.date(2022, 8, 27),\n",
       " datetime.date(2022, 8, 15),\n",
       " datetime.date(2022, 8, 3),\n",
       " datetime.date(2022, 5, 11),\n",
       " datetime.date(2022, 4, 29),\n",
       " datetime.date(2022, 4, 17),\n",
       " datetime.date(2022, 4, 5),\n",
       " datetime.date(2022, 3, 24),\n",
       " datetime.date(2022, 3, 12),\n",
       " datetime.date(2023, 5, 30),\n",
       " datetime.date(2023, 5, 18),\n",
       " datetime.date(2022, 11, 10)]"
      ]
     },
     "execution_count": 23,
     "metadata": {},
     "output_type": "execute_result"
    }
   ],
   "source": [
    "df_filtered['acq_date'].unique().tolist()"
   ]
  },
  {
   "cell_type": "code",
   "execution_count": 24,
   "id": "c9643cab-7782-4188-954b-019fe5692721",
   "metadata": {},
   "outputs": [],
   "source": [
    "df_filtered.to_csv('jwjones_eden_request.csv')"
   ]
  },
  {
   "cell_type": "code",
   "execution_count": 25,
   "id": "fcc3236f-5522-41a3-a143-5dc6d07015ed",
   "metadata": {},
   "outputs": [
    {
     "data": {
      "text/plain": [
       "array([48, 84])"
      ]
     },
     "execution_count": 25,
     "metadata": {},
     "output_type": "execute_result"
    }
   ],
   "source": [
    "df_filtered.pathNumber.unique()"
   ]
  },
  {
   "cell_type": "code",
   "execution_count": 26,
   "id": "7c233b35-6938-41b6-af7f-6c6f90938254",
   "metadata": {},
   "outputs": [
    {
     "data": {
      "text/plain": [
       "<Axes: >"
      ]
     },
     "execution_count": 26,
     "metadata": {},
     "output_type": "execute_result"
    },
    {
     "data": {
      "image/png": "[encoded data removed]",
      "text/plain": [
       "<Figure size 640x480 with 1 Axes>"
      ]
     },
     "metadata": {},
     "output_type": "display_data"
    }
   ],
   "source": [
    "fig, ax = plt.subplots()\n",
    "df_filtered.exterior.plot(ax=ax)\n",
    "df_mgrs_aoi.plot(ax=ax, color='yellow')"
   ]
  }
 ],
 "metadata": {
  "kernelspec": {
   "display_name": "dswx_val",
   "language": "python",
   "name": "dswx_val"
  },
  "language_info": {
   "codemirror_mode": {
    "name": "ipython",
    "version": 3
   },
   "file_extension": ".py",
   "mimetype": "text/x-python",
   "name": "python",
   "nbconvert_exporter": "python",
   "pygments_lexer": "ipython3",
   "version": "3.12.3"
  }
 },
 "nbformat": 4,
 "nbformat_minor": 5
}
