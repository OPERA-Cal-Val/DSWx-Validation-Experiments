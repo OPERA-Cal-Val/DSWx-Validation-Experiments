{
 "cells": [
  {
   "cell_type": "code",
   "execution_count": 1,
   "id": "billion-employer",
   "metadata": {
    "ExecuteTime": {
     "end_time": "2022-07-14T23:49:06.646446Z",
     "start_time": "2022-07-14T23:49:05.710977Z"
    }
   },
   "outputs": [],
   "source": [
    "from dotenv import dotenv_values\n",
    "from elasticsearch import Elasticsearch\n",
    "from elasticsearch_dsl import Search, Q\n",
    "import rasterio\n",
    "import matplotlib.pyplot as plt"
   ]
  },
  {
   "cell_type": "markdown",
   "id": "genetic-butterfly",
   "metadata": {},
   "source": [
    "In your `.env` file somewhere above this notebook or level with the directory put:\n",
    "\n",
    "```\n",
    "ES_USERNAME = <JPL_USERNAME>\n",
    "ES_PASSWORD = <JPL_PASSWORD>\n",
    "```"
   ]
  },
  {
   "cell_type": "code",
   "execution_count": 2,
   "id": "lesser-shell",
   "metadata": {
    "ExecuteTime": {
     "end_time": "2022-07-14T23:49:06.653123Z",
     "start_time": "2022-07-14T23:49:06.648109Z"
    }
   },
   "outputs": [],
   "source": [
    "config = dotenv_values()\n",
    "ES_USERNAME = config['ES_USERNAME']\n",
    "ES_PASSWORD = config['ES_PASSWORD']"
   ]
  },
  {
   "cell_type": "markdown",
   "id": "combined-beauty",
   "metadata": {},
   "source": [
    "# Setup"
   ]
  },
  {
   "cell_type": "code",
   "execution_count": 3,
   "id": "million-institution",
   "metadata": {
    "ExecuteTime": {
     "end_time": "2022-07-14T23:49:06.658788Z",
     "start_time": "2022-07-14T23:49:06.655264Z"
    }
   },
   "outputs": [
    {
     "name": "stderr",
     "output_type": "stream",
     "text": [
      "/Users/cmarshak/opt/anaconda3/lib/python3.8/site-packages/elasticsearch/connection/http_urllib3.py:204: UserWarning: Connecting to https://100.104.62.10:443 using SSL with verify_certs=False is insecure.\n",
      "  warnings.warn(\n"
     ]
    }
   ],
   "source": [
    "GRQ_URL = 'https://100.104.62.10/grq_es/'\n",
    "grq_client = Elasticsearch(GRQ_URL, \n",
    "                           http_auth=(ES_USERNAME, ES_PASSWORD), \n",
    "                           verify_certs=False, \n",
    "                           read_timeout=50000, \n",
    "                           terminate_after=2500,\n",
    "                          )"
   ]
  },
  {
   "cell_type": "markdown",
   "id": "respiratory-riding",
   "metadata": {},
   "source": [
    "# Check Access"
   ]
  },
  {
   "cell_type": "code",
   "execution_count": 4,
   "id": "involved-underwear",
   "metadata": {
    "ExecuteTime": {
     "end_time": "2022-07-14T23:49:06.898106Z",
     "start_time": "2022-07-14T23:49:06.660615Z"
    }
   },
   "outputs": [
    {
     "name": "stderr",
     "output_type": "stream",
     "text": [
      "/Users/cmarshak/opt/anaconda3/lib/python3.8/site-packages/urllib3/connectionpool.py:981: InsecureRequestWarning: Unverified HTTPS request is being made to host '100.104.62.10'. Adding certificate verification is strongly advised. See: https://urllib3.readthedocs.io/en/latest/advanced-usage.html#ssl-warnings\n",
      "  warnings.warn(\n"
     ]
    },
    {
     "data": {
      "text/plain": [
       "True"
      ]
     },
     "execution_count": 4,
     "metadata": {},
     "output_type": "execute_result"
    }
   ],
   "source": [
    "grq_client.ping()"
   ]
  },
  {
   "cell_type": "markdown",
   "id": "daily-investigator",
   "metadata": {
    "ExecuteTime": {
     "end_time": "2022-07-14T23:54:15.710275Z",
     "start_time": "2022-07-14T23:54:15.707011Z"
    }
   },
   "source": [
    "If `False`, you don't have access. Make sure you are connected to the VPN."
   ]
  },
  {
   "cell_type": "markdown",
   "id": "provincial-mortality",
   "metadata": {},
   "source": [
    "# Search Object"
   ]
  },
  {
   "cell_type": "code",
   "execution_count": 5,
   "id": "smaller-twelve",
   "metadata": {
    "ExecuteTime": {
     "end_time": "2022-07-14T23:49:06.901661Z",
     "start_time": "2022-07-14T23:49:06.899605Z"
    }
   },
   "outputs": [],
   "source": [
    "search = Search(using=grq_client, \n",
    "                # wildcard is where the version is\n",
    "                index='grq_*_l3_dswx_hls')"
   ]
  },
  {
   "cell_type": "markdown",
   "id": "dedicated-exception",
   "metadata": {},
   "source": [
    "# Search by DSWx_ID\n",
    "\n",
    "This is the easiest way to search, but we likely won't know the ID of the DSWx product straight away."
   ]
  },
  {
   "cell_type": "code",
   "execution_count": 6,
   "id": "broke-violence",
   "metadata": {
    "ExecuteTime": {
     "end_time": "2022-07-14T23:49:06.904891Z",
     "start_time": "2022-07-14T23:49:06.903218Z"
    }
   },
   "outputs": [],
   "source": [
    "DSWx_ID = 'OPERA_L3_DSWx_HLS_S2A_30_T14SQB_20211003T170141Z_20220712T005331Z_v0.1_001'"
   ]
  },
  {
   "cell_type": "code",
   "execution_count": 7,
   "id": "disabled-phrase",
   "metadata": {
    "ExecuteTime": {
     "end_time": "2022-07-14T23:49:06.909274Z",
     "start_time": "2022-07-14T23:49:06.906272Z"
    }
   },
   "outputs": [
    {
     "data": {
      "text/plain": [
       "{'match': {'_id': 'OPERA_L3_DSWx_HLS_S2A_30_T14SQB_20211003T170141Z_20220712T005331Z_v0.1_001'}}"
      ]
     },
     "execution_count": 7,
     "metadata": {},
     "output_type": "execute_result"
    }
   ],
   "source": [
    "q = Q('match',_id=DSWx_ID)\n",
    "q.to_dict()"
   ]
  },
  {
   "cell_type": "code",
   "execution_count": 8,
   "id": "returning-affect",
   "metadata": {
    "ExecuteTime": {
     "end_time": "2022-07-14T23:49:07.079320Z",
     "start_time": "2022-07-14T23:49:06.912120Z"
    }
   },
   "outputs": [
    {
     "name": "stderr",
     "output_type": "stream",
     "text": [
      "/Users/cmarshak/opt/anaconda3/lib/python3.8/site-packages/urllib3/connectionpool.py:981: InsecureRequestWarning: Unverified HTTPS request is being made to host '100.104.62.10'. Adding certificate verification is strongly advised. See: https://urllib3.readthedocs.io/en/latest/advanced-usage.html#ssl-warnings\n",
      "  warnings.warn(\n"
     ]
    }
   ],
   "source": [
    "\n",
    "query = search.query(q)\n",
    "resp = query.execute()"
   ]
  },
  {
   "cell_type": "code",
   "execution_count": 9,
   "id": "deadly-tower",
   "metadata": {
    "ExecuteTime": {
     "end_time": "2022-07-14T23:49:07.085001Z",
     "start_time": "2022-07-14T23:49:07.081987Z"
    }
   },
   "outputs": [
    {
     "data": {
      "text/plain": [
       "1"
      ]
     },
     "execution_count": 9,
     "metadata": {},
     "output_type": "execute_result"
    }
   ],
   "source": [
    "len(resp.hits)"
   ]
  },
  {
   "cell_type": "markdown",
   "id": "statewide-jewel",
   "metadata": {},
   "source": [
    "All the data becomes an object with toplevel keys as attributes."
   ]
  },
  {
   "cell_type": "code",
   "execution_count": 29,
   "id": "delayed-invitation",
   "metadata": {
    "ExecuteTime": {
     "end_time": "2022-07-14T23:55:48.525347Z",
     "start_time": "2022-07-14T23:55:48.522129Z"
    }
   },
   "outputs": [
    {
     "data": {
      "text/plain": [
       "('OPERA_L3_DSWx_HLS_S2B_30_T54KUG_20210924T005709Z_20220712T005318Z_v0.1_001',\n",
       " ['http://opera-pst-rs-pop1.s3-website-us-west-2.amazonaws.com/browse/OPERA_L3_DSWx_HLS_S2B_30_T54KUG_20210924T005709Z_20220712T005318Z_v0.1_001', 's3://s3-us-west-2.amazonaws.com:80/opera-pst-rs-pop1/browse/OPERA_L3_DSWx_HLS_S2B_30_T54KUG_20210924T005709Z_20220712T005318Z_v0.1_001'])"
      ]
     },
     "execution_count": 29,
     "metadata": {},
     "output_type": "execute_result"
    }
   ],
   "source": [
    "resp.hits[0].id, resp.hits[0].browse_urls"
   ]
  },
  {
   "cell_type": "markdown",
   "id": "earlier-hopkins",
   "metadata": {},
   "source": [
    "I just send it all into a dictionary."
   ]
  },
  {
   "cell_type": "code",
   "execution_count": 11,
   "id": "emerging-tourism",
   "metadata": {
    "ExecuteTime": {
     "end_time": "2022-07-14T23:49:07.092737Z",
     "start_time": "2022-07-14T23:49:07.090877Z"
    }
   },
   "outputs": [],
   "source": [
    "data = resp.hits[0].to_dict()"
   ]
  },
  {
   "cell_type": "markdown",
   "id": "improved-sucking",
   "metadata": {},
   "source": [
    "# Search By HLS Tokens\n",
    "\n"
   ]
  },
  {
   "cell_type": "code",
   "execution_count": 12,
   "id": "overall-crime",
   "metadata": {
    "ExecuteTime": {
     "end_time": "2022-07-14T23:49:07.096015Z",
     "start_time": "2022-07-14T23:49:07.094180Z"
    }
   },
   "outputs": [],
   "source": [
    "HLS_ID = 'HLS.S30.T54KUG.2021267T005709.v2.0'"
   ]
  },
  {
   "cell_type": "code",
   "execution_count": 13,
   "id": "communist-marriage",
   "metadata": {
    "ExecuteTime": {
     "end_time": "2022-07-14T23:49:07.099191Z",
     "start_time": "2022-07-14T23:49:07.097150Z"
    }
   },
   "outputs": [],
   "source": [
    "tokens = HLS_ID.split('.')"
   ]
  },
  {
   "cell_type": "code",
   "execution_count": 14,
   "id": "upper-norman",
   "metadata": {
    "ExecuteTime": {
     "end_time": "2022-07-14T23:49:07.103639Z",
     "start_time": "2022-07-14T23:49:07.100692Z"
    }
   },
   "outputs": [
    {
     "data": {
      "text/plain": [
       "('T54KUG', '2021267T005709')"
      ]
     },
     "execution_count": 14,
     "metadata": {},
     "output_type": "execute_result"
    }
   ],
   "source": [
    "token_1 = tokens[2]\n",
    "token_2 = tokens[3]\n",
    "token_1, token_2"
   ]
  },
  {
   "cell_type": "code",
   "execution_count": 15,
   "id": "rural-istanbul",
   "metadata": {
    "ExecuteTime": {
     "end_time": "2022-07-14T23:49:07.108908Z",
     "start_time": "2022-07-14T23:49:07.105494Z"
    }
   },
   "outputs": [
    {
     "data": {
      "text/plain": [
       "{'query_string': {'query': '\"T54KUG\" \"2021267T005709\"', 'default_field': 'id'}}"
      ]
     },
     "execution_count": 15,
     "metadata": {},
     "output_type": "execute_result"
    }
   ],
   "source": [
    "q_qs = Q('query_string', \n",
    "         query=f'\\\"{token_1}\\\" \\\"{token_2}\\\"', \n",
    "         default_field=\"id\")\n",
    "q_qs.to_dict()"
   ]
  },
  {
   "cell_type": "code",
   "execution_count": 16,
   "id": "jewish-messenger",
   "metadata": {
    "ExecuteTime": {
     "end_time": "2022-07-14T23:49:07.235189Z",
     "start_time": "2022-07-14T23:49:07.110795Z"
    }
   },
   "outputs": [
    {
     "name": "stderr",
     "output_type": "stream",
     "text": [
      "/Users/cmarshak/opt/anaconda3/lib/python3.8/site-packages/urllib3/connectionpool.py:981: InsecureRequestWarning: Unverified HTTPS request is being made to host '100.104.62.10'. Adding certificate verification is strongly advised. See: https://urllib3.readthedocs.io/en/latest/advanced-usage.html#ssl-warnings\n",
      "  warnings.warn(\n"
     ]
    },
    {
     "data": {
      "text/plain": [
       "1"
      ]
     },
     "execution_count": 16,
     "metadata": {},
     "output_type": "execute_result"
    }
   ],
   "source": [
    "query = search.query(q_qs)\n",
    "resp = query.execute()\n",
    "len(resp.hits)"
   ]
  },
  {
   "cell_type": "code",
   "execution_count": 17,
   "id": "different-joseph",
   "metadata": {
    "ExecuteTime": {
     "end_time": "2022-07-14T23:49:07.239662Z",
     "start_time": "2022-07-14T23:49:07.236843Z"
    }
   },
   "outputs": [
    {
     "data": {
      "text/plain": [
       "'OPERA_L3_DSWx_HLS_S2B_30_T54KUG_20210924T005709Z_20220712T005318Z_v0.1_001'"
      ]
     },
     "execution_count": 17,
     "metadata": {},
     "output_type": "execute_result"
    }
   ],
   "source": [
    "resp.hits[0].id"
   ]
  },
  {
   "cell_type": "code",
   "execution_count": 18,
   "id": "cultural-pottery",
   "metadata": {
    "ExecuteTime": {
     "end_time": "2022-07-14T23:49:07.243179Z",
     "start_time": "2022-07-14T23:49:07.241103Z"
    }
   },
   "outputs": [],
   "source": [
    "data = resp.hits[0].to_dict()"
   ]
  },
  {
   "cell_type": "markdown",
   "id": "elegant-montreal",
   "metadata": {},
   "source": [
    "Eventually, we can search by HLS ID directly."
   ]
  },
  {
   "cell_type": "markdown",
   "id": "postal-jacket",
   "metadata": {},
   "source": [
    "# Get DSWx Data\n",
    "\n",
    "This will be made easier too."
   ]
  },
  {
   "cell_type": "code",
   "execution_count": 19,
   "id": "ignored-samuel",
   "metadata": {
    "ExecuteTime": {
     "end_time": "2022-07-14T23:49:07.247212Z",
     "start_time": "2022-07-14T23:49:07.244584Z"
    }
   },
   "outputs": [
    {
     "data": {
      "text/plain": [
       "['http://opera-pst-rs-pop1.s3-website-us-west-2.amazonaws.com/browse/OPERA_L3_DSWx_HLS_S2B_30_T54KUG_20210924T005709Z_20220712T005318Z_v0.1_001',\n",
       " 's3://s3-us-west-2.amazonaws.com:80/opera-pst-rs-pop1/browse/OPERA_L3_DSWx_HLS_S2B_30_T54KUG_20210924T005709Z_20220712T005318Z_v0.1_001']"
      ]
     },
     "execution_count": 19,
     "metadata": {},
     "output_type": "execute_result"
    }
   ],
   "source": [
    "data['browse_urls']"
   ]
  },
  {
   "cell_type": "code",
   "execution_count": 20,
   "id": "grand-tomato",
   "metadata": {
    "ExecuteTime": {
     "end_time": "2022-07-14T23:49:07.251787Z",
     "start_time": "2022-07-14T23:49:07.248489Z"
    }
   },
   "outputs": [
    {
     "data": {
      "text/plain": [
       "'http://opera-pst-rs-pop1.s3.us-west-2.amazonaws.com/products/OPERA_L3_DSWx_HLS_S2B_30_T54KUG_20210924T005709Z_20220712T005318Z_v0.1_001'"
      ]
     },
     "execution_count": 20,
     "metadata": {},
     "output_type": "execute_result"
    }
   ],
   "source": [
    "base_url = data['browse_urls'][0]\n",
    "base_url = base_url.replace('s3-website-us-west-2', 's3.us-west-2').replace('browse', 'products')\n",
    "base_url"
   ]
  },
  {
   "cell_type": "code",
   "execution_count": 21,
   "id": "collective-spider",
   "metadata": {
    "ExecuteTime": {
     "end_time": "2022-07-14T23:49:07.257053Z",
     "start_time": "2022-07-14T23:49:07.253333Z"
    }
   },
   "outputs": [
    {
     "data": {
      "text/plain": [
       "[(0,\n",
       "  'OPERA_L3_DSWx_HLS_S2B_30_T54KUG_20210924T005709Z_20220712T005318Z_v0.1_001_B01_WTR.tiff'),\n",
       " (1,\n",
       "  'OPERA_L3_DSWx_HLS_S2B_30_T54KUG_20210924T005709Z_20220712T005318Z_v0.1_001_B02_BWTR.tiff'),\n",
       " (2,\n",
       "  'OPERA_L3_DSWx_HLS_S2B_30_T54KUG_20210924T005709Z_20220712T005318Z_v0.1_001_B03_CONF.tiff'),\n",
       " (3,\n",
       "  'OPERA_L3_DSWx_HLS_S2B_30_T54KUG_20210924T005709Z_20220712T005318Z_v0.1_001_B04_DIAG.tiff'),\n",
       " (4,\n",
       "  'OPERA_L3_DSWx_HLS_S2B_30_T54KUG_20210924T005709Z_20220712T005318Z_v0.1_001_B05_WTR-1.tiff'),\n",
       " (5,\n",
       "  'OPERA_L3_DSWx_HLS_S2B_30_T54KUG_20210924T005709Z_20220712T005318Z_v0.1_001_B06_WTR-2.tiff'),\n",
       " (6,\n",
       "  'OPERA_L3_DSWx_HLS_S2B_30_T54KUG_20210924T005709Z_20220712T005318Z_v0.1_001_B07_LAND.tiff'),\n",
       " (7,\n",
       "  'OPERA_L3_DSWx_HLS_S2B_30_T54KUG_20210924T005709Z_20220712T005318Z_v0.1_001_B08_SHAD.tiff'),\n",
       " (8,\n",
       "  'OPERA_L3_DSWx_HLS_S2B_30_T54KUG_20210924T005709Z_20220712T005318Z_v0.1_001_B09_CLOUD.tiff'),\n",
       " (9,\n",
       "  'OPERA_L3_DSWx_HLS_S2B_30_T54KUG_20210924T005709Z_20220712T005318Z_v0.1_001_B10_DEM.tiff')]"
      ]
     },
     "execution_count": 21,
     "metadata": {},
     "output_type": "execute_result"
    }
   ],
   "source": [
    "all_file_names = [file_data['FileName'] for file_data in data['metadata']['Files']]\n",
    "list(enumerate(all_file_names))"
   ]
  },
  {
   "cell_type": "code",
   "execution_count": 22,
   "id": "square-assistant",
   "metadata": {
    "ExecuteTime": {
     "end_time": "2022-07-14T23:49:07.261309Z",
     "start_time": "2022-07-14T23:49:07.258536Z"
    }
   },
   "outputs": [
    {
     "data": {
      "text/plain": [
       "'http://opera-pst-rs-pop1.s3.us-west-2.amazonaws.com/products/OPERA_L3_DSWx_HLS_S2B_30_T54KUG_20210924T005709Z_20220712T005318Z_v0.1_001/OPERA_L3_DSWx_HLS_S2B_30_T54KUG_20210924T005709Z_20220712T005318Z_v0.1_001_B01_WTR.tiff'"
      ]
     },
     "execution_count": 22,
     "metadata": {},
     "output_type": "execute_result"
    }
   ],
   "source": [
    "url = f'{base_url}/{all_file_names[0]}'\n",
    "url"
   ]
  },
  {
   "cell_type": "code",
   "execution_count": 23,
   "id": "advanced-xerox",
   "metadata": {
    "ExecuteTime": {
     "end_time": "2022-07-14T23:49:07.269460Z",
     "start_time": "2022-07-14T23:49:07.266650Z"
    }
   },
   "outputs": [
    {
     "data": {
      "text/plain": [
       "'https://opera-pst-rs-pop1.s3.us-west-2.amazonaws.com/products/OPERA_L3_DSWx_HLS_S2A_30_T14SQB_20211003T170141Z_20220712T005331Z_v0.1_001/OPERA_L3_DSWx_HLS_S2A_30_T14SQB_20211003T170141Z_20220712T005331Z_v0.1_001_B01_WTR.tiff'"
      ]
     },
     "execution_count": 23,
     "metadata": {},
     "output_type": "execute_result"
    }
   ],
   "source": [
    "'https://opera-pst-rs-pop1.s3.us-west-2.amazonaws.com/products/OPERA_L3_DSWx_HLS_S2A_30_T14SQB_20211003T170141Z_20220712T005331Z_v0.1_001/OPERA_L3_DSWx_HLS_S2A_30_T14SQB_20211003T170141Z_20220712T005331Z_v0.1_001_B01_WTR.tiff'"
   ]
  },
  {
   "cell_type": "code",
   "execution_count": 24,
   "id": "adolescent-picture",
   "metadata": {
    "ExecuteTime": {
     "end_time": "2022-07-14T23:49:08.018051Z",
     "start_time": "2022-07-14T23:49:07.271474Z"
    }
   },
   "outputs": [
    {
     "data": {
      "text/plain": [
       "{'driver': 'GTiff', 'dtype': 'uint8', 'nodata': 255.0, 'width': 3660, 'height': 3660, 'count': 1, 'crs': CRS.from_wkt('PROJCS[\"UTM Zone 54, Northern Hemisphere\",GEOGCS[\"Unknown datum based upon the WGS 84 ellipsoid\",DATUM[\"Not_specified_based_on_WGS_84_spheroid\",SPHEROID[\"WGS 84\",6378137,298.257223563,AUTHORITY[\"EPSG\",\"7030\"]]],PRIMEM[\"Greenwich\",0],UNIT[\"degree\",0.0174532925199433,AUTHORITY[\"EPSG\",\"9122\"]]],PROJECTION[\"Transverse_Mercator\"],PARAMETER[\"latitude_of_origin\",0],PARAMETER[\"central_meridian\",141],PARAMETER[\"scale_factor\",0.9996],PARAMETER[\"false_easting\",500000],PARAMETER[\"false_northing\",0],UNIT[\"metre\",1,AUTHORITY[\"EPSG\",\"9001\"]],AXIS[\"Easting\",EAST],AXIS[\"Northing\",NORTH]]'), 'transform': Affine(30.0, 0.0, 300000.0,\n",
       "       0.0, -30.0, -1800000.0), 'blockxsize': 256, 'blockysize': 256, 'tiled': True, 'compress': 'deflate', 'interleave': 'band'}"
      ]
     },
     "execution_count": 24,
     "metadata": {},
     "output_type": "execute_result"
    }
   ],
   "source": [
    "with rasterio.open(url) as ds:\n",
    "    p = ds.profile\n",
    "p"
   ]
  },
  {
   "cell_type": "code",
   "execution_count": 27,
   "id": "competitive-monkey",
   "metadata": {
    "ExecuteTime": {
     "end_time": "2022-07-14T23:49:58.478147Z",
     "start_time": "2022-07-14T23:49:58.292966Z"
    }
   },
   "outputs": [
    {
     "data": {
      "text/plain": [
       "({'ACCODE': 'LaSRC',\n",
       "  'AREA_OR_POINT': 'Area',\n",
       "  'CLOUD_COVERAGE': '3',\n",
       "  'DEM_FILE': '(not provided)',\n",
       "  'HLS_DATASET': 'HLS.S30.T54KUG.2021267T005709.v2.0',\n",
       "  'LANDCOVER_FILE': '(not provided)',\n",
       "  'LEVEL': '3',\n",
       "  'MEAN_SUN_AZIMUTH_ANGLE': '56.5232774998761',\n",
       "  'MEAN_SUN_ZENITH_ANGLE': '27.8459887699558',\n",
       "  'MEAN_VIEW_AZIMUTH_ANGLE': '199.47818460463',\n",
       "  'MEAN_VIEW_ZENITH_ANGLE': '2.88570539467059',\n",
       "  'NBAR_SOLAR_ZENITH': '29.9222440164674',\n",
       "  'PROCESSING_DATETIME': '2022-07-12T00:53:18',\n",
       "  'PRODUCT_ID': 'dswx_hls',\n",
       "  'PRODUCT_SOURCE': 'HLS',\n",
       "  'PRODUCT_TYPE': 'DSWx',\n",
       "  'PRODUCT_VERSION': '0.1',\n",
       "  'PROJECT': 'OPERA',\n",
       "  'SENSING_TIME': '2021-09-24T01:01:44.332631Z',\n",
       "  'SENSOR': 'MSI',\n",
       "  'SENSOR_PRODUCT_ID': 'S2B_MSIL1C_20210924T005709_N0301_R002_T54KUG_20210924T020000.SAFE',\n",
       "  'SPACECRAFT_NAME': 'SENTINEL-2B',\n",
       "  'SPATIAL_COVERAGE': '99',\n",
       "  'WORLDCOVER_FILE': '(not provided)'},\n",
       " ('Water classification (WTR)',))"
      ]
     },
     "execution_count": 27,
     "metadata": {},
     "output_type": "execute_result"
    }
   ],
   "source": [
    "with rasterio.open(url) as ds:\n",
    "    tags = ds.tags()\n",
    "    desc = ds.descriptions\n",
    "tags, desc"
   ]
  },
  {
   "cell_type": "code",
   "execution_count": 26,
   "id": "vital-eclipse",
   "metadata": {
    "ExecuteTime": {
     "end_time": "2022-07-14T23:49:09.288183Z",
     "start_time": "2022-07-14T23:49:08.089160Z"
    }
   },
   "outputs": [
    {
     "data": {
      "text/plain": [
       "<matplotlib.colorbar.Colorbar at 0x7fd5e8ccdf40>"
      ]
     },
     "execution_count": 26,
     "metadata": {},
     "output_type": "execute_result"
    },
    {
     "data": {
      "image/png": "[encoded data removed]",
      "text/plain": [
       "<Figure size 432x288 with 2 Axes>"
      ]
     },
     "metadata": {
      "needs_background": "light"
     },
     "output_type": "display_data"
    }
   ],
   "source": [
    "with rasterio.open(url) as ds:\n",
    "    X = ds.read(1)\n",
    "plt.imshow(X, vmax=10, cmap='tab10', interpolation='None')\n",
    "plt.colorbar()"
   ]
  }
 ],
 "metadata": {
  "kernelspec": {
   "display_name": "Python 3",
   "language": "python",
   "name": "python3"
  },
  "language_info": {
   "codemirror_mode": {
    "name": "ipython",
    "version": 3
   },
   "file_extension": ".py",
   "mimetype": "text/x-python",
   "name": "python",
   "nbconvert_exporter": "python",
   "pygments_lexer": "ipython3",
   "version": "3.8.5"
  }
 },
 "nbformat": 4,
 "nbformat_minor": 5
}
