{
 "cells": [
  {
   "cell_type": "code",
   "execution_count": 1,
   "id": "arctic-master",
   "metadata": {
    "ExecuteTime": {
     "end_time": "2022-07-06T00:23:33.245418Z",
     "start_time": "2022-07-06T00:23:30.321703Z"
    }
   },
   "outputs": [],
   "source": [
    "import contextily as ctx\n",
    "import geopandas as gpd\n",
    "import matplotlib.pyplot as plt\n",
    "import rasterio\n",
    "from rasterio.crs import CRS\n",
    "import numpy as np"
   ]
  },
  {
   "cell_type": "code",
   "execution_count": 2,
   "id": "numerical-vertical",
   "metadata": {
    "ExecuteTime": {
     "end_time": "2022-07-06T00:23:33.303100Z",
     "start_time": "2022-07-06T00:23:33.247590Z"
    }
   },
   "outputs": [
    {
     "data": {
      "text/html": [
       "<div>\n",
       "<style scoped>\n",
       "    .dataframe tbody tr th:only-of-type {\n",
       "        vertical-align: middle;\n",
       "    }\n",
       "\n",
       "    .dataframe tbody tr th {\n",
       "        vertical-align: top;\n",
       "    }\n",
       "\n",
       "    .dataframe thead th {\n",
       "        text-align: right;\n",
       "    }\n",
       "</style>\n",
       "<table border=\"1\" class=\"dataframe\">\n",
       "  <thead>\n",
       "    <tr style=\"text-align: right;\">\n",
       "      <th></th>\n",
       "      <th>CENTERX</th>\n",
       "      <th>CENTERY</th>\n",
       "      <th>STRATA</th>\n",
       "      <th>SAMPLE_ID</th>\n",
       "      <th>date</th>\n",
       "      <th>LS_Validat</th>\n",
       "      <th>random_id</th>\n",
       "      <th>geometry</th>\n",
       "    </tr>\n",
       "  </thead>\n",
       "  <tbody>\n",
       "    <tr>\n",
       "      <th>0</th>\n",
       "      <td>-159.648125</td>\n",
       "      <td>69.21</td>\n",
       "      <td>3</td>\n",
       "      <td>3_38</td>\n",
       "      <td>2011-07-17</td>\n",
       "      <td>1</td>\n",
       "      <td>99</td>\n",
       "      <td>POLYGON ((-159.89875 69.30000, -159.65900 69.3...</td>\n",
       "    </tr>\n",
       "    <tr>\n",
       "      <th>1</th>\n",
       "      <td>-112.983750</td>\n",
       "      <td>67.05</td>\n",
       "      <td>4</td>\n",
       "      <td>4_27</td>\n",
       "      <td>2012-07-23</td>\n",
       "      <td>1</td>\n",
       "      <td>114</td>\n",
       "      <td>POLYGON ((-113.21200 67.14000, -113.09850 67.1...</td>\n",
       "    </tr>\n",
       "    <tr>\n",
       "      <th>2</th>\n",
       "      <td>17.698500</td>\n",
       "      <td>65.97</td>\n",
       "      <td>4</td>\n",
       "      <td>4_43</td>\n",
       "      <td>2010-07-24</td>\n",
       "      <td>1</td>\n",
       "      <td>20</td>\n",
       "      <td>POLYGON ((17.61000 66.06000, 17.91700 66.06000...</td>\n",
       "    </tr>\n",
       "    <tr>\n",
       "      <th>3</th>\n",
       "      <td>59.675000</td>\n",
       "      <td>65.79</td>\n",
       "      <td>3</td>\n",
       "      <td>3_1</td>\n",
       "      <td>2011-07-13</td>\n",
       "      <td>1</td>\n",
       "      <td>112</td>\n",
       "      <td>POLYGON ((59.86900 65.88000, 59.89200 65.88000...</td>\n",
       "    </tr>\n",
       "    <tr>\n",
       "      <th>4</th>\n",
       "      <td>-96.604375</td>\n",
       "      <td>62.73</td>\n",
       "      <td>4</td>\n",
       "      <td>4_34</td>\n",
       "      <td>2012-08-27</td>\n",
       "      <td>1</td>\n",
       "      <td>115</td>\n",
       "      <td>POLYGON ((-96.79875 62.82000, -96.57700 62.820...</td>\n",
       "    </tr>\n",
       "  </tbody>\n",
       "</table>\n",
       "</div>"
      ],
      "text/plain": [
       "      CENTERX  CENTERY  STRATA SAMPLE_ID        date  LS_Validat  random_id  \\\n",
       "0 -159.648125    69.21       3      3_38  2011-07-17           1         99   \n",
       "1 -112.983750    67.05       4      4_27  2012-07-23           1        114   \n",
       "2   17.698500    65.97       4      4_43  2010-07-24           1         20   \n",
       "3   59.675000    65.79       3       3_1  2011-07-13           1        112   \n",
       "4  -96.604375    62.73       4      4_34  2012-08-27           1        115   \n",
       "\n",
       "                                            geometry  \n",
       "0  POLYGON ((-159.89875 69.30000, -159.65900 69.3...  \n",
       "1  POLYGON ((-113.21200 67.14000, -113.09850 67.1...  \n",
       "2  POLYGON ((17.61000 66.06000, 17.91700 66.06000...  \n",
       "3  POLYGON ((59.86900 65.88000, 59.89200 65.88000...  \n",
       "4  POLYGON ((-96.79875 62.82000, -96.57700 62.820...  "
      ]
     },
     "execution_count": 2,
     "metadata": {},
     "output_type": "execute_result"
    }
   ],
   "source": [
    "df = gpd.read_file('chips.geojson')\n",
    "df.head()"
   ]
  },
  {
   "cell_type": "code",
   "execution_count": 3,
   "id": "small-wrestling",
   "metadata": {
    "ExecuteTime": {
     "end_time": "2022-07-06T00:23:33.311000Z",
     "start_time": "2022-07-06T00:23:33.304881Z"
    }
   },
   "outputs": [
    {
     "data": {
      "text/plain": [
       "array([-95.97375,  32.94   , -95.76   ,  33.12   ])"
      ]
     },
     "execution_count": 3,
     "metadata": {},
     "output_type": "execute_result"
    }
   ],
   "source": [
    "chip_id = 42\n",
    "bounds_4326 = df[df.random_id == chip_id].total_bounds\n",
    "bounds_4326"
   ]
  },
  {
   "cell_type": "code",
   "execution_count": 4,
   "id": "lesbian-adjustment",
   "metadata": {
    "ExecuteTime": {
     "end_time": "2022-07-06T00:23:33.321393Z",
     "start_time": "2022-07-06T00:23:33.313869Z"
    }
   },
   "outputs": [
    {
     "data": {
      "text/plain": [
       "(-10683748.979520984,\n",
       " 3887342.672226422,\n",
       " -10659954.438363912,\n",
       " 3911242.8098018253)"
      ]
     },
     "execution_count": 4,
     "metadata": {},
     "output_type": "execute_result"
    }
   ],
   "source": [
    "bounds_3857 = rasterio.warp.transform_bounds(CRS.from_epsg(4326),\n",
    "                                             CRS.from_epsg(3857),\n",
    "                                             *bounds_4326)\n",
    "bounds_3857"
   ]
  },
  {
   "cell_type": "markdown",
   "id": "strange-result",
   "metadata": {},
   "source": [
    "Show available providers (can use independent url too)"
   ]
  },
  {
   "cell_type": "code",
   "execution_count": 5,
   "id": "supreme-natural",
   "metadata": {
    "ExecuteTime": {
     "end_time": "2022-07-06T00:23:33.326500Z",
     "start_time": "2022-07-06T00:23:33.323860Z"
    }
   },
   "outputs": [],
   "source": [
    "# ctx.providers"
   ]
  },
  {
   "cell_type": "markdown",
   "id": "downtown-beach",
   "metadata": {},
   "source": [
    "Getting a high zoom level!"
   ]
  },
  {
   "cell_type": "code",
   "execution_count": 6,
   "id": "noble-forward",
   "metadata": {
    "ExecuteTime": {
     "end_time": "2022-07-06T00:27:26.143535Z",
     "start_time": "2022-07-06T00:23:33.328446Z"
    }
   },
   "outputs": [
    {
     "data": {
      "text/plain": [
       "(10240, 10240, 4)"
      ]
     },
     "execution_count": 6,
     "metadata": {},
     "output_type": "execute_result"
    }
   ],
   "source": [
    "zoom_level=16\n",
    "out_path = f'tiles_c{chip_id}_z{zoom_level}.tif'\n",
    "X, extent = ctx.bounds2raster(*bounds_3857, \n",
    "                              out_path, \n",
    "                              zoom=zoom_level,\n",
    "                              source=ctx.providers.CartoDB.PositronNoLabels)\n",
    "X.shape"
   ]
  },
  {
   "cell_type": "code",
   "execution_count": 7,
   "id": "built-uncertainty",
   "metadata": {
    "ExecuteTime": {
     "end_time": "2022-07-06T00:27:29.713771Z",
     "start_time": "2022-07-06T00:27:26.145181Z"
    }
   },
   "outputs": [
    {
     "data": {
      "text/plain": [
       "<matplotlib.image.AxesImage at 0x1d1413790>"
      ]
     },
     "execution_count": 7,
     "metadata": {},
     "output_type": "execute_result"
    },
    {
     "data": {
      "image/png": "[encoded data removed]",
      "text/plain": [
       "<Figure size 432x288 with 1 Axes>"
      ]
     },
     "metadata": {
      "needs_background": "light"
     },
     "output_type": "display_data"
    }
   ],
   "source": [
    "plt.imshow(X)"
   ]
  },
  {
   "cell_type": "markdown",
   "id": "spanish-planning",
   "metadata": {},
   "source": [
    "# Create Water Mask"
   ]
  },
  {
   "cell_type": "code",
   "execution_count": 8,
   "id": "filled-result",
   "metadata": {
    "ExecuteTime": {
     "end_time": "2022-07-06T00:27:30.180315Z",
     "start_time": "2022-07-06T00:27:29.715592Z"
    }
   },
   "outputs": [],
   "source": [
    "with rasterio.open(out_path) as ds:\n",
    "    rgb = ds.read().transpose([1, 2, 0])[..., :3]\n",
    "    profile = ds.profile"
   ]
  },
  {
   "cell_type": "code",
   "execution_count": 9,
   "id": "demanding-visit",
   "metadata": {
    "ExecuteTime": {
     "end_time": "2022-07-06T00:27:30.185562Z",
     "start_time": "2022-07-06T00:27:30.182001Z"
    }
   },
   "outputs": [],
   "source": [
    "def obtain_mask_from_color(arr: np.ndarray, \n",
    "                           rgb_fixed:list, \n",
    "                           tol=1):\n",
    "    \"\"\"\n",
    "    Looking at the first 3 channels of our image, we look at +/- \n",
    "    tolerance within some fixed 3 channel value (given by rgb_fixed)\n",
    "    \"\"\"\n",
    "    assert(arr.shape[2] == 3)\n",
    "    X = arr.astype(float)\n",
    "    mask_r = np.abs(X[..., 0] - rgb_fixed[0]) < tol\n",
    "    mask_g = np.abs(X[..., 1] - rgb_fixed[1]) < tol\n",
    "    mask_b = np.abs(X[..., 2] - rgb_fixed[2]) < tol\n",
    "    return mask_r & mask_g & mask_b"
   ]
  },
  {
   "cell_type": "code",
   "execution_count": 10,
   "id": "difficult-control",
   "metadata": {
    "ExecuteTime": {
     "end_time": "2022-07-06T00:27:34.614547Z",
     "start_time": "2022-07-06T00:27:30.189011Z"
    }
   },
   "outputs": [],
   "source": [
    "water_color = [212, 218, 220]\n",
    "water_mask = obtain_mask_from_color(rgb, water_color)"
   ]
  },
  {
   "cell_type": "code",
   "execution_count": 11,
   "id": "parallel-jordan",
   "metadata": {
    "ExecuteTime": {
     "end_time": "2022-07-06T00:27:37.592745Z",
     "start_time": "2022-07-06T00:27:34.616233Z"
    }
   },
   "outputs": [
    {
     "data": {
      "text/plain": [
       "<matplotlib.image.AxesImage at 0x1d14c54c0>"
      ]
     },
     "execution_count": 11,
     "metadata": {},
     "output_type": "execute_result"
    },
    {
     "data": {
      "image/png": "[encoded data removed]",
      "text/plain": [
       "<Figure size 432x288 with 1 Axes>"
      ]
     },
     "metadata": {
      "needs_background": "light"
     },
     "output_type": "display_data"
    }
   ],
   "source": [
    "plt.imshow(water_mask)"
   ]
  },
  {
   "cell_type": "code",
   "execution_count": 12,
   "id": "dominant-father",
   "metadata": {
    "ExecuteTime": {
     "end_time": "2022-07-06T00:27:39.099231Z",
     "start_time": "2022-07-06T00:27:37.595144Z"
    }
   },
   "outputs": [],
   "source": [
    "p = profile.copy()\n",
    "p['count'] = 1\n",
    "with rasterio.open(f'water_mask_cartodb_{chip_id}.tif', 'w', **p) as ds:\n",
    "    ds.write(water_mask.astype(int), 1)"
   ]
  }
 ],
 "metadata": {
  "kernelspec": {
   "display_name": "dswx_calval",
   "language": "python",
   "name": "dswx_calval"
  },
  "language_info": {
   "codemirror_mode": {
    "name": "ipython",
    "version": 3
   },
   "file_extension": ".py",
   "mimetype": "text/x-python",
   "name": "python",
   "nbconvert_exporter": "python",
   "pygments_lexer": "ipython3",
   "version": "3.9.13"
  }
 },
 "nbformat": 4,
 "nbformat_minor": 5
}
