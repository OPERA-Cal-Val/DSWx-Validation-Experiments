{
 "cells": [
  {
   "cell_type": "code",
   "execution_count": 1,
   "id": "recorded-sense",
   "metadata": {
    "ExecuteTime": {
     "end_time": "2022-07-11T17:48:45.006150Z",
     "start_time": "2022-07-11T17:48:43.531091Z"
    }
   },
   "outputs": [],
   "source": [
    "import rasterio\n",
    "from rasterio.crs import CRS\n",
    "import geopandas as gpd\n",
    "from shapely.geometry import box\n",
    "import matplotlib.pyplot as plt\n",
    "from tqdm import tqdm\n",
    "from osgeo import gdal\n",
    "from pathlib import Path\n",
    "from dem_stitcher.rio_window import read_raster_from_window"
   ]
  },
  {
   "cell_type": "markdown",
   "id": "norman-essex",
   "metadata": {},
   "source": [
    "# Generate Tiles"
   ]
  },
  {
   "cell_type": "code",
   "execution_count": 2,
   "id": "assisted-denial",
   "metadata": {
    "ExecuteTime": {
     "end_time": "2022-07-11T17:48:45.029794Z",
     "start_time": "2022-07-11T17:48:45.008547Z"
    }
   },
   "outputs": [],
   "source": [
    "# box inputs are minx, miny, maxx, maxy\n",
    "geometries = [box(-180 + i * 10, \n",
    "                  80 - (j + 1) * 10, \n",
    "                  -180 + (i + 1) * 10,\n",
    "                  80 - (j) * 10) for i in range(36) for j in range(14)]\n",
    "\n",
    "# Upper left corner\n",
    "ul_corners = [(-180 + (i) * 10, 80 - (j) * 10) for i in range(36) for j in range(14)]\n",
    "# data\n",
    "df_peckel_data = gpd.GeoDataFrame(geometry=geometries, crs=CRS.from_epsg(4326))"
   ]
  },
  {
   "cell_type": "markdown",
   "id": "expressed-attendance",
   "metadata": {},
   "source": [
    "Sample url: https://storage.googleapis.com/global-surface-water/downloads2020/occurrence/occurrence_70W_20Sv1_3_2020.tif"
   ]
  },
  {
   "cell_type": "code",
   "execution_count": 7,
   "id": "north-exploration",
   "metadata": {
    "ExecuteTime": {
     "end_time": "2022-07-11T17:51:10.972764Z",
     "start_time": "2022-07-11T17:51:10.817133Z"
    }
   },
   "outputs": [
    {
     "data": {
      "text/plain": [
       "<AxesSubplot:>"
      ]
     },
     "execution_count": 7,
     "metadata": {},
     "output_type": "execute_result"
    },
    {
     "data": {
      "image/png": "[encoded data removed]",
      "text/plain": [
       "<Figure size 432x288 with 1 Axes>"
      ]
     },
     "metadata": {
      "needs_background": "light"
     },
     "output_type": "display_data"
    }
   ],
   "source": [
    "def url_generator(corner: tuple, \n",
    "                  layer: str ='last'):\n",
    "    \n",
    "    assert(layer in ['first', 'last', 'treecover2000'])\n",
    "    \n",
    "    base_url = 'https://storage.googleapis.com/global-surface-water/downloads2020/occurrence'\n",
    "    lon, lat = corner\n",
    "    if lon < 0:\n",
    "        lon_str = f'{abs(lon):d}W'\n",
    "    else:\n",
    "        lon_str = f'{abs(lon):d}E'\n",
    "    if lat >= 0:\n",
    "        lat_str = f'{abs(lat):d}N'\n",
    "    else:\n",
    "        lat_str = f'{abs(lat):d}S'\n",
    "    return f'{base_url}/occurrence_{lon_str}_{lat_str}v1_3_2020.tif'\n",
    "\n",
    "df_peckel_data['source_url'] = list(map(url_generator, ul_corners))\n",
    "df_peckel_data['year'] = 2020\n",
    "df_peckel_data.boundary.plot()"
   ]
  },
  {
   "cell_type": "code",
   "execution_count": 8,
   "id": "voluntary-affair",
   "metadata": {
    "ExecuteTime": {
     "end_time": "2022-07-11T17:51:11.596326Z",
     "start_time": "2022-07-11T17:51:11.593146Z"
    }
   },
   "outputs": [
    {
     "name": "stdout",
     "output_type": "stream",
     "text": [
      "https://storage.googleapis.com/global-surface-water/downloads2020/occurrence/occurrence_180W_80Nv1_3_2020.tif\n"
     ]
    }
   ],
   "source": [
    "sample_url = df_peckel_data.source_url[0]\n",
    "print(sample_url)"
   ]
  },
  {
   "cell_type": "code",
   "execution_count": 9,
   "id": "powered-scotland",
   "metadata": {
    "ExecuteTime": {
     "end_time": "2022-07-11T17:51:12.128018Z",
     "start_time": "2022-07-11T17:51:12.064726Z"
    }
   },
   "outputs": [],
   "source": [
    "df_peckel_data.to_file('peckel_tiles.geojson', driver='GeoJSON')"
   ]
  },
  {
   "cell_type": "code",
   "execution_count": 6,
   "id": "beautiful-blood",
   "metadata": {
    "ExecuteTime": {
     "end_time": "2022-07-06T00:23:16.418728Z",
     "start_time": "2022-07-06T00:23:15.421031Z"
    }
   },
   "outputs": [
    {
     "data": {
      "text/plain": [
       "{'driver': 'GTiff', 'dtype': 'uint8', 'nodata': None, 'width': 40000, 'height': 40000, 'count': 1, 'crs': CRS.from_epsg(4326), 'transform': Affine(0.00025, 0.0, -180.0,\n",
       "       0.0, -0.00025, 80.0), 'blockxsize': 256, 'blockysize': 256, 'tiled': True, 'compress': 'lzw', 'interleave': 'band'}"
      ]
     },
     "execution_count": 6,
     "metadata": {},
     "output_type": "execute_result"
    }
   ],
   "source": [
    "with rasterio.open(sample_url) as ds:\n",
    "    p = ds.profile\n",
    "p"
   ]
  },
  {
   "cell_type": "markdown",
   "id": "deluxe-toner",
   "metadata": {},
   "source": [
    "# Get Peckel Data"
   ]
  },
  {
   "cell_type": "code",
   "execution_count": 11,
   "id": "functional-storm",
   "metadata": {
    "ExecuteTime": {
     "end_time": "2022-07-06T00:23:56.339866Z",
     "start_time": "2022-07-06T00:23:56.335704Z"
    }
   },
   "outputs": [],
   "source": [
    "def build_peckel_vrt(extent: list, \n",
    "                     out_path: Path):\n",
    "    bbox = box(*extent)\n",
    "    ind_inter = df_peckel_data.geometry.intersects(bbox)\n",
    "    df_subset = df_peckel_data[ind_inter].reset_index(drop=True)\n",
    "    gdal.BuildVRT(str(out_path), df_subset.source_url.tolist())\n",
    "    return out_path\n",
    "\n",
    "def get_peckel_raster(extent:list) -> tuple:\n",
    "    tmp_vrt = Path('peckel_data_tmp.vrt')\n",
    "    build_peckel_vrt(extent, tmp_vrt)\n",
    "    X, p = read_raster_from_window(tmp_vrt,\n",
    "                                   extent,\n",
    "                                   CRS.from_epsg(4326))\n",
    "    tmp_vrt.unlink()\n",
    "    p['driver'] = 'GTiff'\n",
    "    return X, p"
   ]
  },
  {
   "cell_type": "code",
   "execution_count": 8,
   "id": "official-disney",
   "metadata": {
    "ExecuteTime": {
     "end_time": "2022-07-06T00:23:16.451826Z",
     "start_time": "2022-07-06T00:23:16.426118Z"
    }
   },
   "outputs": [
    {
     "data": {
      "text/html": [
       "<div>\n",
       "<style scoped>\n",
       "    .dataframe tbody tr th:only-of-type {\n",
       "        vertical-align: middle;\n",
       "    }\n",
       "\n",
       "    .dataframe tbody tr th {\n",
       "        vertical-align: top;\n",
       "    }\n",
       "\n",
       "    .dataframe thead th {\n",
       "        text-align: right;\n",
       "    }\n",
       "</style>\n",
       "<table border=\"1\" class=\"dataframe\">\n",
       "  <thead>\n",
       "    <tr style=\"text-align: right;\">\n",
       "      <th></th>\n",
       "      <th>CENTERX</th>\n",
       "      <th>CENTERY</th>\n",
       "      <th>STRATA</th>\n",
       "      <th>SAMPLE_ID</th>\n",
       "      <th>date</th>\n",
       "      <th>LS_Validat</th>\n",
       "      <th>random_id</th>\n",
       "      <th>geometry</th>\n",
       "    </tr>\n",
       "  </thead>\n",
       "  <tbody>\n",
       "    <tr>\n",
       "      <th>0</th>\n",
       "      <td>-159.648125</td>\n",
       "      <td>69.21</td>\n",
       "      <td>3</td>\n",
       "      <td>3_38</td>\n",
       "      <td>2011-07-17</td>\n",
       "      <td>1</td>\n",
       "      <td>99</td>\n",
       "      <td>POLYGON ((-159.89875 69.30000, -159.65900 69.3...</td>\n",
       "    </tr>\n",
       "    <tr>\n",
       "      <th>1</th>\n",
       "      <td>-112.983750</td>\n",
       "      <td>67.05</td>\n",
       "      <td>4</td>\n",
       "      <td>4_27</td>\n",
       "      <td>2012-07-23</td>\n",
       "      <td>1</td>\n",
       "      <td>114</td>\n",
       "      <td>POLYGON ((-113.21200 67.14000, -113.09850 67.1...</td>\n",
       "    </tr>\n",
       "    <tr>\n",
       "      <th>2</th>\n",
       "      <td>17.698500</td>\n",
       "      <td>65.97</td>\n",
       "      <td>4</td>\n",
       "      <td>4_43</td>\n",
       "      <td>2010-07-24</td>\n",
       "      <td>1</td>\n",
       "      <td>20</td>\n",
       "      <td>POLYGON ((17.61000 66.06000, 17.91700 66.06000...</td>\n",
       "    </tr>\n",
       "    <tr>\n",
       "      <th>3</th>\n",
       "      <td>59.675000</td>\n",
       "      <td>65.79</td>\n",
       "      <td>3</td>\n",
       "      <td>3_1</td>\n",
       "      <td>2011-07-13</td>\n",
       "      <td>1</td>\n",
       "      <td>112</td>\n",
       "      <td>POLYGON ((59.86900 65.88000, 59.89200 65.88000...</td>\n",
       "    </tr>\n",
       "    <tr>\n",
       "      <th>4</th>\n",
       "      <td>-96.604375</td>\n",
       "      <td>62.73</td>\n",
       "      <td>4</td>\n",
       "      <td>4_34</td>\n",
       "      <td>2012-08-27</td>\n",
       "      <td>1</td>\n",
       "      <td>115</td>\n",
       "      <td>POLYGON ((-96.79875 62.82000, -96.57700 62.820...</td>\n",
       "    </tr>\n",
       "  </tbody>\n",
       "</table>\n",
       "</div>"
      ],
      "text/plain": [
       "      CENTERX  CENTERY  STRATA SAMPLE_ID        date  LS_Validat  random_id  \\\n",
       "0 -159.648125    69.21       3      3_38  2011-07-17           1         99   \n",
       "1 -112.983750    67.05       4      4_27  2012-07-23           1        114   \n",
       "2   17.698500    65.97       4      4_43  2010-07-24           1         20   \n",
       "3   59.675000    65.79       3       3_1  2011-07-13           1        112   \n",
       "4  -96.604375    62.73       4      4_34  2012-08-27           1        115   \n",
       "\n",
       "                                            geometry  \n",
       "0  POLYGON ((-159.89875 69.30000, -159.65900 69.3...  \n",
       "1  POLYGON ((-113.21200 67.14000, -113.09850 67.1...  \n",
       "2  POLYGON ((17.61000 66.06000, 17.91700 66.06000...  \n",
       "3  POLYGON ((59.86900 65.88000, 59.89200 65.88000...  \n",
       "4  POLYGON ((-96.79875 62.82000, -96.57700 62.820...  "
      ]
     },
     "execution_count": 8,
     "metadata": {},
     "output_type": "execute_result"
    }
   ],
   "source": [
    "df_chips = gpd.read_file('chips.geojson')\n",
    "df_chips.head()"
   ]
  },
  {
   "cell_type": "code",
   "execution_count": 9,
   "id": "periodic-excuse",
   "metadata": {
    "ExecuteTime": {
     "end_time": "2022-07-06T00:23:16.461457Z",
     "start_time": "2022-07-06T00:23:16.455647Z"
    }
   },
   "outputs": [
    {
     "data": {
      "text/plain": [
       "array([-95.97375,  32.94   , -95.76   ,  33.12   ])"
      ]
     },
     "execution_count": 9,
     "metadata": {},
     "output_type": "execute_result"
    }
   ],
   "source": [
    "chip_id = 42\n",
    "bounds_4326 = df_chips[df_chips.random_id == chip_id].total_bounds\n",
    "bounds_4326"
   ]
  },
  {
   "cell_type": "code",
   "execution_count": 12,
   "id": "light-implement",
   "metadata": {
    "ExecuteTime": {
     "end_time": "2022-07-06T00:24:29.983367Z",
     "start_time": "2022-07-06T00:23:58.510856Z"
    }
   },
   "outputs": [],
   "source": [
    "X_occ, p_occ = get_peckel_raster(list(bounds_4326))"
   ]
  },
  {
   "cell_type": "code",
   "execution_count": 13,
   "id": "persistent-screen",
   "metadata": {
    "ExecuteTime": {
     "end_time": "2022-07-06T00:24:30.105536Z",
     "start_time": "2022-07-06T00:24:29.985313Z"
    }
   },
   "outputs": [
    {
     "data": {
      "text/plain": [
       "<matplotlib.image.AxesImage at 0x1c6405640>"
      ]
     },
     "execution_count": 13,
     "metadata": {},
     "output_type": "execute_result"
    },
    {
     "data": {
      "image/png": "[encoded data removed]",
      "text/plain": [
       "<Figure size 432x288 with 1 Axes>"
      ]
     },
     "metadata": {
      "needs_background": "light"
     },
     "output_type": "display_data"
    }
   ],
   "source": [
    "plt.imshow(X_occ)"
   ]
  },
  {
   "cell_type": "code",
   "execution_count": 14,
   "id": "copyrighted-cornell",
   "metadata": {
    "ExecuteTime": {
     "end_time": "2022-07-06T00:24:30.116797Z",
     "start_time": "2022-07-06T00:24:30.107419Z"
    }
   },
   "outputs": [],
   "source": [
    "with rasterio.open(f'peckel_occurence_c{chip_id}.tif', 'w', **p_occ) as ds:\n",
    "    ds.write(X_occ, 1)"
   ]
  }
 ],
 "metadata": {
  "kernelspec": {
   "display_name": "dswx_calval",
   "language": "python",
   "name": "dswx_calval"
  },
  "language_info": {
   "codemirror_mode": {
    "name": "ipython",
    "version": 3
   },
   "file_extension": ".py",
   "mimetype": "text/x-python",
   "name": "python",
   "nbconvert_exporter": "python",
   "pygments_lexer": "ipython3",
   "version": "3.9.13"
  }
 },
 "nbformat": 4,
 "nbformat_minor": 5
}
