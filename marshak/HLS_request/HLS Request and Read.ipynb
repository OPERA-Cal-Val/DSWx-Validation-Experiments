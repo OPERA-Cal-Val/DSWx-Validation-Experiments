{
 "cells": [
  {
   "cell_type": "markdown",
   "id": "abandoned-degree",
   "metadata": {},
   "source": [
    "Most of this is thanks to Matt Bonnema."
   ]
  },
  {
   "cell_type": "code",
   "execution_count": 1,
   "id": "secondary-valley",
   "metadata": {
    "ExecuteTime": {
     "end_time": "2022-06-28T17:02:16.050631Z",
     "start_time": "2022-06-28T17:02:16.028117Z"
    }
   },
   "outputs": [],
   "source": [
    "%load_ext autoreload\n",
    "%autoreload 2"
   ]
  },
  {
   "cell_type": "code",
   "execution_count": 2,
   "id": "angry-buffalo",
   "metadata": {
    "ExecuteTime": {
     "end_time": "2022-06-28T17:02:17.604867Z",
     "start_time": "2022-06-28T17:02:16.052635Z"
    }
   },
   "outputs": [],
   "source": [
    "from pystac_client import Client  \n",
    "import matplotlib.pyplot as plt\n",
    "from datetime import datetime\n",
    "from tqdm import tqdm\n",
    "from pystac_client import ItemSearch\n",
    "from shapely.geometry import box"
   ]
  },
  {
   "cell_type": "markdown",
   "id": "existing-bathroom",
   "metadata": {},
   "source": [
    "# Search for colocated HLS and Planet imagery"
   ]
  },
  {
   "cell_type": "code",
   "execution_count": 3,
   "id": "animal-mongolia",
   "metadata": {
    "ExecuteTime": {
     "end_time": "2022-06-28T17:02:17.631972Z",
     "start_time": "2022-06-28T17:02:17.606247Z"
    }
   },
   "outputs": [],
   "source": [
    "# ItemSearch??"
   ]
  },
  {
   "cell_type": "code",
   "execution_count": 4,
   "id": "behind-violation",
   "metadata": {
    "ExecuteTime": {
     "end_time": "2022-06-28T17:02:17.665641Z",
     "start_time": "2022-06-28T17:02:17.634602Z"
    }
   },
   "outputs": [
    {
     "data": {
      "text/plain": [
       "{'type': 'Polygon',\n",
       " 'coordinates': (((-120.0, 37.0),\n",
       "   (-120.0, 38.0),\n",
       "   (-121.0, 38.0),\n",
       "   (-121.0, 37.0),\n",
       "   (-120.0, 37.0)),)}"
      ]
     },
     "execution_count": 4,
     "metadata": {},
     "output_type": "execute_result"
    }
   ],
   "source": [
    "start_date = datetime(2022, 1, 1)\n",
    "stop_date = datetime(2022, 2, 1)\n",
    "aoi = box(-121, 37, -120, 38)\n",
    "aoi.__geo_interface__"
   ]
  },
  {
   "cell_type": "code",
   "execution_count": 5,
   "id": "dominant-advisory",
   "metadata": {
    "ExecuteTime": {
     "end_time": "2022-06-28T17:02:17.701105Z",
     "start_time": "2022-06-28T17:02:17.670505Z"
    }
   },
   "outputs": [
    {
     "data": {
      "text/plain": [
       "(-121.0, 37.0, -120.0, 38.0)"
      ]
     },
     "execution_count": 5,
     "metadata": {},
     "output_type": "execute_result"
    }
   ],
   "source": [
    "aoi.bounds"
   ]
  },
  {
   "cell_type": "code",
   "execution_count": 6,
   "id": "sweet-alloy",
   "metadata": {
    "ExecuteTime": {
     "end_time": "2022-06-28T17:02:18.409756Z",
     "start_time": "2022-06-28T17:02:17.702644Z"
    }
   },
   "outputs": [
    {
     "data": {
      "text/plain": [
       "<pystac_client.item_search.ItemSearch at 0x1d4d85f40>"
      ]
     },
     "execution_count": 6,
     "metadata": {},
     "output_type": "execute_result"
    }
   ],
   "source": [
    "STAC_URL = 'https://cmr.earthdata.nasa.gov/stac'\n",
    "api = Client.open(f'{STAC_URL}/LPCLOUD/')\n",
    "hls_collections = ['HLSL30.v2.0', 'HLSS30.v2.0']\n",
    "\n",
    "search_params = {\"collections\": hls_collections,\n",
    "                 \"bbox\": aoi.bounds,\n",
    "                 \"datetime\": [start_date, stop_date],\n",
    "                 \"max_items\": 100}\n",
    "search_hls = api.search(**search_params)\n",
    "search_hls"
   ]
  },
  {
   "cell_type": "code",
   "execution_count": 7,
   "id": "virgin-crawford",
   "metadata": {
    "ExecuteTime": {
     "end_time": "2022-06-28T17:02:22.687329Z",
     "start_time": "2022-06-28T17:02:18.411372Z"
    }
   },
   "outputs": [
    {
     "data": {
      "text/plain": [
       "<pystac.item_collection.ItemCollection at 0x1d4d85970>"
      ]
     },
     "execution_count": 7,
     "metadata": {},
     "output_type": "execute_result"
    }
   ],
   "source": [
    "hls_collection = search_hls.get_all_items()\n",
    "hls_collection"
   ]
  },
  {
   "cell_type": "code",
   "execution_count": 8,
   "id": "chronic-symposium",
   "metadata": {
    "ExecuteTime": {
     "end_time": "2022-06-28T17:02:25.230292Z",
     "start_time": "2022-06-28T17:02:22.688919Z"
    }
   },
   "outputs": [
    {
     "data": {
      "text/plain": [
       "142"
      ]
     },
     "execution_count": 8,
     "metadata": {},
     "output_type": "execute_result"
    }
   ],
   "source": [
    "search_hls.matched()"
   ]
  },
  {
   "cell_type": "code",
   "execution_count": 9,
   "id": "critical-review",
   "metadata": {
    "ExecuteTime": {
     "end_time": "2022-06-28T17:02:25.261288Z",
     "start_time": "2022-06-28T17:02:25.231940Z"
    }
   },
   "outputs": [
    {
     "data": {
      "text/plain": [
       "{'type': 'Feature',\n",
       " 'stac_version': '1.0.0',\n",
       " 'id': 'HLS.S30.T11SKC.2022001T184801.v2.0',\n",
       " 'properties': {'datetime': '2022-01-01T18:53:52.823000Z',\n",
       "  'start_datetime': '2022-01-01T18:53:52.823Z',\n",
       "  'end_datetime': '2022-01-01T18:53:52.823Z',\n",
       "  'eo:cloud_cover': 28},\n",
       " 'geometry': {'type': 'Polygon',\n",
       "  'coordinates': [[[-120.4079147, 37.8101079],\n",
       "    [-119.1617522, 37.8395955],\n",
       "    [-119.1913473, 38.8284398],\n",
       "    [-120.454503, 38.7978947],\n",
       "    [-120.4079147, 37.8101079]]]},\n",
       " 'links': [{'rel': 'self',\n",
       "   'href': 'https://cmr.earthdata.nasa.gov/stac/LPCLOUD/collections/HLSS30.v2.0/items/HLS.S30.T11SKC.2022001T184801.v2.0'},\n",
       "  {'rel': 'parent',\n",
       "   'href': 'https://cmr.earthdata.nasa.gov/stac/LPCLOUD/collections/HLSS30.v2.0'},\n",
       "  {'rel': 'collection',\n",
       "   'href': 'https://cmr.earthdata.nasa.gov/stac/LPCLOUD/collections/HLSS30.v2.0'},\n",
       "  {'rel': <RelType.ROOT: 'root'>,\n",
       "   'href': 'https://cmr.earthdata.nasa.gov/stac/LPCLOUD/',\n",
       "   'type': <MediaType.JSON: 'application/json'>,\n",
       "   'title': 'LPCLOUD'},\n",
       "  {'rel': 'provider', 'href': 'https://cmr.earthdata.nasa.gov/stac/LPCLOUD'},\n",
       "  {'rel': 'via',\n",
       "   'href': 'https://cmr.earthdata.nasa.gov/search/concepts/G2195192251-LPCLOUD.json'},\n",
       "  {'rel': 'via',\n",
       "   'href': 'https://cmr.earthdata.nasa.gov/search/concepts/G2195192251-LPCLOUD.umm_json'}],\n",
       " 'assets': {'B04': {'href': 'https://data.lpdaac.earthdatacloud.nasa.gov/lp-prod-protected/HLSS30.020/HLS.S30.T11SKC.2022001T184801.v2.0/HLS.S30.T11SKC.2022001T184801.v2.0.B04.tif',\n",
       "   'title': 'Download HLS.S30.T11SKC.2022001T184801.v2.0.B04.tif'},\n",
       "  'B10': {'href': 'https://data.lpdaac.earthdatacloud.nasa.gov/lp-prod-protected/HLSS30.020/HLS.S30.T11SKC.2022001T184801.v2.0/HLS.S30.T11SKC.2022001T184801.v2.0.B10.tif',\n",
       "   'title': 'Download HLS.S30.T11SKC.2022001T184801.v2.0.B10.tif'},\n",
       "  'B12': {'href': 'https://data.lpdaac.earthdatacloud.nasa.gov/lp-prod-protected/HLSS30.020/HLS.S30.T11SKC.2022001T184801.v2.0/HLS.S30.T11SKC.2022001T184801.v2.0.B12.tif',\n",
       "   'title': 'Download HLS.S30.T11SKC.2022001T184801.v2.0.B12.tif'},\n",
       "  'Fmask': {'href': 'https://data.lpdaac.earthdatacloud.nasa.gov/lp-prod-protected/HLSS30.020/HLS.S30.T11SKC.2022001T184801.v2.0/HLS.S30.T11SKC.2022001T184801.v2.0.Fmask.tif',\n",
       "   'title': 'Download HLS.S30.T11SKC.2022001T184801.v2.0.Fmask.tif'},\n",
       "  'B07': {'href': 'https://data.lpdaac.earthdatacloud.nasa.gov/lp-prod-protected/HLSS30.020/HLS.S30.T11SKC.2022001T184801.v2.0/HLS.S30.T11SKC.2022001T184801.v2.0.B07.tif',\n",
       "   'title': 'Download HLS.S30.T11SKC.2022001T184801.v2.0.B07.tif'},\n",
       "  'B03': {'href': 'https://data.lpdaac.earthdatacloud.nasa.gov/lp-prod-protected/HLSS30.020/HLS.S30.T11SKC.2022001T184801.v2.0/HLS.S30.T11SKC.2022001T184801.v2.0.B03.tif',\n",
       "   'title': 'Download HLS.S30.T11SKC.2022001T184801.v2.0.B03.tif'},\n",
       "  'B05': {'href': 'https://data.lpdaac.earthdatacloud.nasa.gov/lp-prod-protected/HLSS30.020/HLS.S30.T11SKC.2022001T184801.v2.0/HLS.S30.T11SKC.2022001T184801.v2.0.B05.tif',\n",
       "   'title': 'Download HLS.S30.T11SKC.2022001T184801.v2.0.B05.tif'},\n",
       "  'B8A': {'href': 'https://data.lpdaac.earthdatacloud.nasa.gov/lp-prod-protected/HLSS30.020/HLS.S30.T11SKC.2022001T184801.v2.0/HLS.S30.T11SKC.2022001T184801.v2.0.B8A.tif',\n",
       "   'title': 'Download HLS.S30.T11SKC.2022001T184801.v2.0.B8A.tif'},\n",
       "  'B01': {'href': 'https://data.lpdaac.earthdatacloud.nasa.gov/lp-prod-protected/HLSS30.020/HLS.S30.T11SKC.2022001T184801.v2.0/HLS.S30.T11SKC.2022001T184801.v2.0.B01.tif',\n",
       "   'title': 'Download HLS.S30.T11SKC.2022001T184801.v2.0.B01.tif'},\n",
       "  'B11': {'href': 'https://data.lpdaac.earthdatacloud.nasa.gov/lp-prod-protected/HLSS30.020/HLS.S30.T11SKC.2022001T184801.v2.0/HLS.S30.T11SKC.2022001T184801.v2.0.B11.tif',\n",
       "   'title': 'Download HLS.S30.T11SKC.2022001T184801.v2.0.B11.tif'},\n",
       "  'B08': {'href': 'https://data.lpdaac.earthdatacloud.nasa.gov/lp-prod-protected/HLSS30.020/HLS.S30.T11SKC.2022001T184801.v2.0/HLS.S30.T11SKC.2022001T184801.v2.0.B08.tif',\n",
       "   'title': 'Download HLS.S30.T11SKC.2022001T184801.v2.0.B08.tif'},\n",
       "  'B06': {'href': 'https://data.lpdaac.earthdatacloud.nasa.gov/lp-prod-protected/HLSS30.020/HLS.S30.T11SKC.2022001T184801.v2.0/HLS.S30.T11SKC.2022001T184801.v2.0.B06.tif',\n",
       "   'title': 'Download HLS.S30.T11SKC.2022001T184801.v2.0.B06.tif'},\n",
       "  'VZA': {'href': 'https://data.lpdaac.earthdatacloud.nasa.gov/lp-prod-protected/HLSS30.020/HLS.S30.T11SKC.2022001T184801.v2.0/HLS.S30.T11SKC.2022001T184801.v2.0.VZA.tif',\n",
       "   'title': 'Download HLS.S30.T11SKC.2022001T184801.v2.0.VZA.tif'},\n",
       "  'SAA': {'href': 'https://data.lpdaac.earthdatacloud.nasa.gov/lp-prod-protected/HLSS30.020/HLS.S30.T11SKC.2022001T184801.v2.0/HLS.S30.T11SKC.2022001T184801.v2.0.SAA.tif',\n",
       "   'title': 'Download HLS.S30.T11SKC.2022001T184801.v2.0.SAA.tif'},\n",
       "  'B09': {'href': 'https://data.lpdaac.earthdatacloud.nasa.gov/lp-prod-protected/HLSS30.020/HLS.S30.T11SKC.2022001T184801.v2.0/HLS.S30.T11SKC.2022001T184801.v2.0.B09.tif',\n",
       "   'title': 'Download HLS.S30.T11SKC.2022001T184801.v2.0.B09.tif'},\n",
       "  'B02': {'href': 'https://data.lpdaac.earthdatacloud.nasa.gov/lp-prod-protected/HLSS30.020/HLS.S30.T11SKC.2022001T184801.v2.0/HLS.S30.T11SKC.2022001T184801.v2.0.B02.tif',\n",
       "   'title': 'Download HLS.S30.T11SKC.2022001T184801.v2.0.B02.tif'},\n",
       "  'VAA': {'href': 'https://data.lpdaac.earthdatacloud.nasa.gov/lp-prod-protected/HLSS30.020/HLS.S30.T11SKC.2022001T184801.v2.0/HLS.S30.T11SKC.2022001T184801.v2.0.VAA.tif',\n",
       "   'title': 'Download HLS.S30.T11SKC.2022001T184801.v2.0.VAA.tif'},\n",
       "  'SZA': {'href': 'https://data.lpdaac.earthdatacloud.nasa.gov/lp-prod-protected/HLSS30.020/HLS.S30.T11SKC.2022001T184801.v2.0/HLS.S30.T11SKC.2022001T184801.v2.0.SZA.tif',\n",
       "   'title': 'Download HLS.S30.T11SKC.2022001T184801.v2.0.SZA.tif'},\n",
       "  'browse': {'href': 'https://data.lpdaac.earthdatacloud.nasa.gov/lp-prod-public/HLSS30.020/HLS.S30.T11SKC.2022001T184801.v2.0/HLS.S30.T11SKC.2022001T184801.v2.0.jpg',\n",
       "   'type': 'image/jpeg',\n",
       "   'title': 'Download HLS.S30.T11SKC.2022001T184801.v2.0.jpg'},\n",
       "  'metadata': {'href': 'https://cmr.earthdata.nasa.gov/search/concepts/G2195192251-LPCLOUD.xml',\n",
       "   'type': 'application/xml'}},\n",
       " 'bbox': [-120.454503, 37.810108, -119.161752, 38.82844],\n",
       " 'stac_extensions': ['https://stac-extensions.github.io/eo/v1.0.0/schema.json'],\n",
       " 'collection': 'HLSS30.v2.0'}"
      ]
     },
     "execution_count": 9,
     "metadata": {},
     "output_type": "execute_result"
    }
   ],
   "source": [
    "d = list(hls_collection)\n",
    "d[0].to_dict()"
   ]
  },
  {
   "cell_type": "markdown",
   "id": "protecting-objective",
   "metadata": {},
   "source": [
    "# Read the data"
   ]
  },
  {
   "cell_type": "code",
   "execution_count": 10,
   "id": "caroline-avatar",
   "metadata": {
    "ExecuteTime": {
     "end_time": "2022-06-28T17:02:25.556101Z",
     "start_time": "2022-06-28T17:02:25.265337Z"
    }
   },
   "outputs": [],
   "source": [
    "from osgeo import gdal\n",
    "import rasterio"
   ]
  },
  {
   "cell_type": "code",
   "execution_count": 11,
   "id": "remarkable-spice",
   "metadata": {
    "ExecuteTime": {
     "end_time": "2022-06-28T17:02:25.584645Z",
     "start_time": "2022-06-28T17:02:25.557749Z"
    }
   },
   "outputs": [],
   "source": [
    "url_sample = 'https://data.lpdaac.earthdatacloud.nasa.gov/lp-prod-protected/HLSS30.020/HLS.S30.T11SKC.2022001T184801.v2.0/HLS.S30.T11SKC.2022001T184801.v2.0.B07.tif'"
   ]
  },
  {
   "cell_type": "markdown",
   "id": "divided-lease",
   "metadata": {},
   "source": [
    "First, make sure you have logged into Earthdata Login (it will store cookies in `~/cookies.txt`. Below, I copied from [this link](https://lpdaac.usgs.gov/resources/e-learning/getting-started-cloud-native-hls-data-python/) in section 4. It seems to work."
   ]
  },
  {
   "cell_type": "code",
   "execution_count": 12,
   "id": "graphic-studio",
   "metadata": {
    "ExecuteTime": {
     "end_time": "2022-06-28T17:02:25.617300Z",
     "start_time": "2022-06-28T17:02:25.586376Z"
    }
   },
   "outputs": [],
   "source": [
    "# GDAL configs used to successfully access LP DAAC Cloud Assets via vsicurl \n",
    "gdal.SetConfigOption(\"GDAL_HTTP_UNSAFESSL\", \"YES\")\n",
    "gdal.SetConfigOption('GDAL_HTTP_COOKIEFILE','~/cookies.txt')\n",
    "gdal.SetConfigOption('GDAL_HTTP_COOKIEJAR', '~/cookies.txt')\n",
    "gdal.SetConfigOption('GDAL_DISABLE_READDIR_ON_OPEN','YES')\n",
    "gdal.SetConfigOption('GDAL_DISABLE_READDIR_ON_OPEN','FALSE')\n",
    "gdal.SetConfigOption('CPL_VSIL_CURL_ALLOWED_EXTENSIONS','TIF')"
   ]
  },
  {
   "cell_type": "code",
   "execution_count": null,
   "id": "affected-species",
   "metadata": {
    "ExecuteTime": {
     "start_time": "2022-06-28T17:02:16.039Z"
    }
   },
   "outputs": [],
   "source": [
    "with rasterio.open(url_sample) as ds:\n",
    "    p = ds.profile\n",
    "    X = ds.read(1)"
   ]
  },
  {
   "cell_type": "code",
   "execution_count": null,
   "id": "fewer-order",
   "metadata": {
    "ExecuteTime": {
     "start_time": "2022-06-28T17:02:16.040Z"
    }
   },
   "outputs": [],
   "source": [
    "plt.imshow(X)"
   ]
  }
 ],
 "metadata": {
  "kernelspec": {
   "display_name": "dem-stitcher-conda",
   "language": "python",
   "name": "dem-stitcher-conda"
  },
  "language_info": {
   "codemirror_mode": {
    "name": "ipython",
    "version": 3
   },
   "file_extension": ".py",
   "mimetype": "text/x-python",
   "name": "python",
   "nbconvert_exporter": "python",
   "pygments_lexer": "ipython3",
   "version": "3.9.13"
  }
 },
 "nbformat": 4,
 "nbformat_minor": 5
}
