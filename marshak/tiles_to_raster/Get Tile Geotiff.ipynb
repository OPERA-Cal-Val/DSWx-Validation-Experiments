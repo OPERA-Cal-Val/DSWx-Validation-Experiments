{
 "cells": [
  {
   "cell_type": "code",
   "execution_count": 1,
   "id": "accessible-threat",
   "metadata": {
    "ExecuteTime": {
     "end_time": "2022-07-05T21:54:15.617389Z",
     "start_time": "2022-07-05T21:54:12.758079Z"
    }
   },
   "outputs": [],
   "source": [
    "import contextily as ctx\n",
    "import geopandas as gpd\n",
    "import matplotlib.pyplot as plt\n",
    "import rasterio\n",
    "from rasterio.crs import CRS"
   ]
  },
  {
   "cell_type": "code",
   "execution_count": 2,
   "id": "clinical-limit",
   "metadata": {
    "ExecuteTime": {
     "end_time": "2022-07-05T21:54:15.681824Z",
     "start_time": "2022-07-05T21:54:15.623111Z"
    }
   },
   "outputs": [
    {
     "data": {
      "text/html": [
       "<div>\n",
       "<style scoped>\n",
       "    .dataframe tbody tr th:only-of-type {\n",
       "        vertical-align: middle;\n",
       "    }\n",
       "\n",
       "    .dataframe tbody tr th {\n",
       "        vertical-align: top;\n",
       "    }\n",
       "\n",
       "    .dataframe thead th {\n",
       "        text-align: right;\n",
       "    }\n",
       "</style>\n",
       "<table border=\"1\" class=\"dataframe\">\n",
       "  <thead>\n",
       "    <tr style=\"text-align: right;\">\n",
       "      <th></th>\n",
       "      <th>CENTERX</th>\n",
       "      <th>CENTERY</th>\n",
       "      <th>STRATA</th>\n",
       "      <th>SAMPLE_ID</th>\n",
       "      <th>date</th>\n",
       "      <th>LS_Validat</th>\n",
       "      <th>random_id</th>\n",
       "      <th>geometry</th>\n",
       "    </tr>\n",
       "  </thead>\n",
       "  <tbody>\n",
       "    <tr>\n",
       "      <th>0</th>\n",
       "      <td>-159.648125</td>\n",
       "      <td>69.21</td>\n",
       "      <td>3</td>\n",
       "      <td>3_38</td>\n",
       "      <td>2011-07-17</td>\n",
       "      <td>1</td>\n",
       "      <td>99</td>\n",
       "      <td>POLYGON ((-159.89875 69.30000, -159.65900 69.3...</td>\n",
       "    </tr>\n",
       "    <tr>\n",
       "      <th>1</th>\n",
       "      <td>-112.983750</td>\n",
       "      <td>67.05</td>\n",
       "      <td>4</td>\n",
       "      <td>4_27</td>\n",
       "      <td>2012-07-23</td>\n",
       "      <td>1</td>\n",
       "      <td>114</td>\n",
       "      <td>POLYGON ((-113.21200 67.14000, -113.09850 67.1...</td>\n",
       "    </tr>\n",
       "    <tr>\n",
       "      <th>2</th>\n",
       "      <td>17.698500</td>\n",
       "      <td>65.97</td>\n",
       "      <td>4</td>\n",
       "      <td>4_43</td>\n",
       "      <td>2010-07-24</td>\n",
       "      <td>1</td>\n",
       "      <td>20</td>\n",
       "      <td>POLYGON ((17.61000 66.06000, 17.91700 66.06000...</td>\n",
       "    </tr>\n",
       "    <tr>\n",
       "      <th>3</th>\n",
       "      <td>59.675000</td>\n",
       "      <td>65.79</td>\n",
       "      <td>3</td>\n",
       "      <td>3_1</td>\n",
       "      <td>2011-07-13</td>\n",
       "      <td>1</td>\n",
       "      <td>112</td>\n",
       "      <td>POLYGON ((59.86900 65.88000, 59.89200 65.88000...</td>\n",
       "    </tr>\n",
       "    <tr>\n",
       "      <th>4</th>\n",
       "      <td>-96.604375</td>\n",
       "      <td>62.73</td>\n",
       "      <td>4</td>\n",
       "      <td>4_34</td>\n",
       "      <td>2012-08-27</td>\n",
       "      <td>1</td>\n",
       "      <td>115</td>\n",
       "      <td>POLYGON ((-96.79875 62.82000, -96.57700 62.820...</td>\n",
       "    </tr>\n",
       "  </tbody>\n",
       "</table>\n",
       "</div>"
      ],
      "text/plain": [
       "      CENTERX  CENTERY  STRATA SAMPLE_ID        date  LS_Validat  random_id  \\\n",
       "0 -159.648125    69.21       3      3_38  2011-07-17           1         99   \n",
       "1 -112.983750    67.05       4      4_27  2012-07-23           1        114   \n",
       "2   17.698500    65.97       4      4_43  2010-07-24           1         20   \n",
       "3   59.675000    65.79       3       3_1  2011-07-13           1        112   \n",
       "4  -96.604375    62.73       4      4_34  2012-08-27           1        115   \n",
       "\n",
       "                                            geometry  \n",
       "0  POLYGON ((-159.89875 69.30000, -159.65900 69.3...  \n",
       "1  POLYGON ((-113.21200 67.14000, -113.09850 67.1...  \n",
       "2  POLYGON ((17.61000 66.06000, 17.91700 66.06000...  \n",
       "3  POLYGON ((59.86900 65.88000, 59.89200 65.88000...  \n",
       "4  POLYGON ((-96.79875 62.82000, -96.57700 62.820...  "
      ]
     },
     "execution_count": 2,
     "metadata": {},
     "output_type": "execute_result"
    }
   ],
   "source": [
    "df = gpd.read_file('chips.geojson')\n",
    "df.head()"
   ]
  },
  {
   "cell_type": "code",
   "execution_count": 11,
   "id": "disabled-marathon",
   "metadata": {
    "ExecuteTime": {
     "end_time": "2022-07-05T22:03:20.866771Z",
     "start_time": "2022-07-05T22:03:20.860961Z"
    }
   },
   "outputs": [
    {
     "data": {
      "text/plain": [
       "array([-96.79875,  62.64   , -96.41   ,  62.82   ])"
      ]
     },
     "execution_count": 11,
     "metadata": {},
     "output_type": "execute_result"
    }
   ],
   "source": [
    "k = 4\n",
    "bounds_4326 = df.iloc[k:k+1].total_bounds\n",
    "bounds_4326"
   ]
  },
  {
   "cell_type": "code",
   "execution_count": 12,
   "id": "entertaining-quarter",
   "metadata": {
    "ExecuteTime": {
     "end_time": "2022-07-05T22:03:21.212069Z",
     "start_time": "2022-07-05T22:03:21.204761Z"
    }
   },
   "outputs": [
    {
     "data": {
      "text/plain": [
       "(-10775587.559425434, 9012517.358297424, -10732312.10737955, 9056249.940189663)"
      ]
     },
     "execution_count": 12,
     "metadata": {},
     "output_type": "execute_result"
    }
   ],
   "source": [
    "bounds_3857 = rasterio.warp.transform_bounds(CRS.from_epsg(4326),\n",
    "                                             CRS.from_epsg(3857),\n",
    "                                             *bounds_4326)\n",
    "bounds_3857"
   ]
  },
  {
   "cell_type": "markdown",
   "id": "collect-jesus",
   "metadata": {},
   "source": [
    "Show available providers (can use independent url too)"
   ]
  },
  {
   "cell_type": "code",
   "execution_count": 18,
   "id": "informed-insight",
   "metadata": {
    "ExecuteTime": {
     "end_time": "2022-07-05T22:07:34.838927Z",
     "start_time": "2022-07-05T22:07:34.836638Z"
    }
   },
   "outputs": [],
   "source": [
    "# ctx.providers"
   ]
  },
  {
   "cell_type": "markdown",
   "id": "close-thomson",
   "metadata": {},
   "source": [
    "Getting a high zoom level!"
   ]
  },
  {
   "cell_type": "code",
   "execution_count": 16,
   "id": "opponent-israeli",
   "metadata": {
    "ExecuteTime": {
     "end_time": "2022-07-05T22:05:01.836925Z",
     "start_time": "2022-07-05T22:03:51.572868Z"
    }
   },
   "outputs": [
    {
     "data": {
      "text/plain": [
       "(4864, 4864, 4)"
      ]
     },
     "execution_count": 16,
     "metadata": {},
     "output_type": "execute_result"
    }
   ],
   "source": [
    "X, extent = ctx.bounds2raster(*bounds_3857, \n",
    "                              'tiles.tif', \n",
    "                              zoom=14,\n",
    "                              source=ctx.providers.CartoDB.PositronNoLabels)\n",
    "X.shape"
   ]
  },
  {
   "cell_type": "code",
   "execution_count": 17,
   "id": "incorporate-acceptance",
   "metadata": {
    "ExecuteTime": {
     "end_time": "2022-07-05T22:05:02.868247Z",
     "start_time": "2022-07-05T22:05:01.839104Z"
    }
   },
   "outputs": [
    {
     "data": {
      "text/plain": [
       "<matplotlib.image.AxesImage at 0x1c7aa0dc0>"
      ]
     },
     "execution_count": 17,
     "metadata": {},
     "output_type": "execute_result"
    },
    {
     "data": {
      "image/png": "[encoded data removed]",
      "text/plain": [
       "<Figure size 432x288 with 1 Axes>"
      ]
     },
     "metadata": {
      "needs_background": "light"
     },
     "output_type": "display_data"
    }
   ],
   "source": [
    "plt.imshow(X)"
   ]
  }
 ],
 "metadata": {
  "kernelspec": {
   "display_name": "dswx_calval",
   "language": "python",
   "name": "dswx_calval"
  },
  "language_info": {
   "codemirror_mode": {
    "name": "ipython",
    "version": 3
   },
   "file_extension": ".py",
   "mimetype": "text/x-python",
   "name": "python",
   "nbconvert_exporter": "python",
   "pygments_lexer": "ipython3",
   "version": "3.9.13"
  }
 },
 "nbformat": 4,
 "nbformat_minor": 5
}
