{
 "cells": [
  {
   "cell_type": "code",
   "execution_count": 1,
   "metadata": {
    "ExecuteTime": {
     "end_time": "2022-09-15T01:28:15.374645Z",
     "start_time": "2022-09-15T01:28:15.320013Z"
    }
   },
   "outputs": [],
   "source": [
    "from lxml import etree\n",
    "import requests"
   ]
  },
  {
   "cell_type": "code",
   "execution_count": 2,
   "metadata": {
    "ExecuteTime": {
     "end_time": "2022-09-15T01:28:15.379091Z",
     "start_time": "2022-09-15T01:28:15.376857Z"
    }
   },
   "outputs": [],
   "source": [
    "metadata_url = 'https://cmr.earthdata.nasa.gov/search/concepts/G2116094319-LPCLOUD.xml'"
   ]
  },
  {
   "cell_type": "code",
   "execution_count": 3,
   "metadata": {
    "ExecuteTime": {
     "end_time": "2022-09-15T01:28:15.383376Z",
     "start_time": "2022-09-15T01:28:15.380287Z"
    }
   },
   "outputs": [],
   "source": [
    "def find_attribute_value(metadata_url, attribute):\n",
    "    metadata_tree = etree.fromstring(requests.get(metadata_url).content)\n",
    "    atts = metadata_tree.findall('.//AdditionalAttribute')\n",
    "    values = [att.find('.//Value').text for att in atts if att.find('.//Name').text == attribute]\n",
    "    if not values:\n",
    "        raise ValueError('Attribute not found')\n",
    "    return values[0]"
   ]
  },
  {
   "cell_type": "code",
   "execution_count": 4,
   "metadata": {
    "ExecuteTime": {
     "end_time": "2022-09-15T01:28:15.388285Z",
     "start_time": "2022-09-15T01:28:15.385513Z"
    }
   },
   "outputs": [],
   "source": [
    "ATTRIBUTES = ['PRODUCT_URI',\n",
    "'CLOUD_COVERAGE',\n",
    "'MGRS_TILE_ID',\n",
    "'SPATIAL_COVERAGE',\n",
    "'SPATIAL_RESOLUTION',\n",
    "'HLS_PROCESSING_TIME',\n",
    "'SENSING_TIME',\n",
    "'HORIZONTAL_CS_CODE',\n",
    "'HORIZONTAL_CS_NAME',\n",
    "'ULX',\n",
    "'ULY',\n",
    "'SPATIAL_RESAMPLING_ALG',\n",
    "'ADD_OFFSET',\n",
    "'REF_SCALE_FACTOR',\n",
    "'ANG_SCALE_FACTOR',\n",
    "'FILLVALUE',\n",
    "'QA_FILLVALUE',\n",
    "'NCOLS',\n",
    "'NROWS',\n",
    "'MEAN_SUN_AZIMUTH_ANGLE',\n",
    "'MEAN_SUN_ZENITH_ANGLE',\n",
    "'MEAN_VIEW_AZIMUTH_ANGLE',\n",
    "'MEAN_VIEW_ZENITH_ANGLE',\n",
    "'NBAR_SOLAR_ZENITH',\n",
    "'MSI_BAND_01_BANDPASS_ADJUSTMENT_SLOPE_AND_OFFSET',\n",
    "'MSI_BAND_02_BANDPASS_ADJUSTMENT_SLOPE_AND_OFFSET',\n",
    "'MSI_BAND_03_BANDPASS_ADJUSTMENT_SLOPE_AND_OFFSET',\n",
    "'MSI_BAND_04_BANDPASS_ADJUSTMENT_SLOPE_AND_OFFSET',\n",
    "'MSI_BAND_11_BANDPASS_ADJUSTMENT_SLOPE_AND_OFFSET',\n",
    "'MSI_BAND_12_BANDPASS_ADJUSTMENT_SLOPE_AND_OFFSET',\n",
    "'MSI_BAND_8A_BANDPASS_ADJUSTMENT_SLOPE_AND_OFFSET',\n",
    "'AROP_AVE_XSHIFT(METERS)',\n",
    "'AROP_AVE_YSHIFT(METERS)',\n",
    "'AROP_NCP',\n",
    "'AROP_RMSE(METERS)',\n",
    "'AROP_S2_REFIMG',\n",
    "'ACCODE',\n",
    "'PROCESSING_BASELINE',\n",
    "'IDENTIFIER_PRODUCT_DOI',\n",
    "'IDENTIFIER_PRODUCT_DOI_AUTHORITY']"
   ]
  },
  {
   "cell_type": "code",
   "execution_count": 5,
   "metadata": {
    "ExecuteTime": {
     "end_time": "2022-09-15T01:28:15.632246Z",
     "start_time": "2022-09-15T01:28:15.389799Z"
    }
   },
   "outputs": [
    {
     "data": {
      "text/plain": [
       "'22'"
      ]
     },
     "execution_count": 5,
     "metadata": {},
     "output_type": "execute_result"
    }
   ],
   "source": [
    "find_attribute_value(metadata_url, ATTRIBUTES[1])"
   ]
  }
 ],
 "metadata": {
  "kernelspec": {
   "display_name": "dswx_val",
   "language": "python",
   "name": "dswx_val"
  },
  "language_info": {
   "codemirror_mode": {
    "name": "ipython",
    "version": 3
   },
   "file_extension": ".py",
   "mimetype": "text/x-python",
   "name": "python",
   "nbconvert_exporter": "python",
   "pygments_lexer": "ipython3",
   "version": "3.10.5"
  }
 },
 "nbformat": 4,
 "nbformat_minor": 2
}
