{
 "cells": [
  {
   "cell_type": "markdown",
   "id": "identical-medicine",
   "metadata": {},
   "source": [
    "Most of this is thanks to Matt Bonnema."
   ]
  },
  {
   "cell_type": "code",
   "execution_count": 1,
   "id": "floating-rachel",
   "metadata": {
    "ExecuteTime": {
     "end_time": "2022-06-21T18:34:35.786486Z",
     "start_time": "2022-06-21T18:34:35.763543Z"
    }
   },
   "outputs": [],
   "source": [
    "%load_ext autoreload\n",
    "%autoreload 2"
   ]
  },
  {
   "cell_type": "code",
   "execution_count": 2,
   "id": "alert-origin",
   "metadata": {
    "ExecuteTime": {
     "end_time": "2022-06-21T18:34:35.899045Z",
     "start_time": "2022-06-21T18:34:35.788816Z"
    }
   },
   "outputs": [],
   "source": [
    "from planet import api\n",
    "from dotenv import dotenv_values\n",
    "from pathlib import Path"
   ]
  },
  {
   "cell_type": "markdown",
   "id": "entire-maine",
   "metadata": {},
   "source": [
    "Paste Planet API key below. Do not share notebook with your API key. WIP: set and use API_KEY environment variable"
   ]
  },
  {
   "cell_type": "code",
   "execution_count": 3,
   "id": "minimal-cooper",
   "metadata": {
    "ExecuteTime": {
     "end_time": "2022-06-21T18:34:35.917677Z",
     "start_time": "2022-06-21T18:34:35.900726Z"
    }
   },
   "outputs": [],
   "source": [
    "config = dotenv_values(\".env\")\n",
    "planet_api_key = config['PLANET_API_KEY']"
   ]
  },
  {
   "cell_type": "code",
   "execution_count": 1,
   "id": "timely-peripheral",
   "metadata": {
    "ExecuteTime": {
     "end_time": "2022-06-22T21:22:30.236375Z",
     "start_time": "2022-06-22T21:22:30.229941Z"
    }
   },
   "outputs": [],
   "source": [
    "PLANET_SCENE_ID = '20211028_045455_02_2459'"
   ]
  },
  {
   "cell_type": "code",
   "execution_count": 4,
   "id": "noted-change",
   "metadata": {
    "ExecuteTime": {
     "end_time": "2022-06-21T18:34:36.508354Z",
     "start_time": "2022-06-21T18:34:35.920731Z"
    }
   },
   "outputs": [
    {
     "data": {
      "text/plain": [
       "dict_keys(['_links', '_permissions', 'assets', 'geometry', 'id', 'properties', 'type'])"
      ]
     },
     "execution_count": 4,
     "metadata": {},
     "output_type": "execute_result"
    }
   ],
   "source": [
    "client = api.ClientV1(api_key=planet_api_key)\n",
    "req = client.get_item('PSScene', \n",
    "                      PLANET_SCENE_ID)\n",
    "resp = req.get()\n",
    "resp.keys()"
   ]
  },
  {
   "cell_type": "code",
   "execution_count": 5,
   "id": "protected-visit",
   "metadata": {
    "ExecuteTime": {
     "end_time": "2022-06-21T18:34:36.529210Z",
     "start_time": "2022-06-21T18:34:36.509937Z"
    }
   },
   "outputs": [
    {
     "data": {
      "text/plain": [
       "['basic_analytic_4b',\n",
       " 'basic_analytic_4b_rpc',\n",
       " 'basic_analytic_4b_xml',\n",
       " 'basic_analytic_8b',\n",
       " 'basic_analytic_8b_xml',\n",
       " 'basic_udm2',\n",
       " 'ortho_analytic_4b',\n",
       " 'ortho_analytic_4b_sr',\n",
       " 'ortho_analytic_4b_xml',\n",
       " 'ortho_analytic_8b',\n",
       " 'ortho_analytic_8b_sr',\n",
       " 'ortho_analytic_8b_xml',\n",
       " 'ortho_udm2',\n",
       " 'ortho_visual']"
      ]
     },
     "execution_count": 5,
     "metadata": {},
     "output_type": "execute_result"
    }
   ],
   "source": [
    "resp['assets']"
   ]
  },
  {
   "cell_type": "markdown",
   "id": "military-situation",
   "metadata": {},
   "source": [
    "# Download Data"
   ]
  },
  {
   "cell_type": "code",
   "execution_count": 14,
   "id": "alpha-liverpool",
   "metadata": {
    "ExecuteTime": {
     "end_time": "2022-06-21T18:49:23.276459Z",
     "start_time": "2022-06-21T18:49:23.257734Z"
    }
   },
   "outputs": [
    {
     "data": {
      "text/plain": [
       "<planet.api.downloader._Downloader at 0x10ec0aeb0>"
      ]
     },
     "execution_count": 14,
     "metadata": {},
     "output_type": "execute_result"
    }
   ],
   "source": [
    "from planet.api import downloader\n",
    "\n",
    "client = api.ClientV1(api_key=planet_api_key)\n",
    "downloader = downloader.create(client)\n",
    "downloader"
   ]
  },
  {
   "cell_type": "code",
   "execution_count": 7,
   "id": "amended-haiti",
   "metadata": {
    "ExecuteTime": {
     "end_time": "2022-06-21T18:34:36.568636Z",
     "start_time": "2022-06-21T18:34:36.551899Z"
    }
   },
   "outputs": [],
   "source": [
    "items_to_download = [resp]\n",
    "asset_types = ['ortho_analytic_8b_sr']"
   ]
  },
  {
   "cell_type": "code",
   "execution_count": 8,
   "id": "statutory-longer",
   "metadata": {
    "ExecuteTime": {
     "end_time": "2022-06-21T18:34:36.589105Z",
     "start_time": "2022-06-21T18:34:36.570903Z"
    }
   },
   "outputs": [
    {
     "data": {
      "text/plain": [
       "{'paging': False, 'activating': 0, 'pending': 0, 'complete': 0}"
      ]
     },
     "execution_count": 8,
     "metadata": {},
     "output_type": "execute_result"
    }
   ],
   "source": [
    "downloader.stats()"
   ]
  },
  {
   "cell_type": "code",
   "execution_count": 13,
   "id": "economic-prescription",
   "metadata": {
    "ExecuteTime": {
     "end_time": "2022-06-21T18:49:21.354713Z",
     "start_time": "2022-06-21T18:49:21.338159Z"
    }
   },
   "outputs": [],
   "source": [
    "#downloader.shutdown()"
   ]
  },
  {
   "cell_type": "code",
   "execution_count": 15,
   "id": "decreased-found",
   "metadata": {
    "ExecuteTime": {
     "end_time": "2022-06-21T18:52:02.196952Z",
     "start_time": "2022-06-21T18:49:25.281888Z"
    }
   },
   "outputs": [
    {
     "data": {
      "text/plain": [
       "{'paging': False, 'activating': 0, 'pending': 0, 'complete': 1}"
      ]
     },
     "execution_count": 15,
     "metadata": {},
     "output_type": "execute_result"
    }
   ],
   "source": [
    "n = len(items_to_download)\n",
    "resp_ac = downloader.activate(iter(items_to_download), asset_types)\n",
    "resp_ac"
   ]
  },
  {
   "cell_type": "code",
   "execution_count": 16,
   "id": "sensitive-roberts",
   "metadata": {
    "ExecuteTime": {
     "end_time": "2022-06-21T18:52:02.215690Z",
     "start_time": "2022-06-21T18:52:02.199252Z"
    }
   },
   "outputs": [],
   "source": [
    "# downloader.shutdown()"
   ]
  },
  {
   "cell_type": "code",
   "execution_count": 17,
   "id": "graduate-biology",
   "metadata": {
    "ExecuteTime": {
     "end_time": "2022-06-21T18:52:02.234707Z",
     "start_time": "2022-06-21T18:52:02.217641Z"
    }
   },
   "outputs": [],
   "source": [
    "out_path = Path('test_chip')\n",
    "out_path.mkdir(exist_ok=True)"
   ]
  },
  {
   "cell_type": "code",
   "execution_count": 18,
   "id": "waiting-advisory",
   "metadata": {
    "ExecuteTime": {
     "end_time": "2022-06-21T18:55:26.631863Z",
     "start_time": "2022-06-21T18:52:02.237033Z"
    }
   },
   "outputs": [
    {
     "name": "stderr",
     "output_type": "stream",
     "text": [
      "WARNING:FuturesSession:`background_callback` is deprecated and will be removed in 1.0, use `hooks` instead\n"
     ]
    },
    {
     "data": {
      "text/plain": [
       "{'paging': False,\n",
       " 'activating': 0,\n",
       " 'pending': 0,\n",
       " 'complete': 1,\n",
       " 'downloading': 0,\n",
       " 'downloaded': '1110.91MB'}"
      ]
     },
     "execution_count": 18,
     "metadata": {},
     "output_type": "execute_result"
    }
   ],
   "source": [
    "n = len(items_to_download)\n",
    "resp_dl = downloader.download(iter(items_to_download), asset_types, str(out_path))\n",
    "resp_dl"
   ]
  },
  {
   "cell_type": "code",
   "execution_count": 19,
   "id": "ethical-quantity",
   "metadata": {
    "ExecuteTime": {
     "end_time": "2022-06-21T18:55:26.652575Z",
     "start_time": "2022-06-21T18:55:26.633960Z"
    }
   },
   "outputs": [
    {
     "data": {
      "text/plain": [
       "{'paging': False, 'activating': 0, 'pending': 0, 'complete': 0}"
      ]
     },
     "execution_count": 19,
     "metadata": {},
     "output_type": "execute_result"
    }
   ],
   "source": [
    "downloader.stats()"
   ]
  }
 ],
 "metadata": {
  "kernelspec": {
   "display_name": "dem-stitcher-conda",
   "language": "python",
   "name": "dem-stitcher-conda"
  },
  "language_info": {
   "codemirror_mode": {
    "name": "ipython",
    "version": 3
   },
   "file_extension": ".py",
   "mimetype": "text/x-python",
   "name": "python",
   "nbconvert_exporter": "python",
   "pygments_lexer": "ipython3",
   "version": "3.9.13"
  }
 },
 "nbformat": 4,
 "nbformat_minor": 5
}
