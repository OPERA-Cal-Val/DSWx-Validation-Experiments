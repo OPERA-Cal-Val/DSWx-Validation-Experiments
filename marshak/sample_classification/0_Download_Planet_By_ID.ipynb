{
 "cells": [
  {
   "cell_type": "markdown",
   "id": "rational-plane",
   "metadata": {},
   "source": [
    "Most of this is thanks to Matt Bonnema."
   ]
  },
  {
   "cell_type": "code",
   "execution_count": 1,
   "id": "signal-logistics",
   "metadata": {
    "ExecuteTime": {
     "end_time": "2022-06-24T18:33:09.420384Z",
     "start_time": "2022-06-24T18:33:09.397151Z"
    }
   },
   "outputs": [],
   "source": [
    "%load_ext autoreload\n",
    "%autoreload 2"
   ]
  },
  {
   "cell_type": "code",
   "execution_count": 2,
   "id": "champion-cooler",
   "metadata": {
    "ExecuteTime": {
     "end_time": "2022-06-24T18:33:09.510442Z",
     "start_time": "2022-06-24T18:33:09.422642Z"
    }
   },
   "outputs": [],
   "source": [
    "from planet import api\n",
    "from dotenv import dotenv_values\n",
    "from pathlib import Path"
   ]
  },
  {
   "cell_type": "markdown",
   "id": "sustainable-worry",
   "metadata": {},
   "source": [
    "Paste Planet API key below. Do not share notebook with your API key. WIP: set and use API_KEY environment variable"
   ]
  },
  {
   "cell_type": "code",
   "execution_count": 3,
   "id": "legal-present",
   "metadata": {
    "ExecuteTime": {
     "end_time": "2022-06-24T18:33:09.530502Z",
     "start_time": "2022-06-24T18:33:09.512348Z"
    }
   },
   "outputs": [],
   "source": [
    "config = dotenv_values()\n",
    "planet_api_key = config['PLANET_API_KEY']"
   ]
  },
  {
   "cell_type": "code",
   "execution_count": 4,
   "id": "formal-metropolitan",
   "metadata": {
    "ExecuteTime": {
     "end_time": "2022-06-24T18:33:09.550320Z",
     "start_time": "2022-06-24T18:33:09.533068Z"
    }
   },
   "outputs": [],
   "source": [
    "PLANET_SCENE_ID = '20211003_161639_91_241d'"
   ]
  },
  {
   "cell_type": "code",
   "execution_count": 5,
   "id": "phantom-galaxy",
   "metadata": {
    "ExecuteTime": {
     "end_time": "2022-06-24T18:33:10.464809Z",
     "start_time": "2022-06-24T18:33:09.552309Z"
    }
   },
   "outputs": [
    {
     "data": {
      "text/plain": [
       "dict_keys(['_links', '_permissions', 'assets', 'geometry', 'id', 'properties', 'type'])"
      ]
     },
     "execution_count": 5,
     "metadata": {},
     "output_type": "execute_result"
    }
   ],
   "source": [
    "client = api.ClientV1(api_key=planet_api_key)\n",
    "req = client.get_item('PSScene', \n",
    "                      PLANET_SCENE_ID)\n",
    "resp = req.get()\n",
    "resp.keys()"
   ]
  },
  {
   "cell_type": "code",
   "execution_count": 6,
   "id": "scenic-detail",
   "metadata": {
    "ExecuteTime": {
     "end_time": "2022-06-24T18:33:10.485588Z",
     "start_time": "2022-06-24T18:33:10.466612Z"
    }
   },
   "outputs": [
    {
     "data": {
      "text/plain": [
       "['basic_analytic_4b',\n",
       " 'basic_analytic_4b_rpc',\n",
       " 'basic_analytic_4b_xml',\n",
       " 'basic_analytic_8b',\n",
       " 'basic_analytic_8b_xml',\n",
       " 'basic_udm2',\n",
       " 'ortho_analytic_4b',\n",
       " 'ortho_analytic_4b_sr',\n",
       " 'ortho_analytic_4b_xml',\n",
       " 'ortho_analytic_8b',\n",
       " 'ortho_analytic_8b_sr',\n",
       " 'ortho_analytic_8b_xml',\n",
       " 'ortho_udm2',\n",
       " 'ortho_visual']"
      ]
     },
     "execution_count": 6,
     "metadata": {},
     "output_type": "execute_result"
    }
   ],
   "source": [
    "resp['assets']"
   ]
  },
  {
   "cell_type": "markdown",
   "id": "single-morning",
   "metadata": {},
   "source": [
    "# Download Data"
   ]
  },
  {
   "cell_type": "code",
   "execution_count": 7,
   "id": "convenient-stocks",
   "metadata": {
    "ExecuteTime": {
     "end_time": "2022-06-24T18:33:10.508605Z",
     "start_time": "2022-06-24T18:33:10.487629Z"
    }
   },
   "outputs": [
    {
     "data": {
      "text/plain": [
       "<planet.api.downloader._Downloader at 0x1099ca070>"
      ]
     },
     "execution_count": 7,
     "metadata": {},
     "output_type": "execute_result"
    }
   ],
   "source": [
    "from planet.api import downloader\n",
    "\n",
    "client = api.ClientV1(api_key=planet_api_key)\n",
    "downloader = downloader.create(client)\n",
    "downloader"
   ]
  },
  {
   "cell_type": "code",
   "execution_count": 8,
   "id": "distant-agreement",
   "metadata": {
    "ExecuteTime": {
     "end_time": "2022-06-24T18:33:10.528250Z",
     "start_time": "2022-06-24T18:33:10.510551Z"
    }
   },
   "outputs": [],
   "source": [
    "items_to_download = [resp]\n",
    "asset_types = ['ortho_analytic_8b_sr']"
   ]
  },
  {
   "cell_type": "code",
   "execution_count": 9,
   "id": "distant-retention",
   "metadata": {
    "ExecuteTime": {
     "end_time": "2022-06-24T18:33:10.549353Z",
     "start_time": "2022-06-24T18:33:10.530209Z"
    }
   },
   "outputs": [
    {
     "data": {
      "text/plain": [
       "{'paging': False, 'activating': 0, 'pending': 0, 'complete': 0}"
      ]
     },
     "execution_count": 9,
     "metadata": {},
     "output_type": "execute_result"
    }
   ],
   "source": [
    "downloader.stats()"
   ]
  },
  {
   "cell_type": "code",
   "execution_count": 10,
   "id": "amino-maker",
   "metadata": {
    "ExecuteTime": {
     "end_time": "2022-06-24T18:33:10.570936Z",
     "start_time": "2022-06-24T18:33:10.553090Z"
    }
   },
   "outputs": [],
   "source": [
    "#downloader.shutdown()"
   ]
  },
  {
   "cell_type": "code",
   "execution_count": 11,
   "id": "essential-original",
   "metadata": {
    "ExecuteTime": {
     "end_time": "2022-06-24T18:33:11.477504Z",
     "start_time": "2022-06-24T18:33:10.573072Z"
    }
   },
   "outputs": [
    {
     "data": {
      "text/plain": [
       "{'paging': False, 'activating': 0, 'pending': 0, 'complete': 1}"
      ]
     },
     "execution_count": 11,
     "metadata": {},
     "output_type": "execute_result"
    }
   ],
   "source": [
    "n = len(items_to_download)\n",
    "resp_ac = downloader.activate(iter(items_to_download), asset_types)\n",
    "resp_ac"
   ]
  },
  {
   "cell_type": "code",
   "execution_count": 12,
   "id": "painted-remark",
   "metadata": {
    "ExecuteTime": {
     "end_time": "2022-06-24T18:33:11.495824Z",
     "start_time": "2022-06-24T18:33:11.479309Z"
    }
   },
   "outputs": [],
   "source": [
    "# downloader.shutdown()"
   ]
  },
  {
   "cell_type": "code",
   "execution_count": 13,
   "id": "retained-regression",
   "metadata": {
    "ExecuteTime": {
     "end_time": "2022-06-24T18:33:11.514458Z",
     "start_time": "2022-06-24T18:33:11.497716Z"
    }
   },
   "outputs": [],
   "source": [
    "out_path = Path('local_chips')\n",
    "out_path.mkdir(exist_ok=True)"
   ]
  },
  {
   "cell_type": "code",
   "execution_count": 14,
   "id": "worldwide-automation",
   "metadata": {
    "ExecuteTime": {
     "end_time": "2022-06-24T18:33:14.746187Z",
     "start_time": "2022-06-24T18:33:11.516250Z"
    }
   },
   "outputs": [
    {
     "name": "stderr",
     "output_type": "stream",
     "text": [
      "`background_callback` is deprecated and will be removed in 1.0, use `hooks` instead\n"
     ]
    },
    {
     "data": {
      "text/plain": [
       "{'paging': False,\n",
       " 'activating': 0,\n",
       " 'pending': 0,\n",
       " 'complete': 1,\n",
       " 'downloading': 0,\n",
       " 'downloaded': '0.00MB'}"
      ]
     },
     "execution_count": 14,
     "metadata": {},
     "output_type": "execute_result"
    }
   ],
   "source": [
    "n = len(items_to_download)\n",
    "resp_dl = downloader.download(iter(items_to_download), asset_types, str(out_path))\n",
    "resp_dl"
   ]
  },
  {
   "cell_type": "code",
   "execution_count": 15,
   "id": "clear-theater",
   "metadata": {
    "ExecuteTime": {
     "end_time": "2022-06-24T18:33:14.765804Z",
     "start_time": "2022-06-24T18:33:14.748084Z"
    }
   },
   "outputs": [
    {
     "data": {
      "text/plain": [
       "{'paging': False, 'activating': 0, 'pending': 0, 'complete': 0}"
      ]
     },
     "execution_count": 15,
     "metadata": {},
     "output_type": "execute_result"
    }
   ],
   "source": [
    "downloader.stats()"
   ]
  }
 ],
 "metadata": {
  "kernelspec": {
   "display_name": "dem-stitcher-conda",
   "language": "python",
   "name": "dem-stitcher-conda"
  },
  "language_info": {
   "codemirror_mode": {
    "name": "ipython",
    "version": 3
   },
   "file_extension": ".py",
   "mimetype": "text/x-python",
   "name": "python",
   "nbconvert_exporter": "python",
   "pygments_lexer": "ipython3",
   "version": "3.9.13"
  }
 },
 "nbformat": 4,
 "nbformat_minor": 5
}
