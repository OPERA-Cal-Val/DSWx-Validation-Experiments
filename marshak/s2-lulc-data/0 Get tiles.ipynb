{
 "cells": [
  {
   "cell_type": "markdown",
   "id": "bibliographic-flexibility",
   "metadata": {},
   "source": [
    "Goal is to be able to fetch rasters [here](https://www.arcgis.com/apps/instant/media/index.html?appid=fc92d38533d440078f17678ebc20e8e2) efficiently"
   ]
  },
  {
   "cell_type": "code",
   "execution_count": 1,
   "id": "statewide-breeding",
   "metadata": {
    "ExecuteTime": {
     "end_time": "2022-07-07T18:58:17.309892Z",
     "start_time": "2022-07-07T18:58:16.051292Z"
    }
   },
   "outputs": [],
   "source": [
    "import geopandas as gpd\n",
    "from shapely.geometry import Polygon,MultiPolygon,box\n",
    "from rasterio.errors import RasterioIOError\n",
    "from tqdm import tqdm\n",
    "import rasterio"
   ]
  },
  {
   "cell_type": "markdown",
   "id": "unauthorized-swedish",
   "metadata": {},
   "source": [
    "Put this [repo](https://github.com/justinelliotmeyers/Sentinel-2-Shapefile-Index) into geojson and now am going to dissolve it."
   ]
  },
  {
   "cell_type": "code",
   "execution_count": 2,
   "id": "manufactured-jacob",
   "metadata": {
    "ExecuteTime": {
     "end_time": "2022-07-07T18:58:19.852603Z",
     "start_time": "2022-07-07T18:58:17.312035Z"
    }
   },
   "outputs": [
    {
     "data": {
      "text/html": [
       "<div>\n",
       "<style scoped>\n",
       "    .dataframe tbody tr th:only-of-type {\n",
       "        vertical-align: middle;\n",
       "    }\n",
       "\n",
       "    .dataframe tbody tr th {\n",
       "        vertical-align: top;\n",
       "    }\n",
       "\n",
       "    .dataframe thead th {\n",
       "        text-align: right;\n",
       "    }\n",
       "</style>\n",
       "<table border=\"1\" class=\"dataframe\">\n",
       "  <thead>\n",
       "    <tr style=\"text-align: right;\">\n",
       "      <th></th>\n",
       "      <th>Name</th>\n",
       "      <th>geometry</th>\n",
       "    </tr>\n",
       "  </thead>\n",
       "  <tbody>\n",
       "    <tr>\n",
       "      <th>0</th>\n",
       "      <td>01CCV</td>\n",
       "      <td>POLYGON Z ((180.00000 -73.05974 0.00000, 176.8...</td>\n",
       "    </tr>\n",
       "    <tr>\n",
       "      <th>1</th>\n",
       "      <td>01CCV</td>\n",
       "      <td>POLYGON Z ((-180.00000 -72.07333 0.00000, -179...</td>\n",
       "    </tr>\n",
       "    <tr>\n",
       "      <th>2</th>\n",
       "      <td>01CDH</td>\n",
       "      <td>POLYGON Z ((180.00000 -83.80855 0.00000, 174.7...</td>\n",
       "    </tr>\n",
       "    <tr>\n",
       "      <th>3</th>\n",
       "      <td>01CDH</td>\n",
       "      <td>POLYGON Z ((-180.00000 -82.82590 0.00000, -176...</td>\n",
       "    </tr>\n",
       "    <tr>\n",
       "      <th>4</th>\n",
       "      <td>01CDJ</td>\n",
       "      <td>POLYGON Z ((180.00000 -82.91344 0.00000, 175.7...</td>\n",
       "    </tr>\n",
       "  </tbody>\n",
       "</table>\n",
       "</div>"
      ],
      "text/plain": [
       "    Name                                           geometry\n",
       "0  01CCV  POLYGON Z ((180.00000 -73.05974 0.00000, 176.8...\n",
       "1  01CCV  POLYGON Z ((-180.00000 -72.07333 0.00000, -179...\n",
       "2  01CDH  POLYGON Z ((180.00000 -83.80855 0.00000, 174.7...\n",
       "3  01CDH  POLYGON Z ((-180.00000 -82.82590 0.00000, -176...\n",
       "4  01CDJ  POLYGON Z ((180.00000 -82.91344 0.00000, 175.7..."
      ]
     },
     "execution_count": 2,
     "metadata": {},
     "output_type": "execute_result"
    }
   ],
   "source": [
    "df = gpd.read_file('sentinel_2_index.geojson')\n",
    "df.head()"
   ]
  },
  {
   "cell_type": "code",
   "execution_count": 3,
   "id": "private-namibia",
   "metadata": {
    "ExecuteTime": {
     "end_time": "2022-07-07T18:58:25.868794Z",
     "start_time": "2022-07-07T18:58:19.857289Z"
    }
   },
   "outputs": [
    {
     "data": {
      "text/plain": [
       "<AxesSubplot:>"
      ]
     },
     "execution_count": 3,
     "metadata": {},
     "output_type": "execute_result"
    },
    {
     "data": {
      "image/png": "[encoded data removed]",
      "text/plain": [
       "<Figure size 432x288 with 1 Axes>"
      ]
     },
     "metadata": {
      "needs_background": "light"
     },
     "output_type": "display_data"
    }
   ],
   "source": [
    "df.boundary.plot()"
   ]
  },
  {
   "cell_type": "code",
   "execution_count": 4,
   "id": "alike-fraction",
   "metadata": {
    "ExecuteTime": {
     "end_time": "2022-07-07T18:58:28.617246Z",
     "start_time": "2022-07-07T18:58:25.870774Z"
    }
   },
   "outputs": [
    {
     "data": {
      "text/html": [
       "<div>\n",
       "<style scoped>\n",
       "    .dataframe tbody tr th:only-of-type {\n",
       "        vertical-align: middle;\n",
       "    }\n",
       "\n",
       "    .dataframe tbody tr th {\n",
       "        vertical-align: top;\n",
       "    }\n",
       "\n",
       "    .dataframe thead th {\n",
       "        text-align: right;\n",
       "    }\n",
       "</style>\n",
       "<table border=\"1\" class=\"dataframe\">\n",
       "  <thead>\n",
       "    <tr style=\"text-align: right;\">\n",
       "      <th></th>\n",
       "      <th>zone</th>\n",
       "      <th>geometry</th>\n",
       "      <th>Name</th>\n",
       "    </tr>\n",
       "  </thead>\n",
       "  <tbody>\n",
       "    <tr>\n",
       "      <th>0</th>\n",
       "      <td>01C</td>\n",
       "      <td>MULTIPOLYGON Z (((-180.00000 -82.01866 0.00000...</td>\n",
       "      <td>01CCV</td>\n",
       "    </tr>\n",
       "    <tr>\n",
       "      <th>1</th>\n",
       "      <td>01D</td>\n",
       "      <td>MULTIPOLYGON Z (((-179.78352 -72.16587 0.00000...</td>\n",
       "      <td>01DCA</td>\n",
       "    </tr>\n",
       "    <tr>\n",
       "      <th>2</th>\n",
       "      <td>01E</td>\n",
       "      <td>MULTIPOLYGON Z (((-178.95196 -64.10055 0.00000...</td>\n",
       "      <td>01ECK</td>\n",
       "    </tr>\n",
       "    <tr>\n",
       "      <th>3</th>\n",
       "      <td>01F</td>\n",
       "      <td>MULTIPOLYGON Z (((-178.60505 -56.02263 0.00000...</td>\n",
       "      <td>01FBA</td>\n",
       "    </tr>\n",
       "    <tr>\n",
       "      <th>4</th>\n",
       "      <td>01G</td>\n",
       "      <td>MULTIPOLYGON Z (((-178.27353 -47.93369 0.00000...</td>\n",
       "      <td>01GBH</td>\n",
       "    </tr>\n",
       "  </tbody>\n",
       "</table>\n",
       "</div>"
      ],
      "text/plain": [
       "  zone                                           geometry   Name\n",
       "0  01C  MULTIPOLYGON Z (((-180.00000 -82.01866 0.00000...  01CCV\n",
       "1  01D  MULTIPOLYGON Z (((-179.78352 -72.16587 0.00000...  01DCA\n",
       "2  01E  MULTIPOLYGON Z (((-178.95196 -64.10055 0.00000...  01ECK\n",
       "3  01F  MULTIPOLYGON Z (((-178.60505 -56.02263 0.00000...  01FBA\n",
       "4  01G  MULTIPOLYGON Z (((-178.27353 -47.93369 0.00000...  01GBH"
      ]
     },
     "execution_count": 4,
     "metadata": {},
     "output_type": "execute_result"
    }
   ],
   "source": [
    "df['zone'] = df.Name.map(lambda x: x[:3])\n",
    "df_zones = df.dissolve(by='zone', as_index=False)\n",
    "df_zones.head()"
   ]
  },
  {
   "cell_type": "code",
   "execution_count": 5,
   "id": "analyzed-portsmouth",
   "metadata": {
    "ExecuteTime": {
     "end_time": "2022-07-07T18:58:28.626173Z",
     "start_time": "2022-07-07T18:58:28.619152Z"
    }
   },
   "outputs": [],
   "source": [
    "def simplify(geo):\n",
    "    if isinstance(geo, MultiPolygon):\n",
    "        for p in geo.geoms:\n",
    "            #print(type(p))\n",
    "            if isinstance(p, Polygon):\n",
    "                #print(p)\n",
    "                return p\n",
    "    return geo\n",
    "        \n",
    "df_zones_f = df_zones.copy()\n",
    "df_zones_f.geometry = df_zones_f.geometry.map(simplify)"
   ]
  },
  {
   "cell_type": "code",
   "execution_count": 6,
   "id": "tracked-soviet",
   "metadata": {
    "ExecuteTime": {
     "end_time": "2022-07-07T18:58:28.947743Z",
     "start_time": "2022-07-07T18:58:28.628101Z"
    }
   },
   "outputs": [
    {
     "data": {
      "text/plain": [
       "<AxesSubplot:>"
      ]
     },
     "execution_count": 6,
     "metadata": {},
     "output_type": "execute_result"
    },
    {
     "data": {
      "image/png": "[encoded data removed]",
      "text/plain": [
       "<Figure size 432x288 with 1 Axes>"
      ]
     },
     "metadata": {
      "needs_background": "light"
     },
     "output_type": "display_data"
    }
   ],
   "source": [
    "df_zones_f.plot()"
   ]
  },
  {
   "cell_type": "code",
   "execution_count": 7,
   "id": "vanilla-painting",
   "metadata": {
    "ExecuteTime": {
     "end_time": "2022-07-07T18:58:29.367645Z",
     "start_time": "2022-07-07T18:58:28.949440Z"
    }
   },
   "outputs": [],
   "source": [
    "df_zones.to_file('s2_zones_0.geojson', driver='GeoJSON')"
   ]
  },
  {
   "cell_type": "markdown",
   "id": "vanilla-transition",
   "metadata": {},
   "source": [
    "# Read from Server\n",
    "\n",
    "Use the shapefile to figure out actual geometries on the site first linked. Wish there was a better way."
   ]
  },
  {
   "cell_type": "code",
   "execution_count": 8,
   "id": "listed-testament",
   "metadata": {
    "ExecuteTime": {
     "end_time": "2022-07-07T18:58:29.424890Z",
     "start_time": "2022-07-07T18:58:29.369553Z"
    }
   },
   "outputs": [],
   "source": [
    "from dem_stitcher.rio_window import transform_bounds\n",
    "from rasterio.crs import CRS\n",
    "\n",
    "relevant_global_bbox = box(-179, -80, 179, 80)\n",
    "\n",
    "def generate_url(zone, year=2021):\n",
    "    assert(year in list(range(2017, 2022)))\n",
    "    base_url = 'https://lulctimeseries.blob.core.windows.net/lulctimeseriespublic'\n",
    "    url = f'{base_url}/lc{year}/{zone}_{year}0101-{year+1}0101.tif'\n",
    "    return url\n",
    "\n",
    "def get_raster_geo(zone):\n",
    "    url = generate_url(zone)\n",
    "    try:\n",
    "        with rasterio.open(url) as ds:\n",
    "            bounds = ds.bounds\n",
    "            src_crs = ds.crs\n",
    "            bounds_4326 = transform_bounds(bounds,\n",
    "                                           src_crs, \n",
    "                                           CRS.from_epsg(4326))\n",
    "            \n",
    "            # weird UTM behavior at dateline - heuristic transformation\n",
    "            xmin, xmax = bounds_4326[0], bounds_4326[2]\n",
    "            if xmax < xmin:\n",
    "                bounds_4326[0] = xmin - 360.\n",
    "                bounds_4326[2] = xmax\n",
    "            geo = box(*list(bounds_4326))#.intersection(relevant_global_bbox)\n",
    "        return geo\n",
    "    except RasterioIOError:\n",
    "        return Polygon()"
   ]
  },
  {
   "cell_type": "code",
   "execution_count": 9,
   "id": "romance-heath",
   "metadata": {
    "ExecuteTime": {
     "end_time": "2022-07-07T19:12:05.162331Z",
     "start_time": "2022-07-07T18:58:29.428340Z"
    }
   },
   "outputs": [
    {
     "name": "stderr",
     "output_type": "stream",
     "text": [
      "100%|█████████████████████████████████| 1197/1197 [13:35<00:00,  1.47it/s]\n"
     ]
    }
   ],
   "source": [
    "geometries = list(map(get_raster_geo, tqdm(df_zones_f.zone)))"
   ]
  },
  {
   "cell_type": "code",
   "execution_count": 10,
   "id": "catholic-rescue",
   "metadata": {
    "ExecuteTime": {
     "end_time": "2022-07-07T19:12:05.184218Z",
     "start_time": "2022-07-07T19:12:05.164413Z"
    }
   },
   "outputs": [
    {
     "data": {
      "text/html": [
       "<div>\n",
       "<style scoped>\n",
       "    .dataframe tbody tr th:only-of-type {\n",
       "        vertical-align: middle;\n",
       "    }\n",
       "\n",
       "    .dataframe tbody tr th {\n",
       "        vertical-align: top;\n",
       "    }\n",
       "\n",
       "    .dataframe thead th {\n",
       "        text-align: right;\n",
       "    }\n",
       "</style>\n",
       "<table border=\"1\" class=\"dataframe\">\n",
       "  <thead>\n",
       "    <tr style=\"text-align: right;\">\n",
       "      <th></th>\n",
       "      <th>zone</th>\n",
       "      <th>geometry</th>\n",
       "    </tr>\n",
       "  </thead>\n",
       "  <tbody>\n",
       "    <tr>\n",
       "      <th>0</th>\n",
       "      <td>01C</td>\n",
       "      <td>POLYGON ((-174.00377 -79.97089, -174.00377 -71...</td>\n",
       "    </tr>\n",
       "    <tr>\n",
       "      <th>1</th>\n",
       "      <td>01G</td>\n",
       "      <td>POLYGON ((-174.00181 -47.98783, -174.00181 -39...</td>\n",
       "    </tr>\n",
       "    <tr>\n",
       "      <th>2</th>\n",
       "      <td>01K</td>\n",
       "      <td>POLYGON ((-174.00041 -23.99679, -174.00041 -15...</td>\n",
       "    </tr>\n",
       "    <tr>\n",
       "      <th>3</th>\n",
       "      <td>01L</td>\n",
       "      <td>POLYGON ((-174.00011 -15.99869, -174.00011 -7....</td>\n",
       "    </tr>\n",
       "    <tr>\n",
       "      <th>4</th>\n",
       "      <td>01U</td>\n",
       "      <td>POLYGON ((-173.41267 47.96096, -173.41267 55.9...</td>\n",
       "    </tr>\n",
       "  </tbody>\n",
       "</table>\n",
       "</div>"
      ],
      "text/plain": [
       "  zone                                           geometry\n",
       "0  01C  POLYGON ((-174.00377 -79.97089, -174.00377 -71...\n",
       "1  01G  POLYGON ((-174.00181 -47.98783, -174.00181 -39...\n",
       "2  01K  POLYGON ((-174.00041 -23.99679, -174.00041 -15...\n",
       "3  01L  POLYGON ((-174.00011 -15.99869, -174.00011 -7....\n",
       "4  01U  POLYGON ((-173.41267 47.96096, -173.41267 55.9..."
      ]
     },
     "execution_count": 10,
     "metadata": {},
     "output_type": "execute_result"
    }
   ],
   "source": [
    "df_final = gpd.GeoDataFrame(df_zones_f[['zone']], \n",
    "                            geometry = geometries, \n",
    "                            crs = CRS.from_epsg(4326))\n",
    "df_final = df_final[~df_final.geometry.is_empty].reset_index(drop=True)\n",
    "df_final.head()"
   ]
  },
  {
   "cell_type": "code",
   "execution_count": 14,
   "id": "neural-ethics",
   "metadata": {
    "ExecuteTime": {
     "end_time": "2022-07-07T19:12:39.068161Z",
     "start_time": "2022-07-07T19:12:38.978301Z"
    }
   },
   "outputs": [],
   "source": [
    "df_final.to_file('s2_class_zones.geojson', driver='GeoJSON')"
   ]
  },
  {
   "cell_type": "code",
   "execution_count": 15,
   "id": "liquid-cincinnati",
   "metadata": {
    "ExecuteTime": {
     "end_time": "2022-07-07T19:12:40.874569Z",
     "start_time": "2022-07-07T19:12:40.713400Z"
    }
   },
   "outputs": [
    {
     "data": {
      "text/plain": [
       "<AxesSubplot:>"
      ]
     },
     "execution_count": 15,
     "metadata": {},
     "output_type": "execute_result"
    },
    {
     "data": {
      "image/png": "[encoded data removed]",
      "text/plain": [
       "<Figure size 432x288 with 1 Axes>"
      ]
     },
     "metadata": {
      "needs_background": "light"
     },
     "output_type": "display_data"
    }
   ],
   "source": [
    "df_final.boundary.plot()"
   ]
  },
  {
   "cell_type": "code",
   "execution_count": null,
   "id": "alternative-enlargement",
   "metadata": {},
   "outputs": [],
   "source": []
  }
 ],
 "metadata": {
  "kernelspec": {
   "display_name": "dswx_calval",
   "language": "python",
   "name": "dswx_calval"
  },
  "language_info": {
   "codemirror_mode": {
    "name": "ipython",
    "version": 3
   },
   "file_extension": ".py",
   "mimetype": "text/x-python",
   "name": "python",
   "nbconvert_exporter": "python",
   "pygments_lexer": "ipython3",
   "version": "3.9.13"
  }
 },
 "nbformat": 4,
 "nbformat_minor": 5
}
