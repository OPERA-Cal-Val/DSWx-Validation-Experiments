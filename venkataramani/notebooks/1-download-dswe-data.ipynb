{
 "cells": [
  {
   "cell_type": "code",
   "execution_count": 1,
   "metadata": {},
   "outputs": [],
   "source": [
    "from pystac_client import Client\n",
    "import pystac\n",
    "import geopandas as gpd\n",
    "import json\n",
    "import netrc\n",
    "import requests\n",
    "from pathlib import Path\n",
    "from bs4 import BeautifulSoup"
   ]
  },
  {
   "cell_type": "code",
   "execution_count": 2,
   "metadata": {},
   "outputs": [],
   "source": [
    "usgs_stac_url = 'https://landsatlook.usgs.gov/stac-server'\n",
    "catalog = Client.open(usgs_stac_url)"
   ]
  },
  {
   "cell_type": "code",
   "execution_count": 3,
   "metadata": {},
   "outputs": [],
   "source": [
    "df = gpd.read_file('../data/shapefiles/lake_mead/aoi.shp')\n",
    "shape_geojson = json.loads(df.to_json())['features'][0]['geometry']"
   ]
  },
  {
   "cell_type": "code",
   "execution_count": 4,
   "metadata": {},
   "outputs": [
    {
     "data": {
      "text/plain": [
       "{'type': 'Polygon',\n",
       " 'coordinates': [[[-114.87222049842939, 36.16273394123082],\n",
       "   [-114.50459507920661, 36.22948555290927],\n",
       "   [-114.50643320630273, 36.53876281932189],\n",
       "   [-114.02668203421706, 36.54023965625615],\n",
       "   [-114.02852016131315, 35.975526918105764],\n",
       "   [-114.86670611714104, 36.00973286261627],\n",
       "   [-114.87222049842939, 36.16273394123082]]]}"
      ]
     },
     "execution_count": 4,
     "metadata": {},
     "output_type": "execute_result"
    }
   ],
   "source": [
    "shape_geojson"
   ]
  },
  {
   "cell_type": "code",
   "execution_count": 5,
   "metadata": {},
   "outputs": [
    {
     "data": {
      "text/plain": [
       "10"
      ]
     },
     "execution_count": 5,
     "metadata": {},
     "output_type": "execute_result"
    }
   ],
   "source": [
    "opts = {\n",
    "    'intersects' : shape_geojson,\n",
    "    'collections':'landsat-c2l3-dswe',\n",
    "    'datetime' : \"2015-12-01/2020-12-31\",\n",
    "    'max_items' : 10\n",
    "}\n",
    "\n",
    "search = catalog.search(**opts)\n",
    "items = search.get_all_items()\n",
    "len(items)"
   ]
  },
  {
   "cell_type": "code",
   "execution_count": 9,
   "metadata": {},
   "outputs": [
    {
     "name": "stdout",
     "output_type": "stream",
     "text": [
      "dict_keys(['index', 'diag', 'intr', 'intsm', 'inwam', 'mask', 'shade', 'xml', 'json'])\n"
     ]
    }
   ],
   "source": [
    "print(items[0].assets.keys())"
   ]
  },
  {
   "cell_type": "markdown",
   "metadata": {},
   "source": [
    "Straight up using code from [here](https://gist.github.com/scottyhq/ae2a53ecc955c5957c27c35d3bd9bce2) to download data from USGS"
   ]
  },
  {
   "cell_type": "code",
   "execution_count": 6,
   "metadata": {},
   "outputs": [],
   "source": [
    "def download_asset(item:pystac.item.Item, asset_type:str='diag', download_path:str='../data/downloads'):\n",
    "    download_path = Path(download_path)\n",
    "    download_path.mkdir(exist_ok = True)\n",
    "\n",
    "    asset_url = item.assets[asset_type.lower()].href\n",
    "    filename = asset_url.split('/')[-1]\n",
    "    \n",
    "    creds = netrc.netrc()\n",
    "    user,account,password = creds.authenticators('ers.cr.usgs.gov')\n",
    "\n",
    "    url = 'https://ers.cr.usgs.gov/login'\n",
    "    with requests.Session() as s:\n",
    "        \n",
    "        r = s.get(url)\n",
    "        soup = BeautifulSoup(r.content, 'html.parser') \n",
    "        sval = soup.find('input', attrs={'name':'csrf'})['value']\n",
    "\n",
    "        data = {\"username\": user, \n",
    "            \"password\": password,\n",
    "            \"csrf\": sval}\n",
    "\n",
    "        print('Authenticating with netrc...')\n",
    "        bf = s.post(url, data = data)\n",
    "        print(bf.status_code)\n",
    "\n",
    "    print(f'Downloading {filename}...')\n",
    "    respb = s.get(asset_url,\n",
    "                allow_redirects=True,\n",
    "                headers = {'content-type': 'image/tiff'})\n",
    "\n",
    "    with open(Path(download_path) / filename, 'wb') as src:\n",
    "        src.write(respb.content)\n",
    "\n",
    "    print(f\"File downloaded to {Path(download_path) / filename}\")\n",
    "    "
   ]
  },
  {
   "cell_type": "code",
   "execution_count": 7,
   "metadata": {},
   "outputs": [
    {
     "name": "stdout",
     "output_type": "stream",
     "text": [
      "Authenticating with netrc...\n",
      "200\n",
      "Downloading LE07_CU_006011_20201213_20210504_02_DIAG.TIF...\n"
     ]
    }
   ],
   "source": [
    "download_asset(items[5])"
   ]
  },
  {
   "cell_type": "code",
   "execution_count": 10,
   "metadata": {},
   "outputs": [
    {
     "name": "stdout",
     "output_type": "stream",
     "text": [
      "Authenticating with netrc...\n",
      "200\n",
      "Downloading LC08_CU_006011_20201212_20210504_02_MASK.TIF...\n"
     ]
    }
   ],
   "source": [
    "download_asset(items[7], asset_type='mask')"
   ]
  }
 ],
 "metadata": {
  "kernelspec": {
   "display_name": "Python 3.10.5 ('opera-ml')",
   "language": "python",
   "name": "python3"
  },
  "language_info": {
   "codemirror_mode": {
    "name": "ipython",
    "version": 3
   },
   "file_extension": ".py",
   "mimetype": "text/x-python",
   "name": "python",
   "nbconvert_exporter": "python",
   "pygments_lexer": "ipython3",
   "version": "3.10.5"
  },
  "orig_nbformat": 4,
  "vscode": {
   "interpreter": {
    "hash": "5d898c5c096b43b5538900962a694acb5eb82a812104466f4a412539ec83c99f"
   }
  }
 },
 "nbformat": 4,
 "nbformat_minor": 2
}
