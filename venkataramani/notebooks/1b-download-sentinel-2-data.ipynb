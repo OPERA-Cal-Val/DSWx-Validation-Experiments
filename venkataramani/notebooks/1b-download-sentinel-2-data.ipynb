{
 "cells": [
  {
   "cell_type": "markdown",
   "metadata": {},
   "source": [
    "Demonstrate Sentinel-2 data access using PySTAC. This notebook derives heavily from the [planetary computer example here](https://planetarycomputer.microsoft.com/dataset/sentinel-2-l2a#Example-Notebook)"
   ]
  },
  {
   "cell_type": "code",
   "execution_count": 1,
   "metadata": {},
   "outputs": [],
   "source": [
    "# cloud/STAC related imports\n",
    "from pystac_client import Client\n",
    "from pystac.extensions.eo import EOExtension as eo\n",
    "import planetary_computer as pc\n",
    "\n",
    "# GIS imports\n",
    "import rasterio\n",
    "from rasterio import windows, features, warp\n",
    "import geopandas as gpd\n",
    "import json\n",
    "import rasterio.mask\n",
    "\n",
    "# misc imports\n",
    "from pathlib import Path\n",
    "from typing import List"
   ]
  },
  {
   "cell_type": "code",
   "execution_count": 2,
   "metadata": {},
   "outputs": [],
   "source": [
    "# AoI to query\n",
    "shapefile = Path('../data/shapefiles/amazon_river/aoi.shp')\n",
    "df = gpd.read_file(shapefile)\n",
    "shape_geojson = json.loads(df.to_json())['features'][0]['geometry']\n",
    "\n",
    "# ToI to query\n",
    "time_of_interest = \"2019-06-01/2019-08-01\""
   ]
  },
  {
   "cell_type": "code",
   "execution_count": 3,
   "metadata": {},
   "outputs": [
    {
     "name": "stdout",
     "output_type": "stream",
     "text": [
      "Returned 8 Items\n"
     ]
    }
   ],
   "source": [
    "# Query the planetary computer and print # of results returned \n",
    "catalog = Client.open(\"https://planetarycomputer.microsoft.com/api/stac/v1\")\n",
    "\n",
    "search = catalog.search(\n",
    "    collections=[\"sentinel-2-l2a\"],\n",
    "    intersects=shape_geojson,\n",
    "    datetime=time_of_interest,\n",
    "    query={\"eo:cloud_cover\": {\"lt\": 10}}, # percentage acceptable cloud cover\n",
    ")\n",
    "\n",
    "# Check how many items were returned\n",
    "items = list(search.get_items())\n",
    "print(f\"Returned {len(items)} Items\")"
   ]
  },
  {
   "cell_type": "code",
   "execution_count": 4,
   "metadata": {},
   "outputs": [
    {
     "name": "stdout",
     "output_type": "stream",
     "text": [
      "Choosing S2A_MSIL2A_20190729T141051_R110_T21MXU_20201106T050220 from 2019-07-29 with 0.32129% cloud cover\n"
     ]
    }
   ],
   "source": [
    "# Sort by cloud coverage and pick image with least cloud cover\n",
    "least_cloudy_item = sorted(items, key=lambda item: eo.ext(item).cloud_cover)[0]\n",
    "\n",
    "print(\n",
    "    f\"Choosing {least_cloudy_item.id} from {least_cloudy_item.datetime.date()}\"\n",
    "    f\" with {eo.ext(least_cloudy_item).cloud_cover}% cloud cover\"\n",
    ")"
   ]
  },
  {
   "cell_type": "code",
   "execution_count": 5,
   "metadata": {},
   "outputs": [],
   "source": [
    "# Obtain href which will serve up the image\n",
    "asset_href = least_cloudy_item.assets[\"visual\"].href\n",
    "signed_href = pc.sign(asset_href)"
   ]
  },
  {
   "cell_type": "code",
   "execution_count": 6,
   "metadata": {},
   "outputs": [],
   "source": [
    "# Windowed read of the asset\n",
    "with rasterio.open(signed_href) as ds:\n",
    "    aoi_bounds = features.bounds(shape_geojson) # note that aoi_bounds can exceed area defined by shape\n",
    "    warped_aoi_bounds = warp.transform_bounds(\"epsg:4326\", ds.crs, *aoi_bounds)\n",
    "    aoi_window = windows.from_bounds(transform=ds.transform, *warped_aoi_bounds)\n",
    "    band_data = ds.read(window=aoi_window)\n",
    "    profile = ds.profile\n",
    "    img_bounds = ds.bounds"
   ]
  },
  {
   "cell_type": "code",
   "execution_count": 7,
   "metadata": {},
   "outputs": [],
   "source": [
    "def return_overlap_bounds(*bounds_list):\n",
    "    return [max(_b) if i<2 else min(_b) for i, _b in enumerate(zip(*bounds_list))]\n",
    "    \n",
    "overlap_bounds = return_overlap_bounds(img_bounds, warped_aoi_bounds)"
   ]
  },
  {
   "cell_type": "code",
   "execution_count": 8,
   "metadata": {},
   "outputs": [],
   "source": [
    "# Obtain Affine transform corresponding to window using overlap bounds and image size\n",
    "overlap_transform = rasterio.transform.from_bounds(*overlap_bounds, band_data.shape[2], band_data.shape[1])"
   ]
  },
  {
   "cell_type": "code",
   "execution_count": 9,
   "metadata": {},
   "outputs": [],
   "source": [
    "# Modify \n",
    "band_profile = profile.copy()\n",
    "band_profile['transform'] = overlap_transform\n",
    "band_profile['height'] = band_data.shape[1]\n",
    "band_profile['width'] = band_data.shape[2]"
   ]
  },
  {
   "cell_type": "code",
   "execution_count": 10,
   "metadata": {},
   "outputs": [],
   "source": [
    "with rasterio.open(f\"../data/{asset_href.split('/')[-1]}\", 'w', **band_profile) as ds:\n",
    "    ds.write(band_data)"
   ]
  }
 ],
 "metadata": {
  "kernelspec": {
   "display_name": "Python 3.10.1 ('playground')",
   "language": "python",
   "name": "python3"
  },
  "language_info": {
   "codemirror_mode": {
    "name": "ipython",
    "version": 3
   },
   "file_extension": ".py",
   "mimetype": "text/x-python",
   "name": "python",
   "nbconvert_exporter": "python",
   "pygments_lexer": "ipython3",
   "version": "3.10.1"
  },
  "orig_nbformat": 4,
  "vscode": {
   "interpreter": {
    "hash": "37a3d299aef8aea26e51c3187081508fadf567cc05aaa145abe616e39d41c0d5"
   }
  }
 },
 "nbformat": 4,
 "nbformat_minor": 2
}
