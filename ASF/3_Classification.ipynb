{
 "cells": [
  {
   "cell_type": "code",
   "execution_count": null,
   "id": "3e6c1d28-7eea-408d-a871-32aa2c8797ce",
   "metadata": {},
   "outputs": [],
   "source": [
    "import geopandas as gpd\n",
    "from ipyfilechooser import FileChooser\n",
    "import numpy as np\n",
    "from pathlib import Path\n",
    "import rioxarray as rxr\n",
    "import rioxarray.merge\n",
    "from shapely.geometry import mapping\n",
    "from tqdm.auto import tqdm\n",
    "\n",
    "from skimage.color import label2rgb\n",
    "from skimage.segmentation import felzenszwalb\n",
    "\n",
    "import matplotlib.pyplot as plt"
   ]
  },
  {
   "cell_type": "markdown",
   "id": "9195b8c3-ac6f-4819-bc86-fc21b7049719",
   "metadata": {},
   "source": [
    "### Select the chip directory"
   ]
  },
  {
   "cell_type": "code",
   "execution_count": null,
   "id": "80c248c0-b61c-4f64-923c-e838505cf9b8",
   "metadata": {},
   "outputs": [],
   "source": [
    "print(\"Select the chip directory containing the preprocessed Planet data, Chip shapefile, and clipped Pekel occurance data\")\n",
    "fc = FileChooser(Path.cwd())\n",
    "display(fc)"
   ]
  },
  {
   "cell_type": "code",
   "execution_count": null,
   "id": "a9fe764f-0413-49b8-8268-fced56d9683f",
   "metadata": {},
   "outputs": [],
   "source": [
    "chip_dir = Path(fc.selected_path)\n",
    "\n",
    "shape_path = list(chip_dir.rglob('*.shp'))\n",
    "if len(shape_path) < 1:\n",
    "    raise FileNotFoundError\n",
    "elif len(shape_path) > 1:\n",
    "    raise Exception(\"Multiple shapefiles found\")\n",
    "else:\n",
    "    shape_path = shape_path[0]\n",
    "\n",
    "planet_path = list(chip_dir.rglob('*_AnalyticMS_*.tif'))\n",
    "if len(planet_path) < 1:\n",
    "    raise FileNotFoundError\n",
    "elif len(planet_path) > 1:\n",
    "    raise Exception(\"Multiple Planet data files found\")\n",
    "else:\n",
    "    planet_path = planet_path[0]\n",
    "    \n",
    "pekel_path = list(chip_dir.rglob('occurrence_*.tif'))\n",
    "if len(pekel_path) < 1:\n",
    "    raise FileNotFoundError\n",
    "elif len(pekel_path) > 1:\n",
    "    raise Exception(\"Multiple pekel occurrence files found\")\n",
    "else:\n",
    "    pekel_path = pekel_path[0]\n",
    "    \n",
    "print(shape_path)\n",
    "print(planet_path)\n",
    "print(pekel_path)"
   ]
  },
  {
   "cell_type": "markdown",
   "id": "63fe9e8b-ceaf-4164-8b0f-7dc76b041f3e",
   "metadata": {},
   "source": [
    "### Load the chip geometry from the chip shapefile"
   ]
  },
  {
   "cell_type": "code",
   "execution_count": null,
   "id": "c2fbcdda-d143-4f28-8f95-82ce80854039",
   "metadata": {},
   "outputs": [],
   "source": [
    "shape_path = Path(fc.selected)\n",
    "shape_path"
   ]
  },
  {
   "cell_type": "code",
   "execution_count": null,
   "id": "cf95e798-8698-4f1e-81d9-efbb93341654",
   "metadata": {},
   "outputs": [],
   "source": [
    "geometry_gdf = gpd.read_file(shape_path)\n",
    "geometry = geometry_gdf['geometry'][0]\n",
    "geometry"
   ]
  },
  {
   "cell_type": "markdown",
   "id": "b81a111d-907a-4b3a-8e28-303638d5bf39",
   "metadata": {},
   "source": [
    "### Collect the chip ID"
   ]
  },
  {
   "cell_type": "code",
   "execution_count": null,
   "id": "9f731864-d08d-49f0-856c-0c36ed0d988e",
   "metadata": {},
   "outputs": [],
   "source": [
    "chip_id = chip_dir.name\n",
    "chip_id"
   ]
  },
  {
   "cell_type": "markdown",
   "id": "ff78a595-c16a-4ce9-8320-9943d4b68715",
   "metadata": {},
   "source": [
    "### Load Planet data as xarray.DataArray"
   ]
  },
  {
   "cell_type": "code",
   "execution_count": null,
   "id": "a8187414-c53e-4667-aae3-2e4fccfcba5c",
   "metadata": {},
   "outputs": [],
   "source": [
    "chip_image = rxr.open_rasterio(planet_path,\n",
    "                               masked=True).squeeze()\n",
    "chip_image"
   ]
  },
  {
   "cell_type": "markdown",
   "id": "500068a9-b467-4dfc-9b3f-d9a053bcf541",
   "metadata": {},
   "source": [
    "**Write a segmentation function using skimage.segmentation.felzenwalb**"
   ]
  },
  {
   "cell_type": "code",
   "execution_count": null,
   "id": "ba080699-3838-4ebc-8e35-533f02ea1b97",
   "metadata": {},
   "outputs": [],
   "source": [
    "def get_segmentation(image, min_size):\n",
    "    image_seg = image.copy()\n",
    "    \n",
    "    # So that np.nans don't give us problems\n",
    "    image_seg = image_seg.fillna(-10_000)\n",
    "\n",
    "    segments_fz = felzenszwalb(image_seg,\n",
    "                               # may want to play with this\n",
    "                               scale=5, \n",
    "                               # normally gaussian filter is applied - can experiment\n",
    "                               sigma=0.,\n",
    "                               # minimum size of segments\n",
    "                               min_size=min_size\n",
    "                              )\n",
    "    return segments_fz"
   ]
  },
  {
   "cell_type": "markdown",
   "id": "b339e67a-e890-4433-be5d-ecca8584fcce",
   "metadata": {},
   "source": [
    "**Reorder the bands for skimage and generate segmentations with 3 different minimum segment sizes (10, 25, and 50 pixels)**"
   ]
  },
  {
   "cell_type": "code",
   "execution_count": null,
   "id": "bfdffe80-6eab-4261-a890-8796660a6e2a",
   "metadata": {},
   "outputs": [],
   "source": [
    "chip_image_reshape = chip_image.transpose('y', 'x', 'band')\n",
    "print(chip_image_reshape.shape)\n",
    "\n",
    "get_segmentation_partial = lambda min_size: get_segmentation(chip_image_reshape, min_size)\n",
    "segmentations = list(map(get_segmentation_partial, tqdm([10, 25, 50])))"
   ]
  },
  {
   "cell_type": "markdown",
   "id": "ed75f1af-7e73-47de-9411-2540e3d8cf56",
   "metadata": {},
   "source": [
    "**"
   ]
  },
  {
   "cell_type": "code",
   "execution_count": null,
   "id": "7c4352a7-d36d-4c01-bc42-1c0068b467f2",
   "metadata": {},
   "outputs": [],
   "source": [
    "seg = 1\n",
    "mask = chip_image == np.nan\n",
    "X = segmentations[seg].copy()\n",
    "X[mask[0]] = 0\n",
    "\n",
    "superpixel_labels_viz = label2rgb(X, bg_label=0)\n",
    "plt.imshow(superpixel_labels_viz)"
   ]
  },
  {
   "cell_type": "code",
   "execution_count": null,
   "id": "f18ad5ed-600e-48ea-8a79-a9781da70cdb",
   "metadata": {},
   "outputs": [],
   "source": [
    "segments_fz = segmentations[seg]\n",
    "segments_fz"
   ]
  },
  {
   "cell_type": "code",
   "execution_count": null,
   "id": "68f8c0fc-a6c5-4409-9254-d7d24bce4a26",
   "metadata": {},
   "outputs": [],
   "source": [
    "import rasterio as rio\n",
    "\n",
    "with rio.open(planet_path) as tif:\n",
    "    transform = tif.transform\n",
    "    crs = tif.crs\n",
    "    profile = tif.profile\n",
    "    bounds = tif.bounds"
   ]
  },
  {
   "cell_type": "code",
   "execution_count": null,
   "id": "1dbc85a6-2910-4efd-b85d-0fe86720899c",
   "metadata": {},
   "outputs": [],
   "source": [
    "from rscube.rio_tools import get_geopandas_features_from_array\n",
    "\n",
    "features = get_geopandas_features_from_array(segments_fz.astype(np.int32), \n",
    "                                             transform, \n",
    "                                             label_name='label')"
   ]
  },
  {
   "cell_type": "code",
   "execution_count": null,
   "id": "8f9e6cb8-c970-48b4-874a-594e103ff857",
   "metadata": {},
   "outputs": [],
   "source": [
    "df_segments = gpd.GeoDataFrame.from_features(features)\n",
    "df_segments.head()"
   ]
  },
  {
   "cell_type": "code",
   "execution_count": null,
   "id": "1293d3be-8e3c-48fc-9a4c-604993e29297",
   "metadata": {},
   "outputs": [],
   "source": [
    "df_segments.crs = crs\n",
    "df_segments.to_file(chip_dir/'segments.geojson', driver='GeoJSON')"
   ]
  },
  {
   "cell_type": "markdown",
   "id": "0a8aca41-2142-4b06-9b47-dec2d8b4e6ed",
   "metadata": {},
   "source": [
    "### Generate Features"
   ]
  },
  {
   "cell_type": "code",
   "execution_count": null,
   "id": "1bea5af2-cba1-4689-9076-c0411e9fcb23",
   "metadata": {},
   "outputs": [],
   "source": [
    "pixel_features = chip_image_reshape.stack(z=('y', 'x')).transpose('z', 'band')\n",
    "pixel_features.shape"
   ]
  },
  {
   "cell_type": "code",
   "execution_count": null,
   "id": "f0f2a5a6-bf25-471b-8db2-08fb6832e8c2",
   "metadata": {},
   "outputs": [],
   "source": [
    "from rscube.nd_tools import get_superpixel_means_as_features\n",
    "\n",
    "multi_superpixel_features_mean = [get_superpixel_means_as_features(seg, chip_image_reshape) for seg in tqdm(segmentations)]"
   ]
  },
  {
   "cell_type": "code",
   "execution_count": null,
   "id": "1aeacc56-55a5-4fac-954b-b373e80ff11f",
   "metadata": {},
   "outputs": [],
   "source": [
    "from rscube.nd_tools import get_superpixel_stds_as_features\n",
    "\n",
    "multi_superpixel_features_std = [get_superpixel_stds_as_features(seg, chip_image_reshape) for seg in tqdm(segmentations)]"
   ]
  },
  {
   "cell_type": "code",
   "execution_count": null,
   "id": "751b2c39-51fd-4e43-a4ca-e4c7ffde05b0",
   "metadata": {},
   "outputs": [],
   "source": [
    "from rscube.nd_tools import (get_array_from_features, \n",
    "                             get_features_from_array, \n",
    "                             get_superpixel_area_as_features, \n",
    "                             get_superpixel_means_as_features,\n",
    "                             get_superpixel_stds_as_features, \n",
    "                             scale_img)\n",
    "\n",
    "multi_superpixel_means = [get_array_from_features(seg, feature) \n",
    "                          for (seg, feature) in zip(tqdm(segmentations),\n",
    "                                                    multi_superpixel_features_mean)]\n",
    "multi_superpixel_stds = [get_array_from_features(seg, feature) \n",
    "                          for (seg, feature) in zip(tqdm(segmentations),\n",
    "                                                    multi_superpixel_features_std)]"
   ]
  },
  {
   "cell_type": "code",
   "execution_count": null,
   "id": "130c2b26-576d-4003-a10d-b3fccfec3afd",
   "metadata": {},
   "outputs": [],
   "source": [
    "scale_ind = 0\n",
    "img_super = multi_superpixel_means[scale_ind]\n",
    "\n",
    "with rio.open(chip_dir/f'superpixel_means_{scale_ind}_{chip_id}.tif', 'w', **profile) as ds:\n",
    "    ds.write(img_super.transpose([2, 0, 1]))"
   ]
  },
  {
   "cell_type": "code",
   "execution_count": null,
   "id": "930b79f9-bb10-4cb0-b93d-6b9c3a5f1c31",
   "metadata": {},
   "outputs": [],
   "source": [
    "scale_ind = 0\n",
    "img_super = multi_superpixel_stds[scale_ind]\n",
    "\n",
    "with rio.open(chip_dir/f'superpixel_stds_{scale_ind}_{chip_id}.tif', 'w', **profile) as ds:\n",
    "    ds.write(img_super.transpose([2, 0, 1]))"
   ]
  },
  {
   "cell_type": "code",
   "execution_count": null,
   "id": "c56d88f2-6b32-4719-9d4a-f1692f773f45",
   "metadata": {},
   "outputs": [],
   "source": [
    "superpixel_means_pixel_f = [superpixel_means.reshape((-1, chip_image_reshape.shape[-1])) \n",
    "                            for superpixel_means in multi_superpixel_means]\n",
    "superpixel_stds_pixel_f = [superpixel_stds.reshape((-1, chip_image_reshape.shape[-1])) \n",
    "                            for superpixel_stds in multi_superpixel_stds]"
   ]
  },
  {
   "cell_type": "code",
   "execution_count": null,
   "id": "4e80eb14-d07c-4b95-8e3f-607384fffa8a",
   "metadata": {},
   "outputs": [],
   "source": [
    "all_features = np.hstack(([pixel_features]  \n",
    "                          + superpixel_means_pixel_f \n",
    "                          + superpixel_stds_pixel_f\n",
    "                         ))\n",
    "\n",
    "all_features = np.nan_to_num(all_features)\n",
    "\n",
    "all_features.shape"
   ]
  },
  {
   "cell_type": "markdown",
   "id": "42468451-c780-49be-b2fc-36f86abcf140",
   "metadata": {},
   "source": [
    "### Generate Training Data"
   ]
  },
  {
   "cell_type": "code",
   "execution_count": null,
   "id": "011caf6b-6759-4758-bf46-17049a43f979",
   "metadata": {},
   "outputs": [],
   "source": [
    "pekel_image = rxr.open_rasterio(pekel_path,\n",
    "                                 masked=True).squeeze()\n",
    "\n",
    "plt.imshow(pekel_image)\n",
    "pekel_image"
   ]
  },
  {
   "cell_type": "code",
   "execution_count": null,
   "id": "c800f27b-206b-4b4c-8f8a-2088c9d0eefa",
   "metadata": {},
   "outputs": [],
   "source": [
    "from scipy import ndimage\n",
    "\n",
    "OCC_MIN = 8\n",
    "DIST_TO_EXTENT = 15\n",
    "\n",
    "water_ind = (pekel_image >= OCC_MIN)\n",
    "water_extent = (pekel_image > 0)\n",
    "\n",
    "water_extent_arr = (~water_extent).astype(int)\n",
    "water_dist = ndimage.distance_transform_edt(water_extent_arr)\n",
    "\n",
    "land_ind = water_dist > DIST_TO_EXTENT"
   ]
  },
  {
   "cell_type": "code",
   "execution_count": null,
   "id": "bb949246-3145-4fae-b875-4502243d195a",
   "metadata": {},
   "outputs": [],
   "source": [
    "fig, ax = plt.subplots(1, 3, figsize=(15,5))\n",
    "\n",
    "ax[0].imshow(water_ind)\n",
    "ax[0].set_title('Water Mask')\n",
    "\n",
    "ax[1].imshow(water_dist)\n",
    "ax[1].set_title('Distance to non-zero occurence')\n",
    "\n",
    "ax[2].imshow(land_ind)\n",
    "ax[2].set_title('Land Mask')"
   ]
  },
  {
   "cell_type": "code",
   "execution_count": null,
   "id": "1aee01e3-1cbc-4c36-a29b-1153f37c5f06",
   "metadata": {},
   "outputs": [],
   "source": [
    "training_data_4326 = np.zeros(pekel_image.shape)\n",
    "training_data_4326[land_ind] = 2\n",
    "training_data_4326[water_ind] = 1\n",
    "plt.title('0 = no label/nodata, 1=water, 2 = land')\n",
    "plt.imshow(training_data_4326)"
   ]
  },
  {
   "cell_type": "code",
   "execution_count": null,
   "id": "31720b47-454b-4228-8764-651684d2dd79",
   "metadata": {},
   "outputs": [],
   "source": [
    "with rio.open(pekel_path) as tif:\n",
    "    pekel_transform = tif.transform\n",
    "    pekel_crs = tif.crs\n",
    "    pekel_profile = tif.profile\n",
    "    pekel_bounds = tif.bounds\n",
    "    \n",
    "print(pekel_crs)\n"
   ]
  },
  {
   "cell_type": "code",
   "execution_count": null,
   "id": "93cab776-84e6-427b-910e-7bc5b0ad921c",
   "metadata": {},
   "outputs": [],
   "source": [
    "from dem_stitcher.rio_tools import reproject_arr_to_match_profile\n",
    "\n",
    "p_temp = pekel_profile.copy()\n",
    "p_temp['dtype'] = 'float32'\n",
    "p_temp['nodata'] = None\n",
    "p_temp['nodata'] = np.nan\n",
    "\n",
    "training_data_r, p_r = reproject_arr_to_match_profile(training_data_4326, p_temp, profile)\n",
    "# rounding then casting makes sure the class assigned is closest after reprojection\n",
    "training_data_r = training_data_r[0, ...]\n",
    "training_data_r = np.nan_to_num(training_data_r)\n",
    "\n",
    "plt.imshow(training_data_r)"
   ]
  },
  {
   "cell_type": "code",
   "execution_count": null,
   "id": "6e204ad7-be3d-4995-9e47-2d9ece28f8b3",
   "metadata": {},
   "outputs": [],
   "source": [
    "\n",
    "with rio.open('test_train.tif', 'w', **p_r) as ds:\n",
    "    ds.write(training_data_r, 1)"
   ]
  },
  {
   "cell_type": "code",
   "execution_count": null,
   "id": "1ecc8bf3-0612-4c34-8175-ab665e03c587",
   "metadata": {},
   "outputs": [],
   "source": [
    "labels = training_data_r.copy()"
   ]
  },
  {
   "cell_type": "code",
   "execution_count": null,
   "id": "0adea96e-e93e-418a-be5c-37d004913dbc",
   "metadata": {},
   "outputs": [],
   "source": [
    "labels_f = labels.reshape((-1, 1)).ravel()\n",
    "\n",
    "f_mask = ~(labels_f == 0).ravel()\n",
    "f_mask.shape"
   ]
  },
  {
   "cell_type": "code",
   "execution_count": null,
   "id": "9eeb8193-12b8-429c-81a5-ab370da0f1f7",
   "metadata": {},
   "outputs": [],
   "source": [
    "X_labeled_all = all_features[f_mask]\n",
    "y_labeled_all = labels_f[f_mask]"
   ]
  },
  {
   "cell_type": "code",
   "execution_count": null,
   "id": "a9331750-7758-41b6-921f-228e68cda99d",
   "metadata": {},
   "outputs": [],
   "source": [
    "np.random.seed(0)\n",
    "water_ind_f = np.where(y_labeled_all == 1)[0]\n",
    "land_ind_f = np.where(y_labeled_all == 2)[0]\n",
    "n = water_ind_f.shape[0]\n",
    "land_ind_f_sample = np.random.choice(land_ind_f, size=n)\n",
    "\n",
    "indices_for_labeling = np.hstack([water_ind_f, land_ind_f_sample])\n",
    "indices_for_labeling.shape\n",
    "\n",
    "y_labeled = y_labeled_all[indices_for_labeling].astype(int)\n",
    "X_labeled = X_labeled_all[indices_for_labeling, ...]"
   ]
  },
  {
   "cell_type": "code",
   "execution_count": null,
   "id": "57118ab7-fdcd-44b4-b88b-4abe10b63c11",
   "metadata": {},
   "outputs": [],
   "source": [
    "from sklearn.model_selection import train_test_split\n",
    "\n",
    "X_train, X_test, y_train, y_test = train_test_split(X_labeled, \n",
    "                                                    y_labeled, \n",
    "                                                    test_size=0.2,\n",
    "                                                    train_size=0.8,\n",
    "                                                    random_state=0,\n",
    "                                                    stratify=y_labeled\n",
    "                                                   )"
   ]
  },
  {
   "cell_type": "code",
   "execution_count": null,
   "id": "001a3e4f-1580-4538-b70a-92f711448b94",
   "metadata": {},
   "outputs": [],
   "source": [
    "from sklearn.ensemble import RandomForestClassifier\n",
    "\n",
    "rf = RandomForestClassifier(n_estimators=500,\n",
    "                            oob_score=True,\n",
    "                            random_state=0,\n",
    "                            n_jobs=8)"
   ]
  },
  {
   "cell_type": "code",
   "execution_count": null,
   "id": "be799504-f4d3-4714-9d54-1e21b6bd4e93",
   "metadata": {},
   "outputs": [],
   "source": [
    "%%time\n",
    "\n",
    "rf.fit(X_train, \n",
    "       y_train)"
   ]
  },
  {
   "cell_type": "code",
   "execution_count": null,
   "id": "a26236a7-b0f2-440f-adf5-e1bcec35eb01",
   "metadata": {},
   "outputs": [],
   "source": [
    "%%time\n",
    "\n",
    "y_pred = rf.predict(X_test)"
   ]
  },
  {
   "cell_type": "code",
   "execution_count": null,
   "id": "a09a84eb-a850-4422-83a4-6b666e2e1348",
   "metadata": {},
   "outputs": [],
   "source": [
    "class_dict = {1: 'water', \n",
    "              2: 'not_water'}"
   ]
  },
  {
   "cell_type": "code",
   "execution_count": null,
   "id": "72c40187-6ba4-4017-9ebc-5b4201d18103",
   "metadata": {},
   "outputs": [],
   "source": [
    "import pandas as pd\n",
    "\n",
    "y_pred_str = pd.Series([class_dict[class_id] for class_id in y_pred], name='Predicted')\n",
    "y_true_str = pd.Series([class_dict[class_id] for class_id in y_test], name='True')"
   ]
  },
  {
   "cell_type": "code",
   "execution_count": null,
   "id": "f1423ba5-2a6d-4b41-9244-def971e7a14e",
   "metadata": {},
   "outputs": [],
   "source": [
    "df = pd.crosstab(y_true_str, y_pred_str)\n",
    "df"
   ]
  },
  {
   "cell_type": "code",
   "execution_count": null,
   "id": "3fc1f759-5b4b-45e9-a80b-3c3281d3553d",
   "metadata": {},
   "outputs": [],
   "source": [
    "profile"
   ]
  },
  {
   "cell_type": "code",
   "execution_count": null,
   "id": "c20fa60e-43aa-4f5c-8782-841552fcf62c",
   "metadata": {},
   "outputs": [],
   "source": [
    "mask = chip_image == profile['nodata']\n",
    "all_mask_f = mask[1].stack(z=['y', 'x'])"
   ]
  },
  {
   "cell_type": "code",
   "execution_count": null,
   "id": "b9bf49ef-3664-40c0-a917-2d7f50c3c1b5",
   "metadata": {},
   "outputs": [],
   "source": [
    "X_all = all_features[~all_mask_f, \n",
    "                     ...]"
   ]
  },
  {
   "cell_type": "code",
   "execution_count": null,
   "id": "22005163-6070-4ff1-8dea-329270a8ec5c",
   "metadata": {},
   "outputs": [],
   "source": [
    "%%time\n",
    "\n",
    "y_all = rf.predict(X_all)"
   ]
  },
  {
   "cell_type": "code",
   "execution_count": null,
   "id": "73f5766b-edfa-42d8-b8c5-154747d01558",
   "metadata": {},
   "outputs": [],
   "source": [
    "y_arr = np.zeros(mask[1].shape)\n",
    "\n",
    "y_arr[~mask[0]] = y_all\n",
    "y_arr[mask[0]] = 0"
   ]
  },
  {
   "cell_type": "code",
   "execution_count": null,
   "id": "5bebe5a0-2ac9-4ade-9ba7-e3c86f3c3cbb",
   "metadata": {},
   "outputs": [],
   "source": [
    "p = profile.copy()\n",
    "p['count'] = 1 \n",
    "p['dtype'] = np.uint8\n",
    "\n",
    "class_path = chip_dir/f'class_out_{chip_id}.tif'\n",
    "with rio.open(class_path, 'w', **p) as ds:\n",
    "    ds.write(y_arr.astype(np.uint8), 1)"
   ]
  },
  {
   "cell_type": "code",
   "execution_count": null,
   "id": "02e3fd56-6dda-4a08-b0d2-1e0358c45ca1",
   "metadata": {},
   "outputs": [],
   "source": [
    "plt.imshow(y_arr, interpolation='none')"
   ]
  },
  {
   "cell_type": "code",
   "execution_count": null,
   "id": "6aea0d5a-dce9-45c8-89da-39e3b5f57b1a",
   "metadata": {},
   "outputs": [],
   "source": [
    "class_img = rxr.open_rasterio(class_path,\n",
    "                                 masked=True).squeeze()\n",
    "class_img_clipped = class_img.rio.clip(geometry_gdf.geometry.apply(mapping), 'EPSG:4326')\n",
    "plt.imshow(class_img_clipped)"
   ]
  },
  {
   "cell_type": "code",
   "execution_count": null,
   "id": "29c3451b-dfa2-4081-9b27-eeb7d5ab9a11",
   "metadata": {},
   "outputs": [],
   "source": [
    "class_img_clipped = class_img_clipped.fillna(255)\n",
    "class_img_clipped = class_img_clipped.where(np.logical_or(class_img_clipped == 255, class_img_clipped == 1), 0)\n",
    "class_img_clipped = class_img_clipped.astype('uint8')\n",
    "class_img_clipped = class_img_clipped.assign_attrs({'_FillValue': 255})\n",
    "class_img_clipped.rio.to_raster(class_path)"
   ]
  },
  {
   "cell_type": "code",
   "execution_count": null,
   "id": "bacccb7e-4e8c-47ee-a1cb-1f26f9fb5ef1",
   "metadata": {},
   "outputs": [],
   "source": [
    "from osgeo import gdal\n",
    "\n",
    "ds = gdal.Open(str(class_path), 1)\n",
    "band = ds.GetRasterBand(1)\n",
    "\n",
    "# create color table\n",
    "colors = gdal.ColorTable()\n",
    "\n",
    "# set color for each value\n",
    "colors.SetColorEntry(0, (255, 255, 255))\n",
    "colors.SetColorEntry(1, (14, 148, 237))\n",
    "colors.SetColorEntry(255, (0, 0, 0))\n",
    "\n",
    "\n",
    "# set color table and color interpretation\n",
    "band.SetRasterColorTable(colors)\n",
    "band.SetRasterColorInterpretation(gdal.GCI_PaletteIndex)\n",
    "\n",
    "# close and save file\n",
    "del band, ds"
   ]
  },
  {
   "cell_type": "code",
   "execution_count": null,
   "id": "385b81c3-3c9c-4ebb-b969-a38e244fa772",
   "metadata": {},
   "outputs": [],
   "source": [
    "class_img_clipped"
   ]
  },
  {
   "cell_type": "code",
   "execution_count": null,
   "id": "c9d77133-cba0-4a25-9b0c-a3f14eb51534",
   "metadata": {},
   "outputs": [],
   "source": []
  }
 ],
 "metadata": {
  "kernelspec": {
   "display_name": "dswx_calval",
   "language": "python",
   "name": "conda-env-.local-dswx_calval-py"
  },
  "language_info": {
   "codemirror_mode": {
    "name": "ipython",
    "version": 3
   },
   "file_extension": ".py",
   "mimetype": "text/x-python",
   "name": "python",
   "nbconvert_exporter": "python",
   "pygments_lexer": "ipython3",
   "version": "3.10.6"
  }
 },
 "nbformat": 4,
 "nbformat_minor": 5
}
