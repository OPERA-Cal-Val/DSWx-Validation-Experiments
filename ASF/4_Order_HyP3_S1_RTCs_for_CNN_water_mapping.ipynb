{
 "cells": [
  {
   "cell_type": "code",
   "execution_count": null,
   "metadata": {
    "hidden": true
   },
   "outputs": [],
   "source": [
    "from pathlib import Path\n",
    "from datetime import datetime, timedelta\n",
    "import geopandas as gpd\n",
    "\n",
    "from ipyfilechooser import FileChooser\n",
    "\n",
    "import opensarlab_lib as asfn\n",
    "import asf_search as asf\n",
    "import hyp3_sdk as sdk"
   ]
  },
  {
   "cell_type": "markdown",
   "metadata": {},
   "source": [
    "### Select the chip shape file"
   ]
  },
  {
   "cell_type": "code",
   "execution_count": null,
   "metadata": {},
   "outputs": [],
   "source": [
    "fc = FileChooser(Path.cwd())\n",
    "display(fc)"
   ]
  },
  {
   "cell_type": "markdown",
   "metadata": {},
   "source": [
    "### Load the chip geometry from the chip shapefile"
   ]
  },
  {
   "cell_type": "code",
   "execution_count": null,
   "metadata": {},
   "outputs": [],
   "source": [
    "shape_path = Path(fc.selected)\n",
    "shape_path"
   ]
  },
  {
   "cell_type": "code",
   "execution_count": null,
   "metadata": {},
   "outputs": [],
   "source": [
    "geometry_gdf = gpd.read_file(shape_path)\n",
    "geometry = geometry_gdf['geometry'][0]\n",
    "geometry"
   ]
  },
  {
   "cell_type": "markdown",
   "metadata": {},
   "source": [
    "### Collect the chip directory and ID"
   ]
  },
  {
   "cell_type": "code",
   "execution_count": null,
   "metadata": {},
   "outputs": [],
   "source": [
    "chip_dir = shape_path.parent\n",
    "chip_id = chip_dir.name.split('_')[-1]\n",
    "chip_dir"
   ]
  },
  {
   "cell_type": "markdown",
   "metadata": {},
   "source": [
    "### Determine a date range containing the most recent 12-day Sentinel-1A repeat cycle"
   ]
  },
  {
   "cell_type": "code",
   "execution_count": null,
   "metadata": {},
   "outputs": [],
   "source": [
    "current_time = datetime.now()\n",
    "current_time_str = current_time.strftime('%Y-%m-%dT%H:%M:%SZ')\n",
    "\n",
    "twelve_days_ago = current_time  - timedelta(days=12)\n",
    "twelve_days_ago_str = twelve_days_ago.strftime('%Y-%m-%dT%H:%M:%SZ')"
   ]
  },
  {
   "cell_type": "markdown",
   "metadata": {},
   "source": [
    "### Select a flight direction"
   ]
  },
  {
   "cell_type": "code",
   "execution_count": null,
   "metadata": {},
   "outputs": [],
   "source": [
    "flight_dir = asfn.select_parameter(['ASCENDING', 'DESCENDING'])\n",
    "display(flight_dir)"
   ]
  },
  {
   "cell_type": "markdown",
   "metadata": {},
   "source": [
    "### Search Sentinel-1A SLCs acquisitions intersecting the chip within the past 12 days, in the chosen flight direction"
   ]
  },
  {
   "cell_type": "code",
   "execution_count": null,
   "metadata": {},
   "outputs": [],
   "source": [
    "opts = {\n",
    "    'platform': asf.PLATFORM.SENTINEL1A,\n",
    "    'start': twelve_days_ago_str,\n",
    "    'end': current_time_str,\n",
    "    'processingLevel': 'SLC',\n",
    "    'flightDirection': flight_dir.value,\n",
    "}\n",
    "\n",
    "scenes = asf.geo_search(geometry.wkt, **opts)\n",
    "scenes"
   ]
  },
  {
   "cell_type": "markdown",
   "metadata": {},
   "source": [
    "### Organize scenes in a dictionary by acquisition date and select a desired date if more than 1 are present"
   ]
  },
  {
   "cell_type": "code",
   "execution_count": null,
   "metadata": {},
   "outputs": [],
   "source": [
    "scenes_by_date = dict()\n",
    "for scene in scenes:\n",
    "    date_str = datetime.strptime(scene.properties['startTime'], '%Y-%m-%dT%H:%M:%S.%fZ').date().strftime('%Y-%m-%d')\n",
    "    if date_str not in scenes_by_date:\n",
    "        scenes_by_date[date_str] = [scene]\n",
    "    else:\n",
    "        scenes_by_date[date_str].append(scene)"
   ]
  },
  {
   "cell_type": "code",
   "execution_count": null,
   "metadata": {},
   "outputs": [],
   "source": [
    "if len(scenes_by_date) > 1:\n",
    "    print(\"Select a scene acquisition date\")\n",
    "    date_options = asfn.select_parameter([d for d in scenes_by_date])\n",
    "    display(date_options)"
   ]
  },
  {
   "cell_type": "code",
   "execution_count": null,
   "metadata": {},
   "outputs": [],
   "source": [
    "if len(scenes_by_date) > 1:\n",
    "    key = date_options.value\n",
    "else:\n",
    "    key = list(scenes_by_date.keys())[0]\n",
    "print(f'We will order {len(scenes_by_date[key])} HyP3 RTCs from Sentinel-1A scenes intersecting chip {chip_id} and acquired on {key}')"
   ]
  },
  {
   "cell_type": "markdown",
   "metadata": {},
   "source": [
    "### Authenticate on HyP3 with EarthData credentials and order RTCs for the scenes on the chosen acquisition date"
   ]
  },
  {
   "cell_type": "code",
   "execution_count": null,
   "metadata": {},
   "outputs": [],
   "source": [
    "hyp3 = sdk.HyP3(prompt=True)"
   ]
  },
  {
   "cell_type": "code",
   "execution_count": null,
   "metadata": {},
   "outputs": [],
   "source": [
    "hyp3_project_name = f\"S1A_SLC_{key}_chip_{chip_id}\"\n",
    "scene_names = [s.properties['sceneName'] for s in scenes_by_date[key]]\n",
    "\n",
    "rtc_jobs = sdk.Batch()\n",
    "for s in scene_names:\n",
    "    rtc_jobs += hyp3.submit_rtc_job(s, name=hyp3_project_name)\n",
    "print(rtc_jobs)"
   ]
  }
 ],
 "metadata": {
  "kernelspec": {
   "display_name": "machine_learning [conda env:.local-machine_learning]",
   "language": "python",
   "name": "conda-env-.local-machine_learning-py"
  },
  "language_info": {
   "codemirror_mode": {
    "name": "ipython",
    "version": 3
   },
   "file_extension": ".py",
   "mimetype": "text/x-python",
   "name": "python",
   "nbconvert_exporter": "python",
   "pygments_lexer": "ipython3",
   "version": "3.8.13"
  }
 },
 "nbformat": 4,
 "nbformat_minor": 4
}
