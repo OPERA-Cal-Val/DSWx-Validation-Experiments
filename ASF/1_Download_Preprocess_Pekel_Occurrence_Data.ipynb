{
 "cells": [
  {
   "cell_type": "code",
   "execution_count": null,
   "id": "3e6c1d28-7eea-408d-a871-32aa2c8797ce",
   "metadata": {},
   "outputs": [],
   "source": [
    "import geopandas as gpd\n",
    "from ipyfilechooser import FileChooser\n",
    "import numpy as np\n",
    "from pathlib import Path\n",
    "import rasterio as rio\n",
    "import rioxarray as rxr\n",
    "import rioxarray.merge\n",
    "from shapely.geometry import mapping"
   ]
  },
  {
   "cell_type": "markdown",
   "id": "8b9bcf68-b17f-4204-a342-c6e4510b047a",
   "metadata": {},
   "source": [
    "**This notebook downloads Pekel Occurrence data intersecting the chip, clips each Pekel scene to the extents of the chip, and then merges them**"
   ]
  },
  {
   "cell_type": "markdown",
   "id": "9195b8c3-ac6f-4819-bc86-fc21b7049719",
   "metadata": {},
   "source": [
    "### Select the chip directory"
   ]
  },
  {
   "cell_type": "code",
   "execution_count": null,
   "id": "52a0ed18-106a-4d1e-8cc0-57bb9010adc3",
   "metadata": {},
   "outputs": [],
   "source": [
    "print(\"Select the chip directory containing the Planet data, which was generated in Notebook 0\")\n",
    "fc = FileChooser(Path.cwd())\n",
    "display(fc)"
   ]
  },
  {
   "cell_type": "code",
   "execution_count": null,
   "id": "00e25acb-16be-46b2-bee2-777dceed76e2",
   "metadata": {},
   "outputs": [],
   "source": [
    "chip_dir = Path(fc.selected_path)\n",
    "chip_id = chip_dir.name\n",
    "\n",
    "shape_path = list(chip_dir.rglob('*.shp'))\n",
    "if len(shape_path) < 1:\n",
    "    raise FileNotFoundError\n",
    "elif len(shape_path) > 1:\n",
    "    raise Exception(\"Multiple shapefiles found\")\n",
    "else:\n",
    "    shape_path = shape_path[0]\n",
    "\n",
    "planet_path = list(chip_dir.rglob('*_AnalyticMS_*.tif'))\n",
    "if len(planet_path) < 1:\n",
    "    raise FileNotFoundError\n",
    "elif len(planet_path) > 1:\n",
    "    raise Exception(\"Multiple Planet data files found\")\n",
    "else:\n",
    "    planet_path = planet_path[0]\n",
    "    \n",
    "print(shape_path)\n",
    "print(planet_path)"
   ]
  },
  {
   "cell_type": "markdown",
   "id": "63fe9e8b-ceaf-4164-8b0f-7dc76b041f3e",
   "metadata": {},
   "source": [
    "### Load the chip geometry from the chip shapefile"
   ]
  },
  {
   "cell_type": "code",
   "execution_count": null,
   "id": "cf95e798-8698-4f1e-81d9-efbb93341654",
   "metadata": {},
   "outputs": [],
   "source": [
    "geometry_gdf = gpd.read_file(shape_path)\n",
    "geometry = geometry_gdf['geometry'][0]\n",
    "geometry"
   ]
  },
  {
   "cell_type": "markdown",
   "id": "6c383b27-7235-426e-a5bf-c3488f64eeb1",
   "metadata": {},
   "source": [
    "### Find the Planet Data UTM"
   ]
  },
  {
   "cell_type": "code",
   "execution_count": null,
   "id": "e05477f0-9569-4a23-b853-370dd6f64964",
   "metadata": {},
   "outputs": [],
   "source": [
    "with rio.open(planet_path) as planet:\n",
    "    print(planet.crs)\n",
    "    print(planet.transform)\n",
    "    planet_crs = planet.crs\n",
    "    planet_transform = planet.transform"
   ]
  },
  {
   "cell_type": "markdown",
   "id": "14026ab5-4c67-47af-bd60-6a3ecaebf1e9",
   "metadata": {},
   "source": [
    "### Load Pekel Tile geojson into a dataframe"
   ]
  },
  {
   "cell_type": "code",
   "execution_count": null,
   "id": "0b05646f-9a55-4c90-ba85-988ee44794fd",
   "metadata": {},
   "outputs": [],
   "source": [
    "peckel_tile_gdf = gpd.read_file('peckel_tiles.geojson')\n",
    "peckel_tile_gdf.head()"
   ]
  },
  {
   "cell_type": "markdown",
   "id": "fe5726bc-617a-41b3-a50b-edc4cbbcd397",
   "metadata": {},
   "source": [
    "### Create a dataframe of tiles intersecting the chip"
   ]
  },
  {
   "cell_type": "code",
   "execution_count": null,
   "id": "539786b9-d086-4f1f-a9ea-fc7e393a74c3",
   "metadata": {},
   "outputs": [],
   "source": [
    "intersections = peckel_tile_gdf.geometry.intersects(geometry)\n",
    "peckel_subset = peckel_tile_gdf[intersections].reset_index(drop=True)\n",
    "peckel_subset"
   ]
  },
  {
   "cell_type": "markdown",
   "id": "0e10f91b-ae8d-4ab7-bd3b-013f12bf06d0",
   "metadata": {},
   "source": [
    "### Download tiles and clip them to chip geometry"
   ]
  },
  {
   "cell_type": "code",
   "execution_count": null,
   "id": "fb7186fe-04ee-4292-87b4-2f0cc584a942",
   "metadata": {
    "tags": []
   },
   "outputs": [],
   "source": [
    "to_merge = list()\n",
    "for url in peckel_subset.source_url:\n",
    "    \n",
    "    # pekel_tiles.goejson contains broken urls for longitudes < 100W or 100E\n",
    "    # example: '060W' must be converted to '60W'\n",
    "    fname_split = url.split('/')[-1].split('_')\n",
    "    if fname_split[1][0] == '0':\n",
    "        fname_split[1] = fname_split[1][1:]\n",
    "        fname = '_'.join(fname_split)\n",
    "        url = f\"{'/'.join(url.split('/')[:-1])}/{fname}\"\n",
    "\n",
    "    tile = rxr.open_rasterio(url, masked=True).squeeze()\n",
    "    \n",
    "    # tile.rio.to_raster(chip_dir/f\"{pekel_name}_{chip_id}.tif\")\n",
    "#     tile = tile.rio.clip(geometry_gdf.geometry.apply(mapping), 'EPSG:4326')\n",
    "#     to_merge.append(tile)\n",
    "# to_merge"
   ]
  },
  {
   "cell_type": "code",
   "execution_count": null,
   "id": "7627d213-1430-4c16-887a-20d473860244",
   "metadata": {},
   "outputs": [],
   "source": [
    "print(peckel_subset.source_url[0])"
   ]
  },
  {
   "cell_type": "markdown",
   "id": "9aaf7456-03fb-49e7-b2ee-88dc4d68e5b0",
   "metadata": {},
   "source": [
    "### Merge clipped tiles and output to GeoTiff"
   ]
  },
  {
   "cell_type": "code",
   "execution_count": null,
   "id": "44a51151-184d-4dfb-9ffe-0da8fdb6bb90",
   "metadata": {},
   "outputs": [],
   "source": [
    "pekel_name = Path(url.split('/')[-1]).stem\n",
    "\n",
    "merged = rxr.merge.merge_arrays(to_merge)\n",
    "merged.rio.to_raster(chip_dir/f\"{pekel_name}_{chip_id}.tif\")\n",
    "merged"
   ]
  },
  {
   "cell_type": "code",
   "execution_count": null,
   "id": "15ce130c-ba36-4dfc-819a-e0678231ed46",
   "metadata": {},
   "outputs": [],
   "source": []
  }
 ],
 "metadata": {
  "kernelspec": {
   "display_name": "dswx_calval",
   "language": "python",
   "name": "conda-env-.local-dswx_calval-py"
  },
  "language_info": {
   "codemirror_mode": {
    "name": "ipython",
    "version": 3
   },
   "file_extension": ".py",
   "mimetype": "text/x-python",
   "name": "python",
   "nbconvert_exporter": "python",
   "pygments_lexer": "ipython3",
   "version": "3.10.6"
  }
 },
 "nbformat": 4,
 "nbformat_minor": 5
}
