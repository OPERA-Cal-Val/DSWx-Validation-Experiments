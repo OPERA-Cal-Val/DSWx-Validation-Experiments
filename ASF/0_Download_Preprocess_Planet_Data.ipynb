{
 "cells": [
  {
   "cell_type": "code",
   "execution_count": null,
   "id": "champion-cooler",
   "metadata": {
    "ExecuteTime": {
     "end_time": "2022-06-24T18:33:09.510442Z",
     "start_time": "2022-06-24T18:33:09.422642Z"
    }
   },
   "outputs": [],
   "source": [
    "import geopandas as gpd\n",
    "from getpass import getpass\n",
    "import numpy as np\n",
    "from pathlib import Path\n",
    "from pprint import pprint\n",
    "import shutil\n",
    "from typing import List, Union\n",
    "\n",
    "import rasterio\n",
    "from rasterio.warp import calculate_default_transform, reproject, Resampling\n",
    "from rasterio.windows import Window\n",
    "\n",
    "from rscube.nd_tools import (get_array_from_features, \n",
    "                             get_features_from_array, \n",
    "                             get_superpixel_area_as_features, \n",
    "                             get_superpixel_means_as_features,\n",
    "                             get_superpixel_stds_as_features, \n",
    "                             scale_img)\n",
    "from rscube.rio_tools import (get_geopandas_features_from_array, \n",
    "                              rasterize_shapes_to_array, \n",
    "                              get_indices_from_extent, get_cropped_profile)\n",
    "from shapely.geometry import box\n",
    "from tqdm.notebook import tqdm\n",
    "\n",
    "from planet import api\n",
    "from planet.api import downloader"
   ]
  },
  {
   "cell_type": "markdown",
   "id": "1e173204-135f-461d-989e-01d0a8ae8553",
   "metadata": {},
   "source": [
    "This notebook downloads a Planet Scene and prepares it for the DSWx workflow.\n",
    "\n",
    "Eventually, when HLS data becomes available, we should replace this notebook with one that downloads HLS data and prepares it in the same manner."
   ]
  },
  {
   "cell_type": "markdown",
   "id": "dad07366-1145-4ab9-8a20-445ebc144d6d",
   "metadata": {},
   "source": [
    "# 1. Download Planet Data"
   ]
  },
  {
   "cell_type": "code",
   "execution_count": null,
   "id": "legal-present",
   "metadata": {
    "ExecuteTime": {
     "end_time": "2022-06-24T18:33:09.530502Z",
     "start_time": "2022-06-24T18:33:09.512348Z"
    }
   },
   "outputs": [],
   "source": [
    "planet_api_key = getpass(\"Input your Planet API key\")"
   ]
  },
  {
   "cell_type": "code",
   "execution_count": null,
   "id": "formal-metropolitan",
   "metadata": {
    "ExecuteTime": {
     "end_time": "2022-06-24T18:33:09.550320Z",
     "start_time": "2022-06-24T18:33:09.533068Z"
    }
   },
   "outputs": [],
   "source": [
    "planet_scene_id = '20211003_161639_91_241d'\n",
    "# planet_scene_id = input(\"Enter a Planet Scene ID\")"
   ]
  },
  {
   "cell_type": "code",
   "execution_count": null,
   "id": "9de48912-b8b1-4fb6-bd87-5bdff161b407",
   "metadata": {},
   "outputs": [],
   "source": [
    "def planet_download(api_key: str, scene_id: str, output_dir: Union[str, Path] = Path.cwd(), asset_types: List = ['ortho_analytic_8b_sr']):\n",
    "    \"\"\"\n",
    "    Download Planet data by scene ID \n",
    "\n",
    "    Keyword arguments:\n",
    "    api_key     -- Planet API key\n",
    "    scene_id    -- Planet data scene ID\n",
    "    output_dir  -- path to directory in which to download data\n",
    "    asset_types -- Planet data asset types to download\n",
    "    \"\"\"\n",
    "    output_dir = Path(output_dir)\n",
    "    output_dir.mkdir(exist_ok=True)\n",
    "    \n",
    "    client = api.ClientV1(api_key=planet_api_key)\n",
    "    request = client.get_item('PSScene', \n",
    "                          scene_id)\n",
    "    items_to_download = [request.get()]\n",
    "\n",
    "    downloader = api.downloader.create(client)\n",
    "    downloader.activate(iter(items_to_download), asset_types)\n",
    "    downloader.download(iter(items_to_download), asset_types, str(output_dir))\n",
    "    print(downloader.stats())\n",
    "    downloader.shutdown()"
   ]
  },
  {
   "cell_type": "code",
   "execution_count": null,
   "id": "dd2d2776-637b-41ac-89b8-7b05c39009bf",
   "metadata": {},
   "outputs": [],
   "source": [
    "planet_dir = Path.cwd()/\"planet_data\"\n",
    "\n",
    "planet_download(planet_api_key, planet_scene_id, planet_dir)"
   ]
  },
  {
   "cell_type": "markdown",
   "id": "2e778594-3ec8-4951-8d67-fc2cf784e893",
   "metadata": {},
   "source": [
    "# 2. Preprocess Planet Data\n",
    "\n",
    "### Expose metadata"
   ]
  },
  {
   "cell_type": "code",
   "execution_count": null,
   "id": "9a72447f-180a-4e8f-81cd-ce7d9c9908a0",
   "metadata": {},
   "outputs": [],
   "source": [
    "planet_image_path = list(planet_dir.rglob(f'{planet_scene_id}*.tif'))[0]\n",
    "\n",
    "with rasterio.open(planet_image_path) as ds:\n",
    "    planet_crs = ds.crs\n",
    "    planet_box = box(*ds.bounds)\n",
    "    planet_bounds = list(ds.bounds)\n",
    "    planet_profile = ds.profile\n",
    "    planet_shape = planet_profile['height'], planet_profile['width']\n",
    "\n",
    "print(f'Planet Imagery Shape: {planet_shape}')\n",
    "print(f'Planet Imagery CRS: {planet_crs}')\n",
    "print(f'Planet Image Profile: {planet_profile}')"
   ]
  },
  {
   "cell_type": "markdown",
   "id": "7fdade45-aaf5-43e5-b955-d95a7b45c679",
   "metadata": {
    "tags": []
   },
   "source": [
    "### Read chips geojson into a DataFrame and project to Planet data's UTM"
   ]
  },
  {
   "cell_type": "code",
   "execution_count": null,
   "id": "b9fb4edf-87b8-450c-8c14-199c803abf08",
   "metadata": {},
   "outputs": [],
   "source": [
    "chips = gpd.read_file('ResampleblocksUpd.geojson')\n",
    "chips = chips.to_crs(planet_crs)\n",
    "chips.head()"
   ]
  },
  {
   "cell_type": "markdown",
   "id": "1c1f6ca3-9190-4e6a-ab8d-4d42ed405a62",
   "metadata": {},
   "source": [
    "### Create DataFrame of chips intersecting with Planet Data\n",
    "\n",
    "- currently assumes a single intersecting chip, which may not always be true"
   ]
  },
  {
   "cell_type": "code",
   "execution_count": null,
   "id": "0457d719-381f-4bec-99e6-0fdc96cb5457",
   "metadata": {},
   "outputs": [],
   "source": [
    "intersects = chips.geometry.intersects(planet_box) # create intersection mask\n",
    "intersecting_chips = chips[intersects].reset_index(drop=True) # create new Dataframe containing intersecting chips\n",
    "print(intersecting_chips.head())\n",
    "chip_id = index = intersecting_chips.random_id[0]"
   ]
  },
  {
   "cell_type": "markdown",
   "id": "7b7fdc08-efa1-47e4-accb-a85fe5dfba15",
   "metadata": {},
   "source": [
    "### Create an image profile for the Planet Data, clipped to the chip extent "
   ]
  },
  {
   "cell_type": "code",
   "execution_count": null,
   "id": "994567f2-45ab-4ef7-80af-4e4c1dcbf536",
   "metadata": {},
   "outputs": [],
   "source": [
    "(start_y, start_x), (stop_y, stop_x) = get_indices_from_extent(planet_profile['transform'],\n",
    "                                                               list(chips.total_bounds),\n",
    "                                                               shape=planet_shape)\n",
    "window = Window.from_slices((start_y, stop_y), (start_x, stop_x))\n",
    "sx, sy = np.s_[start_x: stop_x], np.s_[start_y: stop_y]\n",
    "profile_cropped = get_cropped_profile(planet_profile, sx, sy)\n",
    "print(f'Cropped Planet Image Profile: {profile_cropped}')"
   ]
  },
  {
   "cell_type": "markdown",
   "id": "233c7521-181f-48ec-803d-aa39d6671b59",
   "metadata": {},
   "source": [
    "### Remove Coastal Blue no-data pixels from all Planet Imagery bands"
   ]
  },
  {
   "cell_type": "code",
   "execution_count": null,
   "id": "0d21226b-f928-4e86-962d-08fec2a6dd32",
   "metadata": {},
   "outputs": [],
   "source": [
    "with rasterio.open(planet_image_path) as ds:\n",
    "    planet_ds = ds.read(window=window)\n",
    "    planet_ds = planet_ds.transpose([1, 2, 0]).astype(np.float32)\n",
    "\n",
    "coastal_blue_nan_mask = (planet_ds[..., 0] == planet_profile['nodata'])\n",
    "planet_ds[coastal_blue_nan_mask, :] = np.nan"
   ]
  },
  {
   "cell_type": "markdown",
   "id": "627d3407-8fd7-498e-8394-8ca4f58233e7",
   "metadata": {},
   "source": [
    "### Subset Planet imagery to Red, Green, NIR bands and normalize data"
   ]
  },
  {
   "cell_type": "code",
   "execution_count": null,
   "id": "a04cd2f5-39ec-4964-aaba-e7cfbb4f514f",
   "metadata": {},
   "outputs": [],
   "source": [
    "with rasterio.open(planet_image_path) as ds:\n",
    "    bands = ds.descriptions\n",
    "pprint(list(enumerate(bands)))\n",
    "\n",
    "rgnir = scale_img(planet_ds[..., [7, 5, 3]]) "
   ]
  },
  {
   "cell_type": "markdown",
   "id": "3f3b0325-d2ce-445f-9ce6-7604ddabeaaa",
   "metadata": {},
   "source": [
    "### Remove outliers (highest and lowest 2% pixel values) from all 3 bands"
   ]
  },
  {
   "cell_type": "code",
   "execution_count": null,
   "id": "02099689-79b7-47f4-a926-a419100156e1",
   "metadata": {},
   "outputs": [],
   "source": [
    "planet_temp = planet_ds[..., [7, 5, 3]]\n",
    "\n",
    "planet_ds_view = planet_temp.copy()\n",
    "for k in tqdm(range(3)):\n",
    "    m0 = np.nanpercentile(planet_temp[~coastal_blue_nan_mask, k], 2)\n",
    "    m1 = np.nanpercentile(planet_temp[~coastal_blue_nan_mask, k], 98)\n",
    "    planet_ds_view[~coastal_blue_nan_mask, k] = np.clip(planet_temp[~coastal_blue_nan_mask, k], m0, m1)\n",
    "    \n",
    "rgnir_cropped = scale_img(planet_ds_view)"
   ]
  },
  {
   "cell_type": "markdown",
   "id": "00de2443-50fa-4410-ac3e-b51acd709fcb",
   "metadata": {},
   "source": [
    "### Write Planet rgnir band data to GeoTiff, with outliers removed and cropped to chip extents"
   ]
  },
  {
   "cell_type": "code",
   "execution_count": null,
   "id": "d463dc57-f6a0-4740-8a58-1855486ae4df",
   "metadata": {},
   "outputs": [],
   "source": [
    "profile_rgnir_cropped = profile_cropped.copy()\n",
    "profile_rgnir_cropped['count'] = 3\n",
    "profile_rgnir_cropped['dtype'] = 'float32'\n",
    "profile_rgnir_cropped['nodata'] = np.nan\n",
    "\n",
    "preprocessed_path = Path('chips')\n",
    "preprocessed_path.mkdir(exist_ok=True)\n",
    "\n",
    "utm = planet_crs['init'].split(':')[-1]\n",
    "utm_output = preprocessed_path/f'{planet_image_path.stem}_cropped_to_chip_{utm}_{index}.tif'\n",
    "with rasterio.open(utm_output, 'w', **profile_rgnir_cropped) as ds:\n",
    "    ds.write(rgnir_cropped.transpose([2, 0, 1]))"
   ]
  },
  {
   "cell_type": "markdown",
   "id": "cb217d4f-cbbc-4852-b710-a0c72c044077",
   "metadata": {},
   "source": [
    "### Reproject preprocessed chip to latlon"
   ]
  },
  {
   "cell_type": "code",
   "execution_count": null,
   "id": "e48489ea-fdcd-4686-bbea-93b7157cf444",
   "metadata": {},
   "outputs": [],
   "source": [
    "dst_crs = 'EPSG:4326'\n",
    "\n",
    "source = utm_output\n",
    "latlon_output = preprocessed_path/f'{planet_image_path.stem}_cropped_to_chip_{index}_latlon.tif'\n",
    "\n",
    "with rasterio.open(source) as src:\n",
    "    transform, width, height = calculate_default_transform(\n",
    "        src.crs, dst_crs, src.width, src.height, *src.bounds)\n",
    "    kwargs = src.meta.copy()\n",
    "    kwargs.update({\n",
    "        'crs': dst_crs,\n",
    "        'transform': transform,\n",
    "        'width': width,\n",
    "        'height': height\n",
    "    })\n",
    "\n",
    "    with rasterio.open(latlon_output, 'w', **kwargs) as dst:\n",
    "        for i in range(1, src.count + 1):\n",
    "            reproject(\n",
    "                source=rasterio.band(src, i),\n",
    "                destination=rasterio.band(dst, i),\n",
    "                src_transform=src.transform,\n",
    "                src_crs=src.crs,\n",
    "                dst_transform=transform,\n",
    "                dst_crs=dst_crs,\n",
    "                resampling=Resampling.nearest)"
   ]
  },
  {
   "cell_type": "markdown",
   "id": "b124aa26-0233-4330-bc5a-6480ed3cdce8",
   "metadata": {},
   "source": [
    "### Delete original planet data and cropped chip in utm"
   ]
  },
  {
   "cell_type": "code",
   "execution_count": null,
   "id": "01507f0b-75dd-4b5a-8b4a-a624a360248d",
   "metadata": {},
   "outputs": [],
   "source": [
    "try:\n",
    "    shutil.rmtree(planet_dir)\n",
    "except FileNotFoundError:\n",
    "    pass\n",
    "\n",
    "try:\n",
    "    utm_output.unlink()\n",
    "except FileNotFoundError:\n",
    "    pass"
   ]
  },
  {
   "cell_type": "markdown",
   "id": "d7ebf40f-8238-4c8c-b84e-6f8417fe3b94",
   "metadata": {},
   "source": [
    "### Plot pre-processed Planet data"
   ]
  },
  {
   "cell_type": "code",
   "execution_count": null,
   "id": "ee537140-e378-4edb-9146-ef84fe97a14d",
   "metadata": {},
   "outputs": [],
   "source": [
    "from rasterio.plot import show\n",
    "import matplotlib.pyplot as plt\n",
    "\n",
    "def get_raster_threshold(raster, low=2, high=98):\n",
    "    return [np.nanpercentile(raster, low),\n",
    "            np.nanpercentile(raster, high)]\n",
    "\n",
    "with rasterio.open(latlon_output) as ds:\n",
    "    image_c = ds.read(window=window)\n",
    "    image_c = image_c.transpose([1, 2, 0]).astype(np.float32)\n",
    "\n",
    "    \n",
    "    fig, (ax_r, ax_g, ax_nir) = plt.subplots(1, 3, figsize=(28,7))\n",
    "    thresh = get_raster_threshold(image_c[..., 0])\n",
    "    show((ds, 1), ax=ax_nir, cmap='GnBu', title='nir band', vmin=thresh[0], vmax=thresh[1])\n",
    "    thresh = get_raster_threshold(image_c[..., 1])\n",
    "    show((ds, 2), ax=ax_r, cmap='Reds', title='red band', vmin=thresh[0], vmax=thresh[1])\n",
    "    thresh = get_raster_threshold(image_c[..., 2])\n",
    "    show((ds, 3), ax=ax_g, cmap='Greens', title='green band', vmin=thresh[0], vmax=thresh[1])\n",
    "print(f'Planet Image shape: {image_c.shape}')"
   ]
  },
  {
   "cell_type": "code",
   "execution_count": null,
   "id": "2cb5b435-374d-4aa0-a4e2-41bd73348301",
   "metadata": {},
   "outputs": [],
   "source": []
  }
 ],
 "metadata": {
  "kernelspec": {
   "display_name": "dswx_calval [conda env:.local-dswx_calval]",
   "language": "python",
   "name": "conda-env-.local-dswx_calval-py"
  },
  "language_info": {
   "codemirror_mode": {
    "name": "ipython",
    "version": 3
   },
   "file_extension": ".py",
   "mimetype": "text/x-python",
   "name": "python",
   "nbconvert_exporter": "python",
   "pygments_lexer": "ipython3",
   "version": "3.10.6"
  }
 },
 "nbformat": 4,
 "nbformat_minor": 5
}
