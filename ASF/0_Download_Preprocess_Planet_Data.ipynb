{
 "cells": [
  {
   "cell_type": "code",
   "execution_count": null,
   "id": "signal-logistics",
   "metadata": {
    "ExecuteTime": {
     "end_time": "2022-06-24T18:33:09.420384Z",
     "start_time": "2022-06-24T18:33:09.397151Z"
    }
   },
   "outputs": [],
   "source": [
    "%load_ext autoreload\n",
    "%autoreload 2"
   ]
  },
  {
   "cell_type": "code",
   "execution_count": null,
   "id": "champion-cooler",
   "metadata": {
    "ExecuteTime": {
     "end_time": "2022-06-24T18:33:09.510442Z",
     "start_time": "2022-06-24T18:33:09.422642Z"
    }
   },
   "outputs": [],
   "source": [
    "from planet import api\n",
    "from pathlib import Path\n",
    "from planet.api import downloader\n",
    "from getpass import getpass"
   ]
  },
  {
   "cell_type": "markdown",
   "id": "7a74e45a-fa0a-48b4-a929-16b39f19d796",
   "metadata": {},
   "source": []
  },
  {
   "cell_type": "code",
   "execution_count": null,
   "id": "legal-present",
   "metadata": {
    "ExecuteTime": {
     "end_time": "2022-06-24T18:33:09.530502Z",
     "start_time": "2022-06-24T18:33:09.512348Z"
    }
   },
   "outputs": [],
   "source": [
    "planet_api_key = getpass(\"Input your Planet API key\")"
   ]
  },
  {
   "cell_type": "code",
   "execution_count": null,
   "id": "formal-metropolitan",
   "metadata": {
    "ExecuteTime": {
     "end_time": "2022-06-24T18:33:09.550320Z",
     "start_time": "2022-06-24T18:33:09.533068Z"
    }
   },
   "outputs": [],
   "source": [
    "planet_scene_id = '20211003_161639_91_241d'\n",
    "# planet_scene_id = input(\"Enter a Planet Scene ID\")"
   ]
  },
  {
   "cell_type": "code",
   "execution_count": null,
   "id": "phantom-galaxy",
   "metadata": {
    "ExecuteTime": {
     "end_time": "2022-06-24T18:33:10.464809Z",
     "start_time": "2022-06-24T18:33:09.552309Z"
    }
   },
   "outputs": [],
   "source": [
    "client = api.ClientV1(api_key=planet_api_key)\n",
    "req = client.get_item('PSScene', \n",
    "                      planet_scene_id)\n",
    "resp = req.get()\n",
    "resp.keys()"
   ]
  },
  {
   "cell_type": "code",
   "execution_count": null,
   "id": "convenient-stocks",
   "metadata": {
    "ExecuteTime": {
     "end_time": "2022-06-24T18:33:10.508605Z",
     "start_time": "2022-06-24T18:33:10.487629Z"
    }
   },
   "outputs": [],
   "source": [
    "client = api.ClientV1(api_key=planet_api_key)\n",
    "downloader = downloader.create(client)\n",
    "downloader"
   ]
  },
  {
   "cell_type": "code",
   "execution_count": null,
   "id": "distant-agreement",
   "metadata": {
    "ExecuteTime": {
     "end_time": "2022-06-24T18:33:10.528250Z",
     "start_time": "2022-06-24T18:33:10.510551Z"
    }
   },
   "outputs": [],
   "source": [
    "items_to_download = [resp]\n",
    "asset_types = ['ortho_analytic_8b_sr']"
   ]
  },
  {
   "cell_type": "code",
   "execution_count": null,
   "id": "essential-original",
   "metadata": {
    "ExecuteTime": {
     "end_time": "2022-06-24T18:33:11.477504Z",
     "start_time": "2022-06-24T18:33:10.573072Z"
    }
   },
   "outputs": [],
   "source": [
    "n = len(items_to_download)\n",
    "resp_ac = downloader.activate(iter(items_to_download), asset_types)\n",
    "resp_ac"
   ]
  },
  {
   "cell_type": "code",
   "execution_count": null,
   "id": "retained-regression",
   "metadata": {
    "ExecuteTime": {
     "end_time": "2022-06-24T18:33:11.514458Z",
     "start_time": "2022-06-24T18:33:11.497716Z"
    }
   },
   "outputs": [],
   "source": [
    "out_path = Path('local_chips')\n",
    "out_path.mkdir(exist_ok=True)"
   ]
  },
  {
   "cell_type": "code",
   "execution_count": null,
   "id": "worldwide-automation",
   "metadata": {
    "ExecuteTime": {
     "end_time": "2022-06-24T18:33:14.746187Z",
     "start_time": "2022-06-24T18:33:11.516250Z"
    }
   },
   "outputs": [],
   "source": [
    "n = len(items_to_download)\n",
    "resp_dl = downloader.download(iter(items_to_download), asset_types, str(out_path))\n",
    "resp_dl"
   ]
  },
  {
   "cell_type": "code",
   "execution_count": null,
   "id": "clear-theater",
   "metadata": {
    "ExecuteTime": {
     "end_time": "2022-06-24T18:33:14.765804Z",
     "start_time": "2022-06-24T18:33:14.748084Z"
    }
   },
   "outputs": [],
   "source": [
    "downloader.stats()"
   ]
  },
  {
   "cell_type": "code",
   "execution_count": null,
   "id": "painted-remark",
   "metadata": {
    "ExecuteTime": {
     "end_time": "2022-06-24T18:33:11.495824Z",
     "start_time": "2022-06-24T18:33:11.479309Z"
    }
   },
   "outputs": [],
   "source": [
    "downloader.shutdown()"
   ]
  },
  {
   "cell_type": "code",
   "execution_count": null,
   "id": "b6258571-ebed-473a-bb00-ab2df07bf837",
   "metadata": {},
   "outputs": [],
   "source": []
  }
 ],
 "metadata": {
  "kernelspec": {
   "display_name": "dswx_calval [conda env:.local-dswx_calval]",
   "language": "python",
   "name": "conda-env-.local-dswx_calval-py"
  },
  "language_info": {
   "codemirror_mode": {
    "name": "ipython",
    "version": 3
   },
   "file_extension": ".py",
   "mimetype": "text/x-python",
   "name": "python",
   "nbconvert_exporter": "python",
   "pygments_lexer": "ipython3",
   "version": "3.10.6"
  }
 },
 "nbformat": 4,
 "nbformat_minor": 5
}
