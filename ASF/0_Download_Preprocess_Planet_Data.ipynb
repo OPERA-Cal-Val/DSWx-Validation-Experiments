{
 "cells": [
  {
   "cell_type": "code",
   "execution_count": null,
   "id": "champion-cooler",
   "metadata": {
    "ExecuteTime": {
     "end_time": "2022-06-24T18:33:09.510442Z",
     "start_time": "2022-06-24T18:33:09.422642Z"
    }
   },
   "outputs": [],
   "source": [
    "import geopandas as gpd\n",
    "from getpass import getpass\n",
    "import numpy as np\n",
    "from pathlib import Path\n",
    "from pprint import pprint\n",
    "import shutil\n",
    "from typing import List, Union\n",
    "\n",
    "import rasterio\n",
    "from rasterio.warp import calculate_default_transform, reproject, Resampling\n",
    "from rasterio.windows import Window\n",
    "\n",
    "from rscube.nd_tools import (get_array_from_features, \n",
    "                             get_features_from_array, \n",
    "                             get_superpixel_area_as_features, \n",
    "                             get_superpixel_means_as_features,\n",
    "                             get_superpixel_stds_as_features, \n",
    "                             scale_img)\n",
    "from rscube.rio_tools import (get_geopandas_features_from_array, \n",
    "                              rasterize_shapes_to_array, \n",
    "                              get_indices_from_extent, get_cropped_profile)\n",
    "from shapely.geometry import box\n",
    "from tqdm.notebook import tqdm\n",
    "\n",
    "from planet import api\n",
    "from planet.api import downloader\n",
    "\n",
    "\n",
    "import rioxarray as rxr\n",
    "from shapely.geometry import mapping"
   ]
  },
  {
   "cell_type": "markdown",
   "id": "1e173204-135f-461d-989e-01d0a8ae8553",
   "metadata": {},
   "source": [
    "This notebook downloads a Planet Scene and prepares it for the DSWx workflow."
   ]
  },
  {
   "cell_type": "markdown",
   "id": "dad07366-1145-4ab9-8a20-445ebc144d6d",
   "metadata": {},
   "source": [
    "# 1. Download Planet Data"
   ]
  },
  {
   "cell_type": "code",
   "execution_count": null,
   "id": "legal-present",
   "metadata": {
    "ExecuteTime": {
     "end_time": "2022-06-24T18:33:09.530502Z",
     "start_time": "2022-06-24T18:33:09.512348Z"
    }
   },
   "outputs": [],
   "source": [
    "planet_api_key = getpass(\"Input your Planet API key\")"
   ]
  },
  {
   "cell_type": "code",
   "execution_count": null,
   "id": "formal-metropolitan",
   "metadata": {
    "ExecuteTime": {
     "end_time": "2022-06-24T18:33:09.550320Z",
     "start_time": "2022-06-24T18:33:09.533068Z"
    }
   },
   "outputs": [],
   "source": [
    "planet_scene_id = '20211003_161639_91_241d'\n",
    "# planet_scene_id = input(\"Enter a Planet Scene ID\")"
   ]
  },
  {
   "cell_type": "code",
   "execution_count": null,
   "id": "9de48912-b8b1-4fb6-bd87-5bdff161b407",
   "metadata": {},
   "outputs": [],
   "source": [
    "def planet_download(api_key: str, scene_id: str, output_dir: Union[str, Path] = Path.cwd(), asset_types: List = ['ortho_analytic_8b_sr']):\n",
    "    \"\"\"\n",
    "    Download Planet data by scene ID \n",
    "\n",
    "    Keyword arguments:\n",
    "    api_key     -- Planet API key\n",
    "    scene_id    -- Planet data scene ID\n",
    "    output_dir  -- path to directory in which to download data\n",
    "    asset_types -- Planet data asset types to download\n",
    "    \"\"\"\n",
    "    output_dir = Path(output_dir)\n",
    "    output_dir.mkdir(exist_ok=True)\n",
    "    \n",
    "    client = api.ClientV1(api_key=planet_api_key)\n",
    "    request = client.get_item('PSScene', \n",
    "                          scene_id)\n",
    "    items_to_download = [request.get()]\n",
    "\n",
    "    downloader = api.downloader.create(client)\n",
    "    downloader.activate(iter(items_to_download), asset_types)\n",
    "    downloader.download(iter(items_to_download), asset_types, str(output_dir))\n",
    "    print(downloader.stats())\n",
    "    downloader.shutdown()"
   ]
  },
  {
   "cell_type": "code",
   "execution_count": null,
   "id": "dd2d2776-637b-41ac-89b8-7b05c39009bf",
   "metadata": {},
   "outputs": [],
   "source": [
    "planet_dir = Path.cwd()/\"planet_data\"\n",
    "\n",
    "planet_download(planet_api_key, planet_scene_id, planet_dir)"
   ]
  },
  {
   "cell_type": "markdown",
   "id": "2e778594-3ec8-4951-8d67-fc2cf784e893",
   "metadata": {},
   "source": [
    "# 2. Identify Intersecting Chip\n",
    "\n",
    "**TODO: ACCOUNT FOR MULTIPLE CHIP INTERSECTIONS**\n",
    "\n",
    "### Expose metadata"
   ]
  },
  {
   "cell_type": "code",
   "execution_count": null,
   "id": "9a72447f-180a-4e8f-81cd-ce7d9c9908a0",
   "metadata": {},
   "outputs": [],
   "source": [
    "planet_image_path = list(planet_dir.rglob(f'{planet_scene_id}*.tif'))[0]\n",
    "\n",
    "with rasterio.open(planet_image_path) as ds:\n",
    "    planet_crs = ds.crs\n",
    "    planet_box = box(*ds.bounds)\n",
    "    planet_bounds = list(ds.bounds)\n",
    "    planet_profile = ds.profile\n",
    "    planet_shape = planet_profile['height'], planet_profile['width']\n",
    "\n",
    "print(f'Planet Imagery Shape: {planet_shape}')\n",
    "print(f'Planet Imagery CRS: {planet_crs}')\n",
    "print(f'Planet Image Profile: {planet_profile}')"
   ]
  },
  {
   "cell_type": "markdown",
   "id": "7fdade45-aaf5-43e5-b955-d95a7b45c679",
   "metadata": {
    "tags": []
   },
   "source": [
    "### Read chips into a DataFrame and project to Planet data's UTM"
   ]
  },
  {
   "cell_type": "code",
   "execution_count": null,
   "id": "b9fb4edf-87b8-450c-8c14-199c803abf08",
   "metadata": {},
   "outputs": [],
   "source": [
    "chips = gpd.read_file('6km_chips.geojson')\n",
    "chips_utm = chips.to_crs(planet_crs)\n",
    "chips_utm.head()"
   ]
  },
  {
   "cell_type": "markdown",
   "id": "1c1f6ca3-9190-4e6a-ab8d-4d42ed405a62",
   "metadata": {},
   "source": [
    "### Create DataFrame of chips intersecting with Planet Data\n",
    "\n",
    "- currently assumes a single intersecting chip, which may not always be true"
   ]
  },
  {
   "cell_type": "code",
   "execution_count": null,
   "id": "0457d719-381f-4bec-99e6-0fdc96cb5457",
   "metadata": {},
   "outputs": [],
   "source": [
    "intersects = chips_utm.geometry.intersects(planet_box) # create intersection mask\n",
    "intersecting_chips = chips_utm[intersects].reset_index(drop=True) # create new Dataframe containing intersecting chips\n",
    "chip_id = index = intersecting_chips.random_id[0]\n",
    "intersecting_chips"
   ]
  },
  {
   "cell_type": "markdown",
   "id": "b32c66f6-3e0f-4ca0-ab07-5c94046a9a51",
   "metadata": {},
   "source": [
    "# 3. Create Chip Shapefile  "
   ]
  },
  {
   "cell_type": "code",
   "execution_count": null,
   "id": "132bcebf-4bbd-44be-83e3-dca40458220d",
   "metadata": {},
   "outputs": [],
   "source": [
    "chips_dir = Path.cwd()/\"chips\"\n",
    "chips_dir.mkdir(exist_ok=True)\n",
    "\n",
    "chip_dir = chips_dir/f\"chip_{chip_id}\"\n",
    "chip_dir.mkdir(exist_ok=True)\n",
    "\n",
    "shape_path = chip_dir/f'chip_{index}.shp'\n",
    "\n",
    "geom = chips.loc[chips['random_id'] == chip_id, 'geometry'].values[0]\n",
    "df = gpd.GeoDataFrame({\"id\":1,\"geometry\":[geom]})\n",
    "df.to_file(shape_path)"
   ]
  },
  {
   "cell_type": "markdown",
   "id": "8b69de0b-d6c5-47c2-966f-08a42075dd0f",
   "metadata": {},
   "source": [
    "# 4. Preprocess Data\n"
   ]
  },
  {
   "cell_type": "code",
   "execution_count": null,
   "id": "54fa0201-aeea-44f8-a944-3573021a721c",
   "metadata": {},
   "outputs": [],
   "source": [
    "crop_extent = chips.loc[chips['random_id'] == chip_id, 'geometry'].values[0]\n",
    "crop_extent"
   ]
  },
  {
   "cell_type": "code",
   "execution_count": null,
   "id": "1d28b9cb-dec5-48ef-9d2a-130eb230569b",
   "metadata": {},
   "outputs": [],
   "source": [
    "crop_extent_gdf = gpd.GeoDataFrame(index=[0], crs='EPSG:4326', geometry=[crop_extent])\n",
    "crop_extent_gdf"
   ]
  },
  {
   "cell_type": "markdown",
   "id": "7b7fdc08-efa1-47e4-accb-a85fe5dfba15",
   "metadata": {},
   "source": [
    "### Clip Planet data to the chip extent "
   ]
  },
  {
   "cell_type": "code",
   "execution_count": null,
   "id": "bea1e739-e203-433f-b17c-90d3a07caf1f",
   "metadata": {},
   "outputs": [],
   "source": [
    "planet_image = rxr.open_rasterio(planet_image_path,\n",
    "                                 masked=True).squeeze()\n",
    "\n",
    "planet_clipped = planet_image.rio.clip(crop_extent_gdf.geometry.apply(mapping), 'EPSG:4326')"
   ]
  },
  {
   "cell_type": "markdown",
   "id": "233c7521-181f-48ec-803d-aa39d6671b59",
   "metadata": {},
   "source": [
    "### Remove Coastal Blue no-data pixels from all Planet Imagery bands"
   ]
  },
  {
   "cell_type": "code",
   "execution_count": null,
   "id": "4ff76c31-1396-4132-be03-f3e78421ced8",
   "metadata": {},
   "outputs": [],
   "source": [
    "coastal_blue_clip = planet_clipped.where(planet_clipped[0] != planet_profile['nodata'])"
   ]
  },
  {
   "cell_type": "markdown",
   "id": "627d3407-8fd7-498e-8394-8ca4f58233e7",
   "metadata": {},
   "source": [
    "### Subset Planet imagery to Red, Green, NIR bands"
   ]
  },
  {
   "cell_type": "code",
   "execution_count": null,
   "id": "7fb7731f-aa3c-4430-b631-4e00675188ee",
   "metadata": {
    "tags": []
   },
   "outputs": [],
   "source": [
    "rgnir = coastal_blue_clip.sel(band=[8, 6, 4])\n",
    "rgnir.attrs['long_name'] = ('nir', 'red', 'green')\n",
    "rgnir"
   ]
  },
  {
   "cell_type": "markdown",
   "id": "3f3b0325-d2ce-445f-9ce6-7604ddabeaaa",
   "metadata": {},
   "source": [
    "### Remove outliers (highest and lowest 2% pixel values) from all 3 bands and normalize"
   ]
  },
  {
   "cell_type": "code",
   "execution_count": null,
   "id": "cd1d8bcf-dad1-45fa-8ee5-1b6d77182a5f",
   "metadata": {},
   "outputs": [],
   "source": [
    "rgnir_out = rgnir.copy()\n",
    "for i in tqdm(range(3)):\n",
    "    m0 = rgnir_out[i].quantile(0.02)\n",
    "    m1 = rgnir_out[i].quantile(0.98)\n",
    "    \n",
    "    rgnir_out[i] = rgnir_out[i].clip(m0, m1)\n",
    "    \n",
    "    rgnir_out[i] = scale_img(rgnir_out[i])"
   ]
  },
  {
   "cell_type": "markdown",
   "id": "00de2443-50fa-4410-ac3e-b51acd709fcb",
   "metadata": {},
   "source": [
    "# 5. Write Data to GeoTiff"
   ]
  },
  {
   "cell_type": "code",
   "execution_count": null,
   "id": "e977f5cf-063e-4896-8f1c-fabec0a022e0",
   "metadata": {},
   "outputs": [],
   "source": [
    "tif_path = chip_dir/f'Planet_nir_red_green_chip_{chip_id}.tif'\n",
    "\n",
    "rgnir_out.rio.to_raster(tif_path)"
   ]
  },
  {
   "cell_type": "code",
   "execution_count": null,
   "id": "9c5aa9fd-f208-47a5-8307-7ffeb6c85abf",
   "metadata": {},
   "outputs": [],
   "source": []
  }
 ],
 "metadata": {
  "kernelspec": {
   "display_name": "dswx_calval [conda env:.local-dswx_calval]",
   "language": "python",
   "name": "conda-env-.local-dswx_calval-py"
  },
  "language_info": {
   "codemirror_mode": {
    "name": "ipython",
    "version": 3
   },
   "file_extension": ".py",
   "mimetype": "text/x-python",
   "name": "python",
   "nbconvert_exporter": "python",
   "pygments_lexer": "ipython3",
   "version": "3.10.6"
  }
 },
 "nbformat": 4,
 "nbformat_minor": 5
}
