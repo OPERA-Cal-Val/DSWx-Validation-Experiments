{
 "cells": [
  {
   "cell_type": "code",
   "execution_count": null,
   "id": "3e6c1d28-7eea-408d-a871-32aa2c8797ce",
   "metadata": {},
   "outputs": [],
   "source": [
    "import geopandas as gpd\n",
    "from ipyfilechooser import FileChooser\n",
    "import numpy as np\n",
    "from pathlib import Path\n",
    "import rioxarray as rxr\n",
    "import rioxarray.merge\n",
    "from tqdm.auto import tqdm\n",
    "from typing import List\n",
    "\n",
    "import s3fs\n",
    "from shapely.geometry import mapping"
   ]
  },
  {
   "cell_type": "markdown",
   "id": "9195b8c3-ac6f-4819-bc86-fc21b7049719",
   "metadata": {},
   "source": [
    "### Select the chip shape file"
   ]
  },
  {
   "cell_type": "code",
   "execution_count": null,
   "id": "52a0ed18-106a-4d1e-8cc0-57bb9010adc3",
   "metadata": {},
   "outputs": [],
   "source": [
    "print(\"Select the chip shape file generated in Notebook 0\")\n",
    "fc = FileChooser(Path.cwd())\n",
    "display(fc)"
   ]
  },
  {
   "cell_type": "markdown",
   "id": "63fe9e8b-ceaf-4164-8b0f-7dc76b041f3e",
   "metadata": {},
   "source": [
    "### Load the chip geometry from the chip shapefile"
   ]
  },
  {
   "cell_type": "code",
   "execution_count": null,
   "id": "c2fbcdda-d143-4f28-8f95-82ce80854039",
   "metadata": {},
   "outputs": [],
   "source": [
    "shape_path = Path(fc.selected)\n",
    "shape_path"
   ]
  },
  {
   "cell_type": "code",
   "execution_count": null,
   "id": "cf95e798-8698-4f1e-81d9-efbb93341654",
   "metadata": {},
   "outputs": [],
   "source": [
    "geometry_gdf = gpd.read_file(shape_path)\n",
    "geometry = geometry_gdf['geometry'][0]\n",
    "geometry"
   ]
  },
  {
   "cell_type": "markdown",
   "id": "b81a111d-907a-4b3a-8e28-303638d5bf39",
   "metadata": {},
   "source": [
    "### Collect the chip directory and ID"
   ]
  },
  {
   "cell_type": "code",
   "execution_count": null,
   "id": "9f731864-d08d-49f0-856c-0c36ed0d988e",
   "metadata": {},
   "outputs": [],
   "source": [
    "chip_dir = shape_path.parent\n",
    "chip_id = chip_dir.name.split('_')[-1]\n",
    "chip_dir"
   ]
  },
  {
   "cell_type": "markdown",
   "id": "b78b980d-0edb-489e-9875-0fbab8f9178f",
   "metadata": {},
   "source": [
    "### Load the S1 class zones into a dataframe"
   ]
  },
  {
   "cell_type": "code",
   "execution_count": null,
   "id": "60c2fa07-2ce8-44e7-8b60-19bc0d7474f9",
   "metadata": {},
   "outputs": [],
   "source": [
    "df_zones = gpd.read_file('s2_class_zones.geojson')\n",
    "df_zones.head()"
   ]
  },
  {
   "cell_type": "markdown",
   "id": "fe5726bc-617a-41b3-a50b-edc4cbbcd397",
   "metadata": {},
   "source": [
    "### Create a dataframe of tiles intersecting the chip"
   ]
  },
  {
   "cell_type": "code",
   "execution_count": null,
   "id": "91db0dda-7ebb-4b00-a9fd-f06137b7b551",
   "metadata": {},
   "outputs": [],
   "source": [
    "intersections = df_zones.geometry.intersects(geometry)\n",
    "s1_zones = df_zones[intersections].reset_index(drop=True)\n",
    "s1_zones"
   ]
  },
  {
   "cell_type": "markdown",
   "id": "0e10f91b-ae8d-4ab7-bd3b-013f12bf06d0",
   "metadata": {},
   "source": [
    "### Download tiles and clip them to chip geometry"
   ]
  },
  {
   "cell_type": "code",
   "execution_count": null,
   "id": "3f63b6a8-4af6-4c61-9687-f732a306ba07",
   "metadata": {},
   "outputs": [],
   "source": [
    "ds_url = \"https://lulctimeseries.blob.core.windows.net/lulctimeseriespublic/lc2021/\"\n",
    "ds_date_range = \"20210101-20220101\"\n",
    "\n",
    "urls = [f\"{ds_url}{zone}_{ds_date_range}.tif\" for zone in s1_zones.zone]\n",
    "urls"
   ]
  },
  {
   "cell_type": "code",
   "execution_count": null,
   "id": "fb7186fe-04ee-4292-87b4-2f0cc584a942",
   "metadata": {
    "tags": []
   },
   "outputs": [],
   "source": [
    "to_merge = list()\n",
    "for url in urls:\n",
    "    print(url)\n",
    "    tile = rxr.open_rasterio(url, masked=True).squeeze()\n",
    "    tile = tile.rio.clip(geometry_gdf.geometry.apply(mapping), 'EPSG:4326')\n",
    "    to_merge.append(tile)\n",
    "to_merge"
   ]
  },
  {
   "cell_type": "markdown",
   "id": "9aaf7456-03fb-49e7-b2ee-88dc4d68e5b0",
   "metadata": {},
   "source": [
    "### Merge clipped tiles and output to GeoTiff"
   ]
  },
  {
   "cell_type": "code",
   "execution_count": null,
   "id": "44a51151-184d-4dfb-9ffe-0da8fdb6bb90",
   "metadata": {},
   "outputs": [],
   "source": [
    "merged = rxr.merge.merge_arrays(to_merge)\n",
    "merged.rio.to_raster(chip_dir/f\"S1_LULC_{chip_id}.tif\")"
   ]
  },
  {
   "cell_type": "code",
   "execution_count": null,
   "id": "2f99f1ec-2af6-40cb-b15d-68cdc4e18e69",
   "metadata": {},
   "outputs": [],
   "source": []
  }
 ],
 "metadata": {
  "kernelspec": {
   "display_name": "dswx_calval [conda env:.local-dswx_calval]",
   "language": "python",
   "name": "conda-env-.local-dswx_calval-py"
  },
  "language_info": {
   "codemirror_mode": {
    "name": "ipython",
    "version": 3
   },
   "file_extension": ".py",
   "mimetype": "text/x-python",
   "name": "python",
   "nbconvert_exporter": "python",
   "pygments_lexer": "ipython3",
   "version": "3.10.6"
  }
 },
 "nbformat": 4,
 "nbformat_minor": 5
}
