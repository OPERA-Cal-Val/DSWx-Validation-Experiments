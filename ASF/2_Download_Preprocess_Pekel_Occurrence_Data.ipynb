{
 "cells": [
  {
   "cell_type": "code",
   "execution_count": null,
   "id": "3e6c1d28-7eea-408d-a871-32aa2c8797ce",
   "metadata": {},
   "outputs": [],
   "source": [
    "import geopandas as gpd\n",
    "from ipyfilechooser import FileChooser\n",
    "import numpy as np\n",
    "from pathlib import Path\n",
    "import rioxarray as rxr\n",
    "import rioxarray.merge\n",
    "from tqdm.auto import tqdm\n",
    "from typing import List\n",
    "\n",
    "import s3fs\n",
    "from shapely.geometry import mapping"
   ]
  },
  {
   "cell_type": "markdown",
   "id": "9195b8c3-ac6f-4819-bc86-fc21b7049719",
   "metadata": {},
   "source": [
    "### Select the chip shape file"
   ]
  },
  {
   "cell_type": "code",
   "execution_count": null,
   "id": "52a0ed18-106a-4d1e-8cc0-57bb9010adc3",
   "metadata": {},
   "outputs": [],
   "source": [
    "print(\"Select the chip shape file generated in Notebook 0\")\n",
    "fc = FileChooser(Path.cwd())\n",
    "display(fc)"
   ]
  },
  {
   "cell_type": "markdown",
   "id": "63fe9e8b-ceaf-4164-8b0f-7dc76b041f3e",
   "metadata": {},
   "source": [
    "### Load the chip geometry from the chip shapefile"
   ]
  },
  {
   "cell_type": "code",
   "execution_count": null,
   "id": "c2fbcdda-d143-4f28-8f95-82ce80854039",
   "metadata": {},
   "outputs": [],
   "source": [
    "shape_path = Path(fc.selected)\n",
    "shape_path"
   ]
  },
  {
   "cell_type": "code",
   "execution_count": null,
   "id": "cf95e798-8698-4f1e-81d9-efbb93341654",
   "metadata": {},
   "outputs": [],
   "source": [
    "geometry_gdf = gpd.read_file(shape_path)"
   ]
  },
  {
   "cell_type": "markdown",
   "id": "b81a111d-907a-4b3a-8e28-303638d5bf39",
   "metadata": {},
   "source": [
    "### Collect the chip directory and ID"
   ]
  },
  {
   "cell_type": "code",
   "execution_count": null,
   "id": "9f731864-d08d-49f0-856c-0c36ed0d988e",
   "metadata": {},
   "outputs": [],
   "source": [
    "chip_dir = shape_path.parent\n",
    "chip_id = chip_dir.name.split('_')[-1]\n",
    "chip_dir"
   ]
  },
  {
   "cell_type": "markdown",
   "id": "14026ab5-4c67-47af-bd60-6a3ecaebf1e9",
   "metadata": {},
   "source": [
    "### Load Pekel Tile geojson into a dataframe"
   ]
  },
  {
   "cell_type": "code",
   "execution_count": null,
   "id": "0b05646f-9a55-4c90-ba85-988ee44794fd",
   "metadata": {},
   "outputs": [],
   "source": [
    "peckel_tile_gdf = gpd.read_file('peckel_tiles.geojson')\n",
    "peckel_tile_gdf.head()"
   ]
  },
  {
   "cell_type": "markdown",
   "id": "fe5726bc-617a-41b3-a50b-edc4cbbcd397",
   "metadata": {},
   "source": [
    "### Create a dataframe of tiles intersecting the chip"
   ]
  },
  {
   "cell_type": "code",
   "execution_count": null,
   "id": "91db0dda-7ebb-4b00-a9fd-f06137b7b551",
   "metadata": {},
   "outputs": [],
   "source": [
    "intersections = peckel_tile_gdf.geometry.intersects(geometry)\n",
    "peckel_subset = peckel_tile_gdf[intersections].reset_index(drop=True)\n",
    "peckel_subset"
   ]
  },
  {
   "cell_type": "markdown",
   "id": "0e10f91b-ae8d-4ab7-bd3b-013f12bf06d0",
   "metadata": {},
   "source": [
    "### Download tiles and clip them to chip geometry"
   ]
  },
  {
   "cell_type": "code",
   "execution_count": null,
   "id": "fb7186fe-04ee-4292-87b4-2f0cc584a942",
   "metadata": {
    "tags": []
   },
   "outputs": [],
   "source": [
    "to_merge = list()\n",
    "for url in peckel_subset.source_url:\n",
    "    print(url)\n",
    "    tile = rxr.open_rasterio(url, masked=True).squeeze()\n",
    "    tile = tile.rio.clip(geometry_gdf.geometry.apply(mapping), 'EPSG:4326')\n",
    "    to_merge.append(tile)\n",
    "to_merge"
   ]
  },
  {
   "cell_type": "markdown",
   "id": "9aaf7456-03fb-49e7-b2ee-88dc4d68e5b0",
   "metadata": {},
   "source": [
    "### Merge clipped tiles and output to GeoTiff"
   ]
  },
  {
   "cell_type": "code",
   "execution_count": null,
   "id": "44a51151-184d-4dfb-9ffe-0da8fdb6bb90",
   "metadata": {},
   "outputs": [],
   "source": [
    "merged = rxr.merge.merge_arrays(to_merge)\n",
    "merged.rio.to_raster(chip_dir/f\"pekel_occurance_{chip_id}.tif\")"
   ]
  }
 ],
 "metadata": {
  "kernelspec": {
   "display_name": "dswx_calval [conda env:.local-dswx_calval]",
   "language": "python",
   "name": "conda-env-.local-dswx_calval-py"
  },
  "language_info": {
   "codemirror_mode": {
    "name": "ipython",
    "version": 3
   },
   "file_extension": ".py",
   "mimetype": "text/x-python",
   "name": "python",
   "nbconvert_exporter": "python",
   "pygments_lexer": "ipython3",
   "version": "3.10.6"
  }
 },
 "nbformat": 4,
 "nbformat_minor": 5
}
