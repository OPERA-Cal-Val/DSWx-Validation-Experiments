{
 "cells": [
  {
   "cell_type": "code",
   "execution_count": null,
   "id": "3e6c1d28-7eea-408d-a871-32aa2c8797ce",
   "metadata": {},
   "outputs": [],
   "source": [
    "import geopandas as gpd\n",
    "from ipyfilechooser import FileChooser\n",
    "from pathlib import Path\n",
    "import rioxarray as rxr\n",
    "import rioxarray.merge\n",
    "from tqdm.auto import tqdm\n",
    "\n",
    "import s3fs\n",
    "from shapely.geometry import mapping"
   ]
  },
  {
   "cell_type": "markdown",
   "id": "9195b8c3-ac6f-4819-bc86-fc21b7049719",
   "metadata": {},
   "source": [
    "### Select the chip shape file"
   ]
  },
  {
   "cell_type": "code",
   "execution_count": null,
   "id": "52a0ed18-106a-4d1e-8cc0-57bb9010adc3",
   "metadata": {},
   "outputs": [],
   "source": [
    "print(\"Select the chip shape file generated in Notebook 0\")\n",
    "fc = FileChooser(Path.cwd())\n",
    "display(fc)"
   ]
  },
  {
   "cell_type": "markdown",
   "id": "63fe9e8b-ceaf-4164-8b0f-7dc76b041f3e",
   "metadata": {},
   "source": [
    "### Load the chip geometry from the chip shapefile"
   ]
  },
  {
   "cell_type": "code",
   "execution_count": null,
   "id": "c2fbcdda-d143-4f28-8f95-82ce80854039",
   "metadata": {},
   "outputs": [],
   "source": [
    "shape_path = Path(fc.selected)\n",
    "shape_path"
   ]
  },
  {
   "cell_type": "code",
   "execution_count": null,
   "id": "cf95e798-8698-4f1e-81d9-efbb93341654",
   "metadata": {},
   "outputs": [],
   "source": [
    "geometry_gdf = gpd.read_file(shape_path)\n",
    "geometry = geometry_gdf['geometry'][0]\n",
    "geometry"
   ]
  },
  {
   "cell_type": "markdown",
   "id": "dbe22481-df42-43ea-adfc-8ea6b427fa0a",
   "metadata": {},
   "source": [
    "### Collect the chip directory path and chip ID"
   ]
  },
  {
   "cell_type": "code",
   "execution_count": null,
   "id": "5e2ec8e0-ab58-4ebf-b0ef-161c70fd3c94",
   "metadata": {},
   "outputs": [],
   "source": [
    "chip_dir = shape_path.parent\n",
    "chip_id = chip_dir.name.split('_')[-1]\n",
    "chip_dir"
   ]
  },
  {
   "cell_type": "markdown",
   "id": "95330efa-89fc-4a22-af34-19079283fe87",
   "metadata": {},
   "source": [
    "### Download all ESA WorldCover tiles intersecting the chip"
   ]
  },
  {
   "cell_type": "code",
   "execution_count": null,
   "id": "57e573e2-bf6b-4c23-a768-e2639b15fc61",
   "metadata": {},
   "outputs": [],
   "source": [
    "bucket = \"s3://esa-worldcover/v100/2020\"\n",
    "s3 = s3fs.S3FileSystem(anon=True)\n",
    "\n",
    "geojson = f'{bucket}/esa_worldcover_2020_grid.geojson'\n",
    "grid = gpd.read_file(geojson)\n",
    "tiles = grid[grid.intersects(geometry)]\n",
    "\n",
    "for tile in tiles.ll_tile:\n",
    "    tile_path = f\"{bucket}/map/ESA_WorldCover_10m_2020_v100_{tile}_Map.tif\"\n",
    "    output_path = f\"{chip_dir}/{tile_path.split('/')[-1]}\"\n",
    "    s3.download(tile_path, output_path)"
   ]
  },
  {
   "cell_type": "markdown",
   "id": "c991480e-d70a-4581-bb01-7a43bc15311a",
   "metadata": {},
   "source": [
    "### Clip tiles to chip geometry and merge "
   ]
  },
  {
   "cell_type": "code",
   "execution_count": null,
   "id": "86170cf3-ab48-4fe7-8c3c-78d6576fed6a",
   "metadata": {},
   "outputs": [],
   "source": [
    "tile_paths = list(chip_dir.rglob(\"ESA_WorldCover_10m_2020_v100*.tif\"))\n",
    "\n",
    "to_merge = list()\n",
    "for tile_path in tqdm(tile_paths):\n",
    "    tile = rxr.open_rasterio(tile_path, masked=True).squeeze()\n",
    "    tile = tile.rio.clip(geometry_gdf.geometry.apply(mapping), 'EPSG:4326')\n",
    "    to_merge.append(tile)"
   ]
  },
  {
   "cell_type": "markdown",
   "id": "ee3a21d8-1d22-483f-be3e-f4362a33e7fa",
   "metadata": {},
   "source": [
    "### Write clipped, merged data to GeoTiff"
   ]
  },
  {
   "cell_type": "code",
   "execution_count": null,
   "id": "c881aac3-7e82-475d-83c9-142965c6bdb9",
   "metadata": {},
   "outputs": [],
   "source": [
    "merged = rxr.merge.merge_arrays(to_merge)\n",
    "merged.rio.to_raster(chip_dir/f\"ESA_WorldCover_10m_2020_v100_chip_{chip_id}.tif\")"
   ]
  },
  {
   "cell_type": "markdown",
   "id": "3b450f48-f5fd-489e-b0e6-d0dc79ea94ea",
   "metadata": {},
   "source": [
    "### Delete intermediary files"
   ]
  },
  {
   "cell_type": "code",
   "execution_count": null,
   "id": "affdabd8-12ae-4b9e-908a-58c9e8595587",
   "metadata": {},
   "outputs": [],
   "source": [
    "for p in tile_paths:\n",
    "    try:\n",
    "        p.unlink()\n",
    "    except FileNotFoundError:\n",
    "        pass"
   ]
  }
 ],
 "metadata": {
  "kernelspec": {
   "display_name": "dswx_calval [conda env:.local-dswx_calval]",
   "language": "python",
   "name": "conda-env-.local-dswx_calval-py"
  },
  "language_info": {
   "codemirror_mode": {
    "name": "ipython",
    "version": 3
   },
   "file_extension": ".py",
   "mimetype": "text/x-python",
   "name": "python",
   "nbconvert_exporter": "python",
   "pygments_lexer": "ipython3",
   "version": "3.10.6"
  }
 },
 "nbformat": 4,
 "nbformat_minor": 5
}
