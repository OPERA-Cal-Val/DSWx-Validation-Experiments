{
 "cells": [
  {
   "cell_type": "code",
   "execution_count": null,
   "id": "3e6c1d28-7eea-408d-a871-32aa2c8797ce",
   "metadata": {},
   "outputs": [],
   "source": [
    "import geopandas as gpd\n",
    "from ipyfilechooser import FileChooser\n",
    "from pathlib import Path\n",
    "import rasterio\n",
    "import re\n",
    "import requests\n",
    "from shapely.geometry import Polygon, box \n",
    "from tqdm.auto import tqdm "
   ]
  },
  {
   "cell_type": "markdown",
   "id": "9195b8c3-ac6f-4819-bc86-fc21b7049719",
   "metadata": {},
   "source": [
    "### Select the HLS data output from Notebook 0, which has been pre-processed and cropped to a chip"
   ]
  },
  {
   "cell_type": "code",
   "execution_count": null,
   "id": "52a0ed18-106a-4d1e-8cc0-57bb9010adc3",
   "metadata": {},
   "outputs": [],
   "source": [
    "print(\"Select the output preprocessed chip from Notebook 0\")\n",
    "fc = FileChooser(Path.cwd())\n",
    "display(fc)"
   ]
  },
  {
   "cell_type": "code",
   "execution_count": null,
   "id": "c2fbcdda-d143-4f28-8f95-82ce80854039",
   "metadata": {},
   "outputs": [],
   "source": [
    "chip_path = Path(fc.selected)\n",
    "chip_path"
   ]
  },
  {
   "cell_type": "markdown",
   "id": "edeadd93-acb3-4a62-a019-ea31bdd12298",
   "metadata": {},
   "source": [
    "### Grab the chip ID from the cropped image filename"
   ]
  },
  {
   "cell_type": "code",
   "execution_count": null,
   "id": "7f8644c8-1d24-4bbf-99db-0f8f37a332d4",
   "metadata": {},
   "outputs": [],
   "source": [
    "regex = \"(?<=/cropped_to_chip_)\\d+\"\n",
    "chip_id = int(re.search(regex, str(chip_path)).group(0))\n",
    "chip_id"
   ]
  },
  {
   "cell_type": "markdown",
   "id": "63fe9e8b-ceaf-4164-8b0f-7dc76b041f3e",
   "metadata": {},
   "source": [
    "### Create a Polygon from the bounds of the chip "
   ]
  },
  {
   "cell_type": "code",
   "execution_count": null,
   "id": "5d4530db-4359-4b83-8d71-9685a57119a7",
   "metadata": {},
   "outputs": [],
   "source": [
    "chips = gpd.read_file('ResampleblocksUpd.geojson')\n",
    "geometry = chips.loc[chips['random_id'][chip_id], ['geometry']][0]"
   ]
  },
  {
   "cell_type": "markdown",
   "id": "a5ad6b5c-c952-4160-952a-70ab7ee78d58",
   "metadata": {},
   "source": [
    "### Create an output directory for ESA WorldCover Data"
   ]
  },
  {
   "cell_type": "code",
   "execution_count": null,
   "id": "9c7f3b39-16aa-429b-8c00-36cb40fe5886",
   "metadata": {},
   "outputs": [],
   "source": [
    "output_dir = Path.cwd()/\"ESA_WorldCover_10m_2020_v1_data\"\n",
    "output_dir.mkdir(exist_ok=True)"
   ]
  },
  {
   "cell_type": "markdown",
   "id": "95330efa-89fc-4a22-af34-19079283fe87",
   "metadata": {},
   "source": [
    "### Download all ESA WorldCover tiles intersecting the chip"
   ]
  },
  {
   "cell_type": "code",
   "execution_count": null,
   "id": "0aa596f5-8d61-4145-bad0-53411b72d7c9",
   "metadata": {},
   "outputs": [],
   "source": [
    "s3_url_prefix = \"https://esa-worldcover.s3.eu-central-1.amazonaws.com\"\n",
    "\n",
    "# load worldcover grid\n",
    "url = f'{s3_url_prefix}/v100/2020/esa_worldcover_2020_grid.geojson'\n",
    "grid = gpd.read_file(url)\n",
    "\n",
    "# get grid tiles intersecting AOI\n",
    "tiles = grid[grid.intersects(geometry)]\n",
    "\n",
    "for tile in tqdm(tiles.ll_tile):\n",
    "    url = f\"{s3_url_prefix}/v100/2020/map/ESA_WorldCover_10m_2020_v100_{tile}_Map.tif\\n\"\n",
    "    r = requests.get(url, allow_redirects=True)\n",
    "    out_fn = output_dir/f\"ESA_WorldCover_10m_2020_v100_{tile}_Map.tif\"\n",
    "    with open(out_fn, 'wb') as f:\n",
    "        f.write(r.content)"
   ]
  },
  {
   "cell_type": "code",
   "execution_count": null,
   "id": "70089372-ef8e-4807-a75a-d774fce5c01c",
   "metadata": {},
   "outputs": [],
   "source": []
  }
 ],
 "metadata": {
  "kernelspec": {
   "display_name": "dswx_calval [conda env:.local-dswx_calval]",
   "language": "python",
   "name": "conda-env-.local-dswx_calval-py"
  },
  "language_info": {
   "codemirror_mode": {
    "name": "ipython",
    "version": 3
   },
   "file_extension": ".py",
   "mimetype": "text/x-python",
   "name": "python",
   "nbconvert_exporter": "python",
   "pygments_lexer": "ipython3",
   "version": "3.10.6"
  }
 },
 "nbformat": 4,
 "nbformat_minor": 5
}
