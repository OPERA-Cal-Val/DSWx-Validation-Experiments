{
 "cells": [
  {
   "cell_type": "code",
   "execution_count": null,
   "id": "constant-arctic",
   "metadata": {
    "ExecuteTime": {
     "end_time": "2022-06-24T18:16:41.004921Z",
     "start_time": "2022-06-24T18:16:39.863887Z"
    }
   },
   "outputs": [],
   "source": [
    "import geopandas as gpd\n",
    "from shapely import wkt"
   ]
  },
  {
   "cell_type": "code",
   "execution_count": null,
   "id": "happy-request",
   "metadata": {
    "ExecuteTime": {
     "end_time": "2022-06-24T18:16:41.090007Z",
     "start_time": "2022-06-24T18:16:41.028563Z"
    }
   },
   "outputs": [],
   "source": [
    "df = gpd.read_file('chips.geojson')\n",
    "df.head()"
   ]
  },
  {
   "cell_type": "code",
   "execution_count": null,
   "id": "e79d849b-5d3e-4231-ad13-556a16c0f4fe",
   "metadata": {},
   "outputs": [],
   "source": [
    "def get_rect_poly_wkt_from_center_pt(center_x, center_y, km_from_center):\n",
    "    x_km_lon_deg = km_from_center / 111\n",
    "    y_km_lat_deg = km_from_center / 110\n",
    "\n",
    "    left_x = center_x - x_km_lon_deg\n",
    "    right_x = center_x + x_km_lon_deg\n",
    "    bottom_y = center_y - y_km_lat_deg\n",
    "    top_y = center_y + y_km_lat_deg\n",
    "    \n",
    "    well_kt = f'POLYGON(({left_x} {top_y}, {right_x} {top_y}, {right_x} {bottom_y}, {left_x} {bottom_y}, {left_x} {top_y}))'\n",
    "    \n",
    "    return well_kt"
   ]
  },
  {
   "cell_type": "code",
   "execution_count": null,
   "id": "7ff7015c-208b-4583-83d0-04c76ffe5284",
   "metadata": {},
   "outputs": [],
   "source": [
    "new_geoms = [wkt.loads(get_rect_poly_wkt_from_center_pt(df['CENTERX'][i], df['CENTERY'][i], 3)) for i in range(0, len(df))]"
   ]
  },
  {
   "cell_type": "code",
   "execution_count": null,
   "id": "c1e85f5a-4a7e-4a61-8e56-27bd9ee96796",
   "metadata": {},
   "outputs": [],
   "source": [
    "df = df.set_geometry(new_geoms)"
   ]
  },
  {
   "cell_type": "code",
   "execution_count": null,
   "id": "bound-feedback",
   "metadata": {
    "ExecuteTime": {
     "end_time": "2022-06-24T18:16:42.821744Z",
     "start_time": "2022-06-24T18:16:42.812034Z"
    }
   },
   "outputs": [],
   "source": [
    "df.head()"
   ]
  },
  {
   "cell_type": "code",
   "execution_count": null,
   "id": "super-dover",
   "metadata": {
    "ExecuteTime": {
     "end_time": "2022-06-24T18:16:44.796846Z",
     "start_time": "2022-06-24T18:16:44.747525Z"
    }
   },
   "outputs": [],
   "source": [
    "df.to_file('6km_chips.geojson', driver='GeoJSON')"
   ]
  },
  {
   "cell_type": "code",
   "execution_count": null,
   "id": "5476834a-bc8f-49e2-8cb7-6e3dfcb76728",
   "metadata": {},
   "outputs": [],
   "source": []
  }
 ],
 "metadata": {
  "kernelspec": {
   "display_name": "dswx_calval [conda env:.local-dswx_calval]",
   "language": "python",
   "name": "conda-env-.local-dswx_calval-py"
  },
  "language_info": {
   "codemirror_mode": {
    "name": "ipython",
    "version": 3
   },
   "file_extension": ".py",
   "mimetype": "text/x-python",
   "name": "python",
   "nbconvert_exporter": "python",
   "pygments_lexer": "ipython3",
   "version": "3.10.6"
  }
 },
 "nbformat": 4,
 "nbformat_minor": 5
}
